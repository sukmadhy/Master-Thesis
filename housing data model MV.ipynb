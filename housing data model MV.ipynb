{
 "cells": [
  {
   "cell_type": "markdown",
   "id": "c71d7d33",
   "metadata": {},
   "source": [
    "## Decision Tree Classifier"
   ]
  },
  {
   "cell_type": "code",
   "execution_count": 66,
   "id": "302807af",
   "metadata": {
    "scrolled": false
   },
   "outputs": [
    {
     "name": "stdout",
     "output_type": "stream",
     "text": [
      "Decision Tree\n",
      "Accuracy for hd1_FMV_mean.csv: 0.9144736842105263\n",
      "Accuracy: 0.91\n",
      "\n",
      "Decision Tree\n",
      "Accuracy for hd2_FMV_median.csv: 0.9078947368421053\n",
      "Accuracy: 0.91\n",
      "\n",
      "Decision Tree\n",
      "Accuracy for hd3_FMV_mode.csv: 0.9210526315789473\n",
      "Accuracy: 0.92\n",
      "\n",
      "Decision Tree\n",
      "Accuracy for hd4_FMV_stdmean.csv: 0.9473684210526315\n",
      "Accuracy: 0.95\n",
      "\n",
      "Decision Tree\n",
      "Accuracy for hd5_FMV_minmax.csv: 0.9276315789473685\n",
      "Accuracy: 0.93\n",
      "\n",
      "Decision Tree\n",
      "Accuracy for hd6_FMV_interpolation.csv: 0.9342105263157895\n",
      "Accuracy: 0.93\n",
      "\n",
      "Decision Tree\n",
      "Accuracy for hd7_FMV_drop.csv: 0.9159663865546218\n",
      "Accuracy: 0.92\n",
      "\n"
     ]
    }
   ],
   "source": [
    "import pandas as pd\n",
    "from sklearn.model_selection import train_test_split\n",
    "from sklearn.metrics import accuracy_score\n",
    "from sklearn.tree import DecisionTreeClassifier\n",
    "import numpy as np\n",
    "import random\n",
    "np.random.seed(0)\n",
    "\n",
    "dataset_files = ['hd1_FMV_mean.csv', \n",
    "                 'hd2_FMV_median.csv',\n",
    "                 'hd3_FMV_mode.csv',\n",
    "                 'hd4_FMV_stdmean.csv',\n",
    "                 'hd5_FMV_minmax.csv',\n",
    "                 'hd6_FMV_interpolation.csv',\n",
    "                 'hd7_FMV_drop.csv']\n",
    "\n",
    "for dataset_file in dataset_files:\n",
    "    df = pd.read_csv(dataset_file)\n",
    "    X = df.drop('CHAS', axis=1)  \n",
    "    y = df['CHAS']\n",
    "\n",
    "    X_train, X_test, y_train, y_test = train_test_split(X, y, test_size=0.3, random_state=42)\n",
    "\n",
    "    model = DecisionTreeClassifier()\n",
    "    model.fit(X_train, y_train)\n",
    "\n",
    "    y_pred = model.predict(X_test)\n",
    "    accuracy = accuracy_score(y_test, y_pred)\n",
    "    \n",
    "    print(f\"Decision Tree\")\n",
    "    print(f\"Accuracy for {dataset_file}: {accuracy}\")\n",
    "    print(f'Accuracy: {accuracy:.2f}\\n')\n"
   ]
  },
  {
   "cell_type": "markdown",
   "id": "6cfcba22",
   "metadata": {},
   "source": [
    "## Random Forest Classifier"
   ]
  },
  {
   "cell_type": "code",
   "execution_count": 61,
   "id": "f5d23e03",
   "metadata": {
    "scrolled": false
   },
   "outputs": [
    {
     "name": "stdout",
     "output_type": "stream",
     "text": [
      "Random Forest:\n",
      "Accuracy for hd1_FMV_mean.csv: 0.9144736842105263\n",
      "Accuracy: 0.91\n",
      "\n",
      "Random Forest:\n",
      "Accuracy for hd2_FMV_median.csv: 0.9276315789473685\n",
      "Accuracy: 0.93\n",
      "\n",
      "Random Forest:\n",
      "Accuracy for hd3_FMV_mode.csv: 0.9276315789473685\n",
      "Accuracy: 0.93\n",
      "\n",
      "Random Forest:\n",
      "Accuracy for hd4_FMV_stdmean.csv: 0.9342105263157895\n",
      "Accuracy: 0.93\n",
      "\n",
      "Random Forest:\n",
      "Accuracy for hd5_FMV_minmax.csv: 0.9210526315789473\n",
      "Accuracy: 0.92\n",
      "\n",
      "Random Forest:\n",
      "Accuracy for hd6_FMV_interpolation.csv: 0.9210526315789473\n",
      "Accuracy: 0.92\n",
      "\n",
      "Random Forest:\n",
      "Accuracy for hd7_FMV_drop.csv: 0.9243697478991597\n",
      "Accuracy: 0.92\n",
      "\n"
     ]
    }
   ],
   "source": [
    "import pandas as pd\n",
    "from sklearn.model_selection import train_test_split\n",
    "from sklearn.ensemble import RandomForestClassifier\n",
    "from sklearn.metrics import accuracy_score\n",
    "import numpy as np\n",
    "import random\n",
    "np.random.seed(0)\n",
    "\n",
    "dataset_files = ['hd1_FMV_mean.csv', \n",
    "                 'hd2_FMV_median.csv',\n",
    "                 'hd3_FMV_mode.csv',\n",
    "                 'hd4_FMV_stdmean.csv',\n",
    "                 'hd5_FMV_minmax.csv',\n",
    "                 'hd6_FMV_interpolation.csv',\n",
    "                 'hd7_FMV_drop.csv']\n",
    "\n",
    "for dataset_file in dataset_files:\n",
    "    df = pd.read_csv(dataset_file)\n",
    "    X = df.drop('CHAS', axis=1)  \n",
    "    y = df['CHAS']\n",
    "    \n",
    "    X_train, X_test, y_train, y_test = train_test_split(X, y, \n",
    "    test_size=0.3, random_state=42)\n",
    "\n",
    "    model = RandomForestClassifier()\n",
    "    model.fit(X_train, y_train)\n",
    "\n",
    "    y_pred = model.predict(X_test)\n",
    "    accuracy = accuracy_score(y_test, y_pred)\n",
    "    \n",
    "    print(f\"Random Forest:\")\n",
    "    print(f\"Accuracy for {dataset_file}: {accuracy}\")\n",
    "    print(f'Accuracy: {accuracy:.2f}\\n')"
   ]
  },
  {
   "cell_type": "markdown",
   "id": "72381ba4",
   "metadata": {},
   "source": [
    "## Logistic Regression"
   ]
  },
  {
   "cell_type": "code",
   "execution_count": 64,
   "id": "13411e53",
   "metadata": {
    "scrolled": false
   },
   "outputs": [
    {
     "name": "stdout",
     "output_type": "stream",
     "text": [
      "Logistic regression:\n",
      "Accuracy for hd1_FMV_mean.csv: 0.9342105263157895\n",
      "Accuracy: 0.93\n",
      "\n",
      "Logistic regression:\n",
      "Accuracy for hd2_FMV_median.csv: 0.9342105263157895\n",
      "Accuracy: 0.93\n",
      "\n",
      "Logistic regression:\n",
      "Accuracy for hd3_FMV_mode.csv: 0.9407894736842105\n",
      "Accuracy: 0.94\n",
      "\n",
      "Logistic regression:\n",
      "Accuracy for hd4_FMV_stdmean.csv: 0.9407894736842105\n",
      "Accuracy: 0.94\n",
      "\n",
      "Logistic regression:\n",
      "Accuracy for hd5_FMV_minmax.csv: 0.9407894736842105\n",
      "Accuracy: 0.94\n",
      "\n",
      "Logistic regression:\n",
      "Accuracy for hd6_FMV_interpolation.csv: 0.9407894736842105\n",
      "Accuracy: 0.94\n",
      "\n",
      "Logistic regression:\n",
      "Accuracy for hd7_FMV_drop.csv: 0.9243697478991597\n",
      "Accuracy: 0.92\n",
      "\n"
     ]
    }
   ],
   "source": [
    "import pandas as pd\n",
    "from sklearn.model_selection import train_test_split\n",
    "from sklearn.metrics import accuracy_score\n",
    "from sklearn.linear_model import LogisticRegression\n",
    "import warnings\n",
    "warnings.filterwarnings(\"ignore\")\n",
    "import numpy as np\n",
    "import random\n",
    "np.random.seed(0)\n",
    "\n",
    "dataset_files = ['hd1_FMV_mean.csv', \n",
    "                 'hd2_FMV_median.csv',\n",
    "                 'hd3_FMV_mode.csv',\n",
    "                 'hd4_FMV_stdmean.csv',\n",
    "                 'hd5_FMV_minmax.csv',\n",
    "                 'hd6_FMV_interpolation.csv',\n",
    "                 'hd7_FMV_drop.csv']\n",
    "\n",
    "for dataset_file in dataset_files:\n",
    "    df = pd.read_csv(dataset_file)\n",
    "    X = df.drop('CHAS', axis=1)  \n",
    "    y = df['CHAS']\n",
    "\n",
    "    X_train, X_test, y_train, y_test = train_test_split(X, y, \n",
    "    test_size=0.3, random_state=42)\n",
    "\n",
    "    model = LogisticRegression()\n",
    "    model.fit(X_train, y_train)\n",
    "    \n",
    "    y_pred = model.predict(X_test)\n",
    "    accuracy = accuracy_score(y_test, y_pred)\n",
    "    f1 = f1_score(y_test, y_pred)\n",
    "    \n",
    "    print(f\"Logistic regression:\")\n",
    "    print(f\"Accuracy for {dataset_file}: {accuracy}\")\n",
    "    print(f'Accuracy: {accuracy:.2f}\\n')\n",
    "    "
   ]
  },
  {
   "cell_type": "code",
   "execution_count": null,
   "id": "5c0fda90",
   "metadata": {},
   "outputs": [],
   "source": []
  },
  {
   "cell_type": "code",
   "execution_count": null,
   "id": "ca4909dc",
   "metadata": {},
   "outputs": [],
   "source": []
  }
 ],
 "metadata": {
  "kernelspec": {
   "display_name": "Python 3 (ipykernel)",
   "language": "python",
   "name": "python3"
  },
  "language_info": {
   "codemirror_mode": {
    "name": "ipython",
    "version": 3
   },
   "file_extension": ".py",
   "mimetype": "text/x-python",
   "name": "python",
   "nbconvert_exporter": "python",
   "pygments_lexer": "ipython3",
   "version": "3.8.13"
  }
 },
 "nbformat": 4,
 "nbformat_minor": 5
}
