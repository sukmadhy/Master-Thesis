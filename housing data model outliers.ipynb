{
 "cells": [
  {
   "cell_type": "markdown",
   "id": "c71d7d33",
   "metadata": {},
   "source": [
    "## Decision Tree Classifier"
   ]
  },
  {
   "cell_type": "code",
   "execution_count": 29,
   "id": "7ace578e",
   "metadata": {},
   "outputs": [
    {
     "name": "stdout",
     "output_type": "stream",
     "text": [
      "\n",
      "Decision Tree Classifier:\n",
      "Accuracy for hd1_outlier_iqr.csv: 0.9342105263157895\n",
      "Accuracy: 0.93\n",
      "\n",
      "Decision Tree Classifier:\n",
      "Accuracy for hd2_outlier_std.csv: 0.9342105263157895\n",
      "Accuracy: 0.93\n",
      "\n",
      "Decision Tree Classifier:\n",
      "Accuracy for hd3_outlier_percentile.csv: 0.9276315789473685\n",
      "Accuracy: 0.93\n",
      "\n",
      "Decision Tree Classifier:\n",
      "Accuracy for hd4_outlier_remove.csv: 0.9328859060402684\n",
      "Accuracy: 0.93\n"
     ]
    }
   ],
   "source": [
    "import pandas as pd\n",
    "import numpy as np\n",
    "import random\n",
    "from sklearn.model_selection import train_test_split\n",
    "from sklearn.tree import DecisionTreeClassifier\n",
    "from sklearn.metrics import accuracy_score\n",
    "from sklearn.impute import SimpleImputer\n",
    "np.random.seed(0)\n",
    "\n",
    "# List of dataset filenames\n",
    "dataset_files = ['hd1_outlier_iqr.csv',\n",
    "                 'hd2_outlier_std.csv',\n",
    "                 'hd3_outlier_percentile.csv',\n",
    "                 'hd4_outlier_remove.csv']\n",
    "\n",
    "for dataset_file in dataset_files:\n",
    "    df = pd.read_csv(dataset_file)\n",
    "\n",
    "    X = df.drop('CHAS', axis=1)  \n",
    "    y = df['CHAS']\n",
    "    X_train, X_test, y_train, y_test = train_test_split(X, y, \n",
    "    test_size=0.3, random_state=42)\n",
    "    \n",
    "    imputer = SimpleImputer(strategy='median')\n",
    "    X_train_imputed = imputer.fit_transform(X_train)\n",
    "    X_test_imputed = imputer.transform(X_test)\n",
    " \n",
    "    model = DecisionTreeClassifier(random_state=42)\n",
    "    model.fit(X_train_imputed, y_train)\n",
    "\n",
    "    y_pred = model.predict(X_test_imputed)\n",
    "    accuracy = accuracy_score(y_test, y_pred)\n",
    "\n",
    "    print(f\"\\nDecision Tree Classifier:\")\n",
    "    print(f\"Accuracy for {dataset_file}: {accuracy}\")\n",
    "    print(f'Accuracy: {accuracy:.2f}')"
   ]
  },
  {
   "cell_type": "markdown",
   "id": "6cfcba22",
   "metadata": {},
   "source": [
    "## Random Forest Classifier"
   ]
  },
  {
   "cell_type": "code",
   "execution_count": 30,
   "id": "f5d23e03",
   "metadata": {
    "scrolled": false
   },
   "outputs": [
    {
     "name": "stdout",
     "output_type": "stream",
     "text": [
      "\n",
      "Random Forest Classifier:\n",
      "Accuracy for hd1_outlier_iqr.csv: 0.9407894736842105\n",
      "Accuracy: 0.94\n",
      "\n",
      "Random Forest Classifier:\n",
      "Accuracy for hd2_outlier_std.csv: 0.9276315789473685\n",
      "Accuracy: 0.93\n",
      "\n",
      "Random Forest Classifier:\n",
      "Accuracy for hd3_outlier_percentile.csv: 0.9210526315789473\n",
      "Accuracy: 0.92\n",
      "\n",
      "Random Forest Classifier:\n",
      "Accuracy for hd4_outlier_remove.csv: 0.9395973154362416\n",
      "Accuracy: 0.94\n"
     ]
    }
   ],
   "source": [
    "from sklearn.model_selection import train_test_split\n",
    "from sklearn.ensemble import RandomForestClassifier\n",
    "from sklearn.metrics import accuracy_score\n",
    "from sklearn.impute import SimpleImputer\n",
    "import pandas as pd\n",
    "import numpy as np\n",
    "import random\n",
    "np.random.seed(0)\n",
    "\n",
    "dataset_files = ['hd1_outlier_iqr.csv',\n",
    "                 'hd2_outlier_std.csv',\n",
    "                 'hd3_outlier_percentile.csv',\n",
    "                 'hd4_outlier_remove.csv']\n",
    "\n",
    "for dataset_file in dataset_files:\n",
    "    df = pd.read_csv(dataset_file)\n",
    "\n",
    "    X = df.drop('CHAS', axis=1)  \n",
    "    y = df['CHAS']\n",
    "    X_train, X_test, y_train, y_test = train_test_split(X, y, \n",
    "    test_size=0.3, random_state=42)\n",
    "    \n",
    "    imputer = SimpleImputer(strategy='median')\n",
    "    X_train_imputed = imputer.fit_transform(X_train)\n",
    "    X_test_imputed = imputer.transform(X_test)\n",
    "\n",
    "    model = RandomForestClassifier()\n",
    "    model.fit(X_train_imputed, y_train)\n",
    "\n",
    "    y_pred = model.predict(X_test_imputed)\n",
    "    accuracy = accuracy_score(y_test, y_pred)\n",
    "    \n",
    "    print(f\"\\nRandom Forest Classifier:\")\n",
    "    print(f\"Accuracy for {dataset_file}: {accuracy}\")\n",
    "    print(f'Accuracy: {accuracy:.2f}')\n"
   ]
  },
  {
   "cell_type": "markdown",
   "id": "72381ba4",
   "metadata": {},
   "source": [
    "## Logistic Regression"
   ]
  },
  {
   "cell_type": "code",
   "execution_count": 32,
   "id": "13411e53",
   "metadata": {
    "scrolled": false
   },
   "outputs": [
    {
     "name": "stdout",
     "output_type": "stream",
     "text": [
      "\n",
      "Logistic Regression:\n",
      "Accuracy for hd1_outlier_iqr.csv: 0.9342105263157895\n",
      "Accuracy: 0.93\n",
      "\n",
      "Logistic Regression:\n",
      "Accuracy for hd2_outlier_std.csv: 0.9407894736842105\n",
      "Accuracy: 0.94\n",
      "\n",
      "Logistic Regression:\n",
      "Accuracy for hd3_outlier_percentile.csv: 0.9407894736842105\n",
      "Accuracy: 0.94\n",
      "\n",
      "Logistic Regression:\n",
      "Accuracy for hd4_outlier_remove.csv: 0.9395973154362416\n",
      "Accuracy: 0.94\n"
     ]
    }
   ],
   "source": [
    "from sklearn.model_selection import train_test_split\n",
    "from sklearn.metrics import accuracy_score\n",
    "from sklearn.linear_model import LogisticRegression\n",
    "from sklearn.impute import SimpleImputer\n",
    "import warnings\n",
    "warnings.filterwarnings(\"ignore\")\n",
    "import pandas as pd\n",
    "import numpy as np\n",
    "import random\n",
    "np.random.seed(0)\n",
    "\n",
    "dataset_files = ['hd1_outlier_iqr.csv',\n",
    "                 'hd2_outlier_std.csv',\n",
    "                 'hd3_outlier_percentile.csv',\n",
    "                 'hd4_outlier_remove.csv']\n",
    "\n",
    "for dataset_file in dataset_files:\n",
    "    df = pd.read_csv(dataset_file)\n",
    "\n",
    "    X = df.drop('CHAS', axis=1)  \n",
    "    y = df['CHAS']\n",
    "    X_train, X_test, y_train, y_test = train_test_split(X, y, \n",
    "    test_size=0.3, random_state=42)\n",
    "    \n",
    "    imputer = SimpleImputer(strategy='median')\n",
    "    X_train_imputed = imputer.fit_transform(X_train)\n",
    "    X_test_imputed = imputer.transform(X_test)\n",
    "    \n",
    "    model = LogisticRegression()\n",
    "    model.fit(X_train_imputed, y_train)\n",
    "\n",
    "    y_pred = model.predict(X_test_imputed)\n",
    "    accuracy = accuracy_score(y_test, y_pred)\n",
    "    \n",
    "    print(f\"\\nLogistic Regression:\")\n",
    "    print(f\"Accuracy for {dataset_file}: {accuracy}\")\n",
    "    print(f'Accuracy: {accuracy:.2f}')\n",
    "\n",
    "    "
   ]
  },
  {
   "cell_type": "code",
   "execution_count": null,
   "id": "ca4909dc",
   "metadata": {},
   "outputs": [],
   "source": []
  }
 ],
 "metadata": {
  "kernelspec": {
   "display_name": "Python 3 (ipykernel)",
   "language": "python",
   "name": "python3"
  },
  "language_info": {
   "codemirror_mode": {
    "name": "ipython",
    "version": 3
   },
   "file_extension": ".py",
   "mimetype": "text/x-python",
   "name": "python",
   "nbconvert_exporter": "python",
   "pygments_lexer": "ipython3",
   "version": "3.8.13"
  }
 },
 "nbformat": 4,
 "nbformat_minor": 5
}
