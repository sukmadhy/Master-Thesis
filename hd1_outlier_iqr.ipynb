{
 "cells": [
  {
   "cell_type": "markdown",
   "id": "6ac55863",
   "metadata": {},
   "source": [
    "## Import libraries"
   ]
  },
  {
   "cell_type": "code",
   "execution_count": 516,
   "id": "afaff21b",
   "metadata": {},
   "outputs": [],
   "source": [
    "import pandas as pd\n",
    "import numpy as np\n",
    "import seaborn as sns\n",
    "import matplotlib.pyplot as plt\n",
    "import warnings\n",
    "warnings.filterwarnings('ignore')"
   ]
  },
  {
   "cell_type": "markdown",
   "id": "2fe5d925",
   "metadata": {},
   "source": [
    "## import dataset"
   ]
  },
  {
   "cell_type": "code",
   "execution_count": 517,
   "id": "6f13eb70",
   "metadata": {},
   "outputs": [
    {
     "name": "stdout",
     "output_type": "stream",
     "text": [
      "<class 'pandas.core.frame.DataFrame'>\n",
      "RangeIndex: 506 entries, 0 to 505\n",
      "Data columns (total 14 columns):\n",
      " #   Column   Non-Null Count  Dtype  \n",
      "---  ------   --------------  -----  \n",
      " 0   CRIM     486 non-null    float64\n",
      " 1   ZN       486 non-null    float64\n",
      " 2   INDUS    486 non-null    float64\n",
      " 3   CHAS     486 non-null    float64\n",
      " 4   NOX      506 non-null    float64\n",
      " 5   RM       506 non-null    float64\n",
      " 6   AGE      486 non-null    float64\n",
      " 7   DIS      506 non-null    float64\n",
      " 8   RAD      506 non-null    int64  \n",
      " 9   TAX      506 non-null    int64  \n",
      " 10  PTRATIO  506 non-null    float64\n",
      " 11  B        506 non-null    float64\n",
      " 12  LSTAT    486 non-null    float64\n",
      " 13  MEDV     506 non-null    float64\n",
      "dtypes: float64(12), int64(2)\n",
      "memory usage: 55.5 KB\n"
     ]
    }
   ],
   "source": [
    "df = pd.read_csv('HousingData.csv')\n",
    "df.info()"
   ]
  },
  {
   "cell_type": "code",
   "execution_count": 518,
   "id": "ae7f3770",
   "metadata": {},
   "outputs": [
    {
     "data": {
      "text/html": [
       "<div>\n",
       "<style scoped>\n",
       "    .dataframe tbody tr th:only-of-type {\n",
       "        vertical-align: middle;\n",
       "    }\n",
       "\n",
       "    .dataframe tbody tr th {\n",
       "        vertical-align: top;\n",
       "    }\n",
       "\n",
       "    .dataframe thead th {\n",
       "        text-align: right;\n",
       "    }\n",
       "</style>\n",
       "<table border=\"1\" class=\"dataframe\">\n",
       "  <thead>\n",
       "    <tr style=\"text-align: right;\">\n",
       "      <th></th>\n",
       "      <th>CRIM</th>\n",
       "      <th>ZN</th>\n",
       "      <th>INDUS</th>\n",
       "      <th>CHAS</th>\n",
       "      <th>NOX</th>\n",
       "      <th>RM</th>\n",
       "      <th>AGE</th>\n",
       "      <th>DIS</th>\n",
       "      <th>RAD</th>\n",
       "      <th>TAX</th>\n",
       "      <th>PTRATIO</th>\n",
       "      <th>B</th>\n",
       "      <th>LSTAT</th>\n",
       "      <th>MEDV</th>\n",
       "    </tr>\n",
       "  </thead>\n",
       "  <tbody>\n",
       "    <tr>\n",
       "      <th>501</th>\n",
       "      <td>0.06263</td>\n",
       "      <td>0.0</td>\n",
       "      <td>11.93</td>\n",
       "      <td>0.0</td>\n",
       "      <td>0.573</td>\n",
       "      <td>6.593</td>\n",
       "      <td>69.1</td>\n",
       "      <td>2.4786</td>\n",
       "      <td>1</td>\n",
       "      <td>273</td>\n",
       "      <td>21.0</td>\n",
       "      <td>391.99</td>\n",
       "      <td>NaN</td>\n",
       "      <td>22.4</td>\n",
       "    </tr>\n",
       "    <tr>\n",
       "      <th>502</th>\n",
       "      <td>0.04527</td>\n",
       "      <td>0.0</td>\n",
       "      <td>11.93</td>\n",
       "      <td>0.0</td>\n",
       "      <td>0.573</td>\n",
       "      <td>6.120</td>\n",
       "      <td>76.7</td>\n",
       "      <td>2.2875</td>\n",
       "      <td>1</td>\n",
       "      <td>273</td>\n",
       "      <td>21.0</td>\n",
       "      <td>396.90</td>\n",
       "      <td>9.08</td>\n",
       "      <td>20.6</td>\n",
       "    </tr>\n",
       "    <tr>\n",
       "      <th>503</th>\n",
       "      <td>0.06076</td>\n",
       "      <td>0.0</td>\n",
       "      <td>11.93</td>\n",
       "      <td>0.0</td>\n",
       "      <td>0.573</td>\n",
       "      <td>6.976</td>\n",
       "      <td>91.0</td>\n",
       "      <td>2.1675</td>\n",
       "      <td>1</td>\n",
       "      <td>273</td>\n",
       "      <td>21.0</td>\n",
       "      <td>396.90</td>\n",
       "      <td>5.64</td>\n",
       "      <td>23.9</td>\n",
       "    </tr>\n",
       "    <tr>\n",
       "      <th>504</th>\n",
       "      <td>0.10959</td>\n",
       "      <td>0.0</td>\n",
       "      <td>11.93</td>\n",
       "      <td>0.0</td>\n",
       "      <td>0.573</td>\n",
       "      <td>6.794</td>\n",
       "      <td>89.3</td>\n",
       "      <td>2.3889</td>\n",
       "      <td>1</td>\n",
       "      <td>273</td>\n",
       "      <td>21.0</td>\n",
       "      <td>393.45</td>\n",
       "      <td>6.48</td>\n",
       "      <td>22.0</td>\n",
       "    </tr>\n",
       "    <tr>\n",
       "      <th>505</th>\n",
       "      <td>0.04741</td>\n",
       "      <td>0.0</td>\n",
       "      <td>11.93</td>\n",
       "      <td>0.0</td>\n",
       "      <td>0.573</td>\n",
       "      <td>6.030</td>\n",
       "      <td>NaN</td>\n",
       "      <td>2.5050</td>\n",
       "      <td>1</td>\n",
       "      <td>273</td>\n",
       "      <td>21.0</td>\n",
       "      <td>396.90</td>\n",
       "      <td>7.88</td>\n",
       "      <td>11.9</td>\n",
       "    </tr>\n",
       "  </tbody>\n",
       "</table>\n",
       "</div>"
      ],
      "text/plain": [
       "        CRIM   ZN  INDUS  CHAS    NOX     RM   AGE     DIS  RAD  TAX  PTRATIO  \\\n",
       "501  0.06263  0.0  11.93   0.0  0.573  6.593  69.1  2.4786    1  273     21.0   \n",
       "502  0.04527  0.0  11.93   0.0  0.573  6.120  76.7  2.2875    1  273     21.0   \n",
       "503  0.06076  0.0  11.93   0.0  0.573  6.976  91.0  2.1675    1  273     21.0   \n",
       "504  0.10959  0.0  11.93   0.0  0.573  6.794  89.3  2.3889    1  273     21.0   \n",
       "505  0.04741  0.0  11.93   0.0  0.573  6.030   NaN  2.5050    1  273     21.0   \n",
       "\n",
       "          B  LSTAT  MEDV  \n",
       "501  391.99    NaN  22.4  \n",
       "502  396.90   9.08  20.6  \n",
       "503  396.90   5.64  23.9  \n",
       "504  393.45   6.48  22.0  \n",
       "505  396.90   7.88  11.9  "
      ]
     },
     "execution_count": 518,
     "metadata": {},
     "output_type": "execute_result"
    }
   ],
   "source": [
    "df.tail()"
   ]
  },
  {
   "cell_type": "markdown",
   "id": "0b9b0ff7",
   "metadata": {},
   "source": [
    "#### Since the classification depends on CHAS column, therefore it cannot have missing data."
   ]
  },
  {
   "cell_type": "code",
   "execution_count": 519,
   "id": "4911eba4",
   "metadata": {},
   "outputs": [
    {
     "data": {
      "text/plain": [
       "0"
      ]
     },
     "execution_count": 519,
     "metadata": {},
     "output_type": "execute_result"
    }
   ],
   "source": [
    "df.CHAS.fillna(df.CHAS.mode()[0], inplace=True)\n",
    "df.CHAS.isna().sum()"
   ]
  },
  {
   "cell_type": "markdown",
   "id": "b271e7fb",
   "metadata": {},
   "source": [
    "# Outliers"
   ]
  },
  {
   "cell_type": "code",
   "execution_count": 520,
   "id": "c169c5d6",
   "metadata": {
    "scrolled": false
   },
   "outputs": [
    {
     "name": "stdout",
     "output_type": "stream",
     "text": [
      "CRIM has 12.85% outliers based on IQR\n",
      "ZN has 12.45% outliers based on IQR\n",
      "INDUS has 0.00% outliers based on IQR\n",
      "CHAS has 100.00% outliers based on IQR\n",
      "NOX has 0.00% outliers based on IQR\n",
      "RM has 5.93% outliers based on IQR\n",
      "AGE has 0.00% outliers based on IQR\n",
      "DIS has 0.99% outliers based on IQR\n",
      "RAD has 0.00% outliers based on IQR\n",
      "TAX has 0.00% outliers based on IQR\n",
      "PTRATIO has 2.96% outliers based on IQR\n",
      "B has 15.22% outliers based on IQR\n",
      "LSTAT has 1.38% outliers based on IQR\n",
      "MEDV has 7.91% outliers based on IQR\n"
     ]
    }
   ],
   "source": [
    "for k, v in df.items():\n",
    "    Q1 = v.quantile(0.25)\n",
    "    Q3 = v.quantile(0.75)\n",
    "    IQR = Q3 - Q1\n",
    "    v_col = v[(v <= Q1 - 1.5 * IQR) | (v >= Q3 + 1.5 * IQR)]\n",
    "    perc = np.shape(v_col)[0] * 100.0 / np.shape(df)[0]\n",
    "    print(f\"{k} has {perc:.2f}% outliers based on IQR\")"
   ]
  },
  {
   "cell_type": "code",
   "execution_count": 524,
   "id": "ca7a6787",
   "metadata": {},
   "outputs": [
    {
     "data": {
      "image/png": "[encoded data removed]",
      "text/plain": [
       "<Figure size 2000x1000 with 14 Axes>"
      ]
     },
     "metadata": {},
     "output_type": "display_data"
    }
   ],
   "source": [
    "fig, axs = plt.subplots(ncols=7, nrows=2, figsize=(20, 10))\n",
    "index = 0\n",
    "axs = axs.flatten()\n",
    "for k,v in df.items():\n",
    "    sns.boxplot(y=k, data=df, ax=axs[index])\n",
    "    index += 1\n",
    "plt.tight_layout(pad=0.4, w_pad=0.5, h_pad=5.0)\n",
    "plt.show()"
   ]
  },
  {
   "cell_type": "code",
   "execution_count": 475,
   "id": "24bfbf93",
   "metadata": {},
   "outputs": [
    {
     "data": {
      "text/html": [
       "<div>\n",
       "<style scoped>\n",
       "    .dataframe tbody tr th:only-of-type {\n",
       "        vertical-align: middle;\n",
       "    }\n",
       "\n",
       "    .dataframe tbody tr th {\n",
       "        vertical-align: top;\n",
       "    }\n",
       "\n",
       "    .dataframe thead th {\n",
       "        text-align: right;\n",
       "    }\n",
       "</style>\n",
       "<table border=\"1\" class=\"dataframe\">\n",
       "  <thead>\n",
       "    <tr style=\"text-align: right;\">\n",
       "      <th></th>\n",
       "      <th>CRIM</th>\n",
       "      <th>ZN</th>\n",
       "      <th>INDUS</th>\n",
       "      <th>CHAS</th>\n",
       "      <th>NOX</th>\n",
       "      <th>RM</th>\n",
       "      <th>AGE</th>\n",
       "      <th>DIS</th>\n",
       "      <th>RAD</th>\n",
       "      <th>TAX</th>\n",
       "      <th>PTRATIO</th>\n",
       "      <th>B</th>\n",
       "      <th>LSTAT</th>\n",
       "      <th>MEDV</th>\n",
       "    </tr>\n",
       "  </thead>\n",
       "  <tbody>\n",
       "    <tr>\n",
       "      <th>count</th>\n",
       "      <td>486.000000</td>\n",
       "      <td>486.000000</td>\n",
       "      <td>486.000000</td>\n",
       "      <td>486.000000</td>\n",
       "      <td>506.000000</td>\n",
       "      <td>506.000000</td>\n",
       "      <td>486.000000</td>\n",
       "      <td>506.000000</td>\n",
       "      <td>506.000000</td>\n",
       "      <td>506.000000</td>\n",
       "      <td>506.000000</td>\n",
       "      <td>506.000000</td>\n",
       "      <td>486.000000</td>\n",
       "      <td>506.000000</td>\n",
       "    </tr>\n",
       "    <tr>\n",
       "      <th>mean</th>\n",
       "      <td>3.611874</td>\n",
       "      <td>11.211934</td>\n",
       "      <td>11.083992</td>\n",
       "      <td>0.069959</td>\n",
       "      <td>0.554695</td>\n",
       "      <td>6.284634</td>\n",
       "      <td>68.518519</td>\n",
       "      <td>3.795043</td>\n",
       "      <td>9.549407</td>\n",
       "      <td>408.237154</td>\n",
       "      <td>18.455534</td>\n",
       "      <td>356.674032</td>\n",
       "      <td>12.715432</td>\n",
       "      <td>22.532806</td>\n",
       "    </tr>\n",
       "    <tr>\n",
       "      <th>std</th>\n",
       "      <td>8.720192</td>\n",
       "      <td>23.388876</td>\n",
       "      <td>6.835896</td>\n",
       "      <td>0.255340</td>\n",
       "      <td>0.115878</td>\n",
       "      <td>0.702617</td>\n",
       "      <td>27.999513</td>\n",
       "      <td>2.105710</td>\n",
       "      <td>8.707259</td>\n",
       "      <td>168.537116</td>\n",
       "      <td>2.164946</td>\n",
       "      <td>91.294864</td>\n",
       "      <td>7.155871</td>\n",
       "      <td>9.197104</td>\n",
       "    </tr>\n",
       "    <tr>\n",
       "      <th>min</th>\n",
       "      <td>0.006320</td>\n",
       "      <td>0.000000</td>\n",
       "      <td>0.460000</td>\n",
       "      <td>0.000000</td>\n",
       "      <td>0.385000</td>\n",
       "      <td>3.561000</td>\n",
       "      <td>2.900000</td>\n",
       "      <td>1.129600</td>\n",
       "      <td>1.000000</td>\n",
       "      <td>187.000000</td>\n",
       "      <td>12.600000</td>\n",
       "      <td>0.320000</td>\n",
       "      <td>1.730000</td>\n",
       "      <td>5.000000</td>\n",
       "    </tr>\n",
       "    <tr>\n",
       "      <th>25%</th>\n",
       "      <td>0.081900</td>\n",
       "      <td>0.000000</td>\n",
       "      <td>5.190000</td>\n",
       "      <td>0.000000</td>\n",
       "      <td>0.449000</td>\n",
       "      <td>5.885500</td>\n",
       "      <td>45.175000</td>\n",
       "      <td>2.100175</td>\n",
       "      <td>4.000000</td>\n",
       "      <td>279.000000</td>\n",
       "      <td>17.400000</td>\n",
       "      <td>375.377500</td>\n",
       "      <td>7.125000</td>\n",
       "      <td>17.025000</td>\n",
       "    </tr>\n",
       "    <tr>\n",
       "      <th>50%</th>\n",
       "      <td>0.253715</td>\n",
       "      <td>0.000000</td>\n",
       "      <td>9.690000</td>\n",
       "      <td>0.000000</td>\n",
       "      <td>0.538000</td>\n",
       "      <td>6.208500</td>\n",
       "      <td>76.800000</td>\n",
       "      <td>3.207450</td>\n",
       "      <td>5.000000</td>\n",
       "      <td>330.000000</td>\n",
       "      <td>19.050000</td>\n",
       "      <td>391.440000</td>\n",
       "      <td>11.430000</td>\n",
       "      <td>21.200000</td>\n",
       "    </tr>\n",
       "    <tr>\n",
       "      <th>75%</th>\n",
       "      <td>3.560263</td>\n",
       "      <td>12.500000</td>\n",
       "      <td>18.100000</td>\n",
       "      <td>0.000000</td>\n",
       "      <td>0.624000</td>\n",
       "      <td>6.623500</td>\n",
       "      <td>93.975000</td>\n",
       "      <td>5.188425</td>\n",
       "      <td>24.000000</td>\n",
       "      <td>666.000000</td>\n",
       "      <td>20.200000</td>\n",
       "      <td>396.225000</td>\n",
       "      <td>16.955000</td>\n",
       "      <td>25.000000</td>\n",
       "    </tr>\n",
       "    <tr>\n",
       "      <th>max</th>\n",
       "      <td>88.976200</td>\n",
       "      <td>100.000000</td>\n",
       "      <td>27.740000</td>\n",
       "      <td>1.000000</td>\n",
       "      <td>0.871000</td>\n",
       "      <td>8.780000</td>\n",
       "      <td>100.000000</td>\n",
       "      <td>12.126500</td>\n",
       "      <td>24.000000</td>\n",
       "      <td>711.000000</td>\n",
       "      <td>22.000000</td>\n",
       "      <td>396.900000</td>\n",
       "      <td>37.970000</td>\n",
       "      <td>50.000000</td>\n",
       "    </tr>\n",
       "  </tbody>\n",
       "</table>\n",
       "</div>"
      ],
      "text/plain": [
       "             CRIM          ZN       INDUS        CHAS         NOX          RM  \\\n",
       "count  486.000000  486.000000  486.000000  486.000000  506.000000  506.000000   \n",
       "mean     3.611874   11.211934   11.083992    0.069959    0.554695    6.284634   \n",
       "std      8.720192   23.388876    6.835896    0.255340    0.115878    0.702617   \n",
       "min      0.006320    0.000000    0.460000    0.000000    0.385000    3.561000   \n",
       "25%      0.081900    0.000000    5.190000    0.000000    0.449000    5.885500   \n",
       "50%      0.253715    0.000000    9.690000    0.000000    0.538000    6.208500   \n",
       "75%      3.560263   12.500000   18.100000    0.000000    0.624000    6.623500   \n",
       "max     88.976200  100.000000   27.740000    1.000000    0.871000    8.780000   \n",
       "\n",
       "              AGE         DIS         RAD         TAX     PTRATIO           B  \\\n",
       "count  486.000000  506.000000  506.000000  506.000000  506.000000  506.000000   \n",
       "mean    68.518519    3.795043    9.549407  408.237154   18.455534  356.674032   \n",
       "std     27.999513    2.105710    8.707259  168.537116    2.164946   91.294864   \n",
       "min      2.900000    1.129600    1.000000  187.000000   12.600000    0.320000   \n",
       "25%     45.175000    2.100175    4.000000  279.000000   17.400000  375.377500   \n",
       "50%     76.800000    3.207450    5.000000  330.000000   19.050000  391.440000   \n",
       "75%     93.975000    5.188425   24.000000  666.000000   20.200000  396.225000   \n",
       "max    100.000000   12.126500   24.000000  711.000000   22.000000  396.900000   \n",
       "\n",
       "            LSTAT        MEDV  \n",
       "count  486.000000  506.000000  \n",
       "mean    12.715432   22.532806  \n",
       "std      7.155871    9.197104  \n",
       "min      1.730000    5.000000  \n",
       "25%      7.125000   17.025000  \n",
       "50%     11.430000   21.200000  \n",
       "75%     16.955000   25.000000  \n",
       "max     37.970000   50.000000  "
      ]
     },
     "execution_count": 475,
     "metadata": {},
     "output_type": "execute_result"
    }
   ],
   "source": [
    "df.describe()"
   ]
  },
  {
   "cell_type": "markdown",
   "id": "d6fabcfa",
   "metadata": {},
   "source": [
    "### CRIM"
   ]
  },
  {
   "cell_type": "code",
   "execution_count": 476,
   "id": "2d8e679d",
   "metadata": {},
   "outputs": [
    {
     "data": {
      "image/png": "[encoded data removed]",
      "text/plain": [
       "<Figure size 500x200 with 1 Axes>"
      ]
     },
     "metadata": {},
     "output_type": "display_data"
    }
   ],
   "source": [
    "df.boxplot(column=['CRIM'],fontsize=10,rot=0,grid=False,figsize=(5,2), vert=False)\n",
    "plt.show()"
   ]
  },
  {
   "cell_type": "code",
   "execution_count": 477,
   "id": "b9189021",
   "metadata": {
    "scrolled": true
   },
   "outputs": [
    {
     "name": "stdout",
     "output_type": "stream",
     "text": [
      "Q1 = 0.0819\n",
      "Q3 = 3.5602625000000003\n",
      "IQR = 3.4783625000000002\n",
      "Min = -5.135643750000001\n",
      "Max = 8.777806250000001\n"
     ]
    }
   ],
   "source": [
    "Q1 = df['CRIM'].quantile(0.25)\n",
    "Q3 = df['CRIM'].quantile(0.75)\n",
    "\n",
    "IQR = Q3 - Q1\n",
    "LB = Q1 - 1.5 * IQR\n",
    "UB = Q3 + 1.5 * IQR\n",
    "\n",
    "print('Q1 =',Q1)\n",
    "print('Q3 =',Q3)\n",
    "print('IQR =',IQR) \n",
    "print('Min =',LB)\n",
    "print('Max =',UB)"
   ]
  },
  {
   "cell_type": "code",
   "execution_count": 478,
   "id": "adb83409",
   "metadata": {},
   "outputs": [
    {
     "data": {
      "text/html": [
       "<div>\n",
       "<style scoped>\n",
       "    .dataframe tbody tr th:only-of-type {\n",
       "        vertical-align: middle;\n",
       "    }\n",
       "\n",
       "    .dataframe tbody tr th {\n",
       "        vertical-align: top;\n",
       "    }\n",
       "\n",
       "    .dataframe thead th {\n",
       "        text-align: right;\n",
       "    }\n",
       "</style>\n",
       "<table border=\"1\" class=\"dataframe\">\n",
       "  <thead>\n",
       "    <tr style=\"text-align: right;\">\n",
       "      <th></th>\n",
       "      <th>CRIM</th>\n",
       "      <th>ZN</th>\n",
       "      <th>INDUS</th>\n",
       "      <th>CHAS</th>\n",
       "      <th>NOX</th>\n",
       "      <th>RM</th>\n",
       "      <th>AGE</th>\n",
       "      <th>DIS</th>\n",
       "      <th>RAD</th>\n",
       "      <th>TAX</th>\n",
       "      <th>PTRATIO</th>\n",
       "      <th>B</th>\n",
       "      <th>LSTAT</th>\n",
       "      <th>MEDV</th>\n",
       "    </tr>\n",
       "  </thead>\n",
       "  <tbody>\n",
       "    <tr>\n",
       "      <th>356</th>\n",
       "      <td>8.98296</td>\n",
       "      <td>0.0</td>\n",
       "      <td>18.1</td>\n",
       "      <td>1.0</td>\n",
       "      <td>0.770</td>\n",
       "      <td>6.212</td>\n",
       "      <td>97.4</td>\n",
       "      <td>2.1222</td>\n",
       "      <td>24</td>\n",
       "      <td>666</td>\n",
       "      <td>20.2</td>\n",
       "      <td>377.73</td>\n",
       "      <td>17.60</td>\n",
       "      <td>17.8</td>\n",
       "    </tr>\n",
       "    <tr>\n",
       "      <th>367</th>\n",
       "      <td>13.52220</td>\n",
       "      <td>0.0</td>\n",
       "      <td>18.1</td>\n",
       "      <td>NaN</td>\n",
       "      <td>0.631</td>\n",
       "      <td>3.863</td>\n",
       "      <td>100.0</td>\n",
       "      <td>1.5106</td>\n",
       "      <td>24</td>\n",
       "      <td>666</td>\n",
       "      <td>20.2</td>\n",
       "      <td>131.42</td>\n",
       "      <td>13.33</td>\n",
       "      <td>23.1</td>\n",
       "    </tr>\n",
       "    <tr>\n",
       "      <th>371</th>\n",
       "      <td>9.23230</td>\n",
       "      <td>0.0</td>\n",
       "      <td>18.1</td>\n",
       "      <td>0.0</td>\n",
       "      <td>0.631</td>\n",
       "      <td>6.216</td>\n",
       "      <td>100.0</td>\n",
       "      <td>1.1691</td>\n",
       "      <td>24</td>\n",
       "      <td>666</td>\n",
       "      <td>20.2</td>\n",
       "      <td>366.15</td>\n",
       "      <td>9.53</td>\n",
       "      <td>50.0</td>\n",
       "    </tr>\n",
       "    <tr>\n",
       "      <th>373</th>\n",
       "      <td>11.10810</td>\n",
       "      <td>0.0</td>\n",
       "      <td>18.1</td>\n",
       "      <td>0.0</td>\n",
       "      <td>0.668</td>\n",
       "      <td>4.906</td>\n",
       "      <td>100.0</td>\n",
       "      <td>1.1742</td>\n",
       "      <td>24</td>\n",
       "      <td>666</td>\n",
       "      <td>20.2</td>\n",
       "      <td>396.90</td>\n",
       "      <td>34.77</td>\n",
       "      <td>13.8</td>\n",
       "    </tr>\n",
       "    <tr>\n",
       "      <th>374</th>\n",
       "      <td>18.49820</td>\n",
       "      <td>0.0</td>\n",
       "      <td>18.1</td>\n",
       "      <td>0.0</td>\n",
       "      <td>0.668</td>\n",
       "      <td>4.138</td>\n",
       "      <td>100.0</td>\n",
       "      <td>1.1370</td>\n",
       "      <td>24</td>\n",
       "      <td>666</td>\n",
       "      <td>20.2</td>\n",
       "      <td>396.90</td>\n",
       "      <td>37.97</td>\n",
       "      <td>13.8</td>\n",
       "    </tr>\n",
       "    <tr>\n",
       "      <th>...</th>\n",
       "      <td>...</td>\n",
       "      <td>...</td>\n",
       "      <td>...</td>\n",
       "      <td>...</td>\n",
       "      <td>...</td>\n",
       "      <td>...</td>\n",
       "      <td>...</td>\n",
       "      <td>...</td>\n",
       "      <td>...</td>\n",
       "      <td>...</td>\n",
       "      <td>...</td>\n",
       "      <td>...</td>\n",
       "      <td>...</td>\n",
       "      <td>...</td>\n",
       "    </tr>\n",
       "    <tr>\n",
       "      <th>468</th>\n",
       "      <td>15.57570</td>\n",
       "      <td>0.0</td>\n",
       "      <td>18.1</td>\n",
       "      <td>0.0</td>\n",
       "      <td>0.580</td>\n",
       "      <td>5.926</td>\n",
       "      <td>71.0</td>\n",
       "      <td>2.9084</td>\n",
       "      <td>24</td>\n",
       "      <td>666</td>\n",
       "      <td>20.2</td>\n",
       "      <td>368.74</td>\n",
       "      <td>18.13</td>\n",
       "      <td>19.1</td>\n",
       "    </tr>\n",
       "    <tr>\n",
       "      <th>469</th>\n",
       "      <td>13.07510</td>\n",
       "      <td>0.0</td>\n",
       "      <td>18.1</td>\n",
       "      <td>0.0</td>\n",
       "      <td>0.580</td>\n",
       "      <td>5.713</td>\n",
       "      <td>56.7</td>\n",
       "      <td>2.8237</td>\n",
       "      <td>24</td>\n",
       "      <td>666</td>\n",
       "      <td>20.2</td>\n",
       "      <td>396.90</td>\n",
       "      <td>14.76</td>\n",
       "      <td>20.1</td>\n",
       "    </tr>\n",
       "    <tr>\n",
       "      <th>477</th>\n",
       "      <td>15.02340</td>\n",
       "      <td>0.0</td>\n",
       "      <td>18.1</td>\n",
       "      <td>0.0</td>\n",
       "      <td>0.614</td>\n",
       "      <td>5.304</td>\n",
       "      <td>97.3</td>\n",
       "      <td>2.1007</td>\n",
       "      <td>24</td>\n",
       "      <td>666</td>\n",
       "      <td>20.2</td>\n",
       "      <td>349.48</td>\n",
       "      <td>24.91</td>\n",
       "      <td>12.0</td>\n",
       "    </tr>\n",
       "    <tr>\n",
       "      <th>478</th>\n",
       "      <td>10.23300</td>\n",
       "      <td>0.0</td>\n",
       "      <td>18.1</td>\n",
       "      <td>0.0</td>\n",
       "      <td>0.614</td>\n",
       "      <td>6.185</td>\n",
       "      <td>96.7</td>\n",
       "      <td>2.1705</td>\n",
       "      <td>24</td>\n",
       "      <td>666</td>\n",
       "      <td>20.2</td>\n",
       "      <td>379.70</td>\n",
       "      <td>18.03</td>\n",
       "      <td>14.6</td>\n",
       "    </tr>\n",
       "    <tr>\n",
       "      <th>479</th>\n",
       "      <td>14.33370</td>\n",
       "      <td>0.0</td>\n",
       "      <td>18.1</td>\n",
       "      <td>NaN</td>\n",
       "      <td>0.614</td>\n",
       "      <td>6.229</td>\n",
       "      <td>88.0</td>\n",
       "      <td>1.9512</td>\n",
       "      <td>24</td>\n",
       "      <td>666</td>\n",
       "      <td>20.2</td>\n",
       "      <td>383.32</td>\n",
       "      <td>13.11</td>\n",
       "      <td>21.4</td>\n",
       "    </tr>\n",
       "  </tbody>\n",
       "</table>\n",
       "<p>65 rows × 14 columns</p>\n",
       "</div>"
      ],
      "text/plain": [
       "         CRIM   ZN  INDUS  CHAS    NOX     RM    AGE     DIS  RAD  TAX  \\\n",
       "356   8.98296  0.0   18.1   1.0  0.770  6.212   97.4  2.1222   24  666   \n",
       "367  13.52220  0.0   18.1   NaN  0.631  3.863  100.0  1.5106   24  666   \n",
       "371   9.23230  0.0   18.1   0.0  0.631  6.216  100.0  1.1691   24  666   \n",
       "373  11.10810  0.0   18.1   0.0  0.668  4.906  100.0  1.1742   24  666   \n",
       "374  18.49820  0.0   18.1   0.0  0.668  4.138  100.0  1.1370   24  666   \n",
       "..        ...  ...    ...   ...    ...    ...    ...     ...  ...  ...   \n",
       "468  15.57570  0.0   18.1   0.0  0.580  5.926   71.0  2.9084   24  666   \n",
       "469  13.07510  0.0   18.1   0.0  0.580  5.713   56.7  2.8237   24  666   \n",
       "477  15.02340  0.0   18.1   0.0  0.614  5.304   97.3  2.1007   24  666   \n",
       "478  10.23300  0.0   18.1   0.0  0.614  6.185   96.7  2.1705   24  666   \n",
       "479  14.33370  0.0   18.1   NaN  0.614  6.229   88.0  1.9512   24  666   \n",
       "\n",
       "     PTRATIO       B  LSTAT  MEDV  \n",
       "356     20.2  377.73  17.60  17.8  \n",
       "367     20.2  131.42  13.33  23.1  \n",
       "371     20.2  366.15   9.53  50.0  \n",
       "373     20.2  396.90  34.77  13.8  \n",
       "374     20.2  396.90  37.97  13.8  \n",
       "..       ...     ...    ...   ...  \n",
       "468     20.2  368.74  18.13  19.1  \n",
       "469     20.2  396.90  14.76  20.1  \n",
       "477     20.2  349.48  24.91  12.0  \n",
       "478     20.2  379.70  18.03  14.6  \n",
       "479     20.2  383.32  13.11  21.4  \n",
       "\n",
       "[65 rows x 14 columns]"
      ]
     },
     "execution_count": 478,
     "metadata": {},
     "output_type": "execute_result"
    }
   ],
   "source": [
    "df[(df['CRIM'] < LB) | (df['CRIM'] > UB)]"
   ]
  },
  {
   "cell_type": "code",
   "execution_count": 479,
   "id": "ea65fb68",
   "metadata": {},
   "outputs": [
    {
     "data": {
      "image/png": "[encoded data removed]",
      "text/plain": [
       "<Figure size 500x200 with 1 Axes>"
      ]
     },
     "metadata": {},
     "output_type": "display_data"
    }
   ],
   "source": [
    "df['CRIM'][(df['CRIM'] < LB) | (df['CRIM'] > UB)] = np.median(df['CRIM'])\n",
    "\n",
    "df.boxplot(column=['CRIM'],fontsize=10,rot=0,grid=False,figsize=(5,2),vert=False)\n",
    "plt.show()"
   ]
  },
  {
   "cell_type": "markdown",
   "id": "b9da1309",
   "metadata": {},
   "source": [
    "### ZN"
   ]
  },
  {
   "cell_type": "code",
   "execution_count": 480,
   "id": "e9d9d7a7",
   "metadata": {},
   "outputs": [
    {
     "data": {
      "image/png": "[encoded data removed]",
      "text/plain": [
       "<Figure size 500x200 with 1 Axes>"
      ]
     },
     "metadata": {},
     "output_type": "display_data"
    }
   ],
   "source": [
    "df.boxplot(column=['ZN'],fontsize=10,rot=0,grid=False,figsize=(5,2),vert=False)\n",
    "plt.show()"
   ]
  },
  {
   "cell_type": "code",
   "execution_count": 481,
   "id": "5e29a0fc",
   "metadata": {},
   "outputs": [
    {
     "name": "stdout",
     "output_type": "stream",
     "text": [
      "Q1 = 0.0\n",
      "Q3 = 12.5\n",
      "IQR = 12.5\n",
      "Min = -18.75\n",
      "Max = 31.25\n"
     ]
    }
   ],
   "source": [
    "Q1 = df['ZN'].quantile(0.25)\n",
    "Q3 = df['ZN'].quantile(0.75)\n",
    "\n",
    "IQR = Q3 - Q1\n",
    "LB = Q1 - 1.5 * IQR\n",
    "UB = Q3 + 1.5 * IQR\n",
    "\n",
    "print('Q1 =',Q1)\n",
    "print('Q3 =',Q3)\n",
    "print('IQR =',IQR) \n",
    "print('Min =',LB)\n",
    "print('Max =',UB)"
   ]
  },
  {
   "cell_type": "code",
   "execution_count": 482,
   "id": "ea11ae75",
   "metadata": {},
   "outputs": [
    {
     "data": {
      "text/plain": [
       "39     75.0\n",
       "40     75.0\n",
       "54     75.0\n",
       "55     90.0\n",
       "56     85.0\n",
       "       ... \n",
       "349    40.0\n",
       "351    60.0\n",
       "352    60.0\n",
       "353    90.0\n",
       "354    80.0\n",
       "Name: ZN, Length: 63, dtype: float64"
      ]
     },
     "execution_count": 482,
     "metadata": {},
     "output_type": "execute_result"
    }
   ],
   "source": [
    "df['ZN'][(df['ZN'] < LB) | (df['ZN'] > UB)]"
   ]
  },
  {
   "cell_type": "code",
   "execution_count": 483,
   "id": "ca888f3b",
   "metadata": {
    "scrolled": true
   },
   "outputs": [
    {
     "data": {
      "image/png": "[encoded data removed]",
      "text/plain": [
       "<Figure size 500x200 with 1 Axes>"
      ]
     },
     "metadata": {},
     "output_type": "display_data"
    }
   ],
   "source": [
    "df['ZN'][(df['ZN'] < LB) | (df['ZN'] > UB)] = np.median(df['ZN'])\n",
    "\n",
    "df.boxplot(column=['ZN'],fontsize=10,rot=0,grid=False,figsize=(5,2),vert=False)\n",
    "plt.show()"
   ]
  },
  {
   "cell_type": "markdown",
   "id": "1e1866cb",
   "metadata": {},
   "source": [
    "### RM"
   ]
  },
  {
   "cell_type": "code",
   "execution_count": 484,
   "id": "d901dbd3",
   "metadata": {},
   "outputs": [
    {
     "data": {
      "image/png": "[encoded data removed]",
      "text/plain": [
       "<Figure size 500x200 with 1 Axes>"
      ]
     },
     "metadata": {},
     "output_type": "display_data"
    }
   ],
   "source": [
    "df.boxplot(column=['RM'],fontsize=10,rot=0,grid=False,figsize=(5,2),vert=False)\n",
    "plt.show()"
   ]
  },
  {
   "cell_type": "code",
   "execution_count": 485,
   "id": "355bb82d",
   "metadata": {},
   "outputs": [
    {
     "name": "stdout",
     "output_type": "stream",
     "text": [
      "Q1 = 5.8854999999999995\n",
      "Q3 = 6.6235\n",
      "IQR = 0.7380000000000004\n",
      "Min = 4.778499999999999\n",
      "Max = 7.730500000000001\n"
     ]
    }
   ],
   "source": [
    "Q1 = df['RM'].quantile(0.25)\n",
    "Q3 = df['RM'].quantile(0.75)\n",
    "\n",
    "IQR = Q3 - Q1\n",
    "LB = Q1 - 1.5 * IQR\n",
    "UB = Q3 + 1.5 * IQR\n",
    "\n",
    "print('Q1 =',Q1)\n",
    "print('Q3 =',Q3)\n",
    "print('IQR =',IQR) \n",
    "print('Min =',LB)\n",
    "print('Max =',UB)"
   ]
  },
  {
   "cell_type": "code",
   "execution_count": 486,
   "id": "791d0665",
   "metadata": {},
   "outputs": [
    {
     "data": {
      "text/plain": [
       "97     8.069\n",
       "98     7.820\n",
       "162    7.802\n",
       "163    8.375\n",
       "166    7.929\n",
       "180    7.765\n",
       "186    7.831\n",
       "195    7.875\n",
       "203    7.853\n",
       "204    8.034\n",
       "224    8.266\n",
       "225    8.725\n",
       "226    8.040\n",
       "232    8.337\n",
       "233    8.247\n",
       "253    8.259\n",
       "257    8.704\n",
       "262    8.398\n",
       "267    8.297\n",
       "280    7.820\n",
       "283    7.923\n",
       "364    8.780\n",
       "365    3.561\n",
       "367    3.863\n",
       "374    4.138\n",
       "384    4.368\n",
       "386    4.652\n",
       "406    4.138\n",
       "412    4.628\n",
       "414    4.519\n",
       "Name: RM, dtype: float64"
      ]
     },
     "execution_count": 486,
     "metadata": {},
     "output_type": "execute_result"
    }
   ],
   "source": [
    "df['RM'][(df['RM'] < LB) | (df['RM'] > UB)]"
   ]
  },
  {
   "cell_type": "code",
   "execution_count": 487,
   "id": "827d5ecb",
   "metadata": {},
   "outputs": [
    {
     "data": {
      "image/png": "[encoded data removed]",
      "text/plain": [
       "<Figure size 500x200 with 1 Axes>"
      ]
     },
     "metadata": {},
     "output_type": "display_data"
    }
   ],
   "source": [
    "df['RM'][(df['RM'] < LB) | (df['RM'] > UB)] = np.median(df['RM'])\n",
    "\n",
    "df.boxplot(column=['RM'],fontsize=10,rot=0,grid=False,figsize=(5,2),vert=False)\n",
    "plt.show()"
   ]
  },
  {
   "cell_type": "markdown",
   "id": "1236b7a5",
   "metadata": {},
   "source": [
    "### DIS"
   ]
  },
  {
   "cell_type": "code",
   "execution_count": 488,
   "id": "99e5a891",
   "metadata": {},
   "outputs": [
    {
     "data": {
      "image/png": "[encoded data removed]",
      "text/plain": [
       "<Figure size 500x200 with 1 Axes>"
      ]
     },
     "metadata": {},
     "output_type": "display_data"
    }
   ],
   "source": [
    "df.boxplot(column=['DIS'],fontsize=10,rot=0,grid=False,figsize=(5,2),vert=False)\n",
    "plt.show()"
   ]
  },
  {
   "cell_type": "code",
   "execution_count": 489,
   "id": "b169a97d",
   "metadata": {},
   "outputs": [
    {
     "name": "stdout",
     "output_type": "stream",
     "text": [
      "Q1 = 2.100175\n",
      "Q3 = 5.1884250000000005\n",
      "IQR = 3.0882500000000004\n",
      "Min = -2.5322000000000005\n",
      "Max = 9.820800000000002\n"
     ]
    }
   ],
   "source": [
    "Q1 = df['DIS'].quantile(0.25)\n",
    "Q3 = df['DIS'].quantile(0.75)\n",
    "\n",
    "IQR = Q3 - Q1\n",
    "LB = Q1 - 1.5 * IQR\n",
    "UB = Q3 + 1.5 * IQR\n",
    "\n",
    "print('Q1 =',Q1)\n",
    "print('Q3 =',Q3)\n",
    "print('IQR =',IQR) \n",
    "print('Min =',LB)\n",
    "print('Max =',UB)"
   ]
  },
  {
   "cell_type": "code",
   "execution_count": 490,
   "id": "243ec7ff",
   "metadata": {},
   "outputs": [
    {
     "data": {
      "text/html": [
       "<div>\n",
       "<style scoped>\n",
       "    .dataframe tbody tr th:only-of-type {\n",
       "        vertical-align: middle;\n",
       "    }\n",
       "\n",
       "    .dataframe tbody tr th {\n",
       "        vertical-align: top;\n",
       "    }\n",
       "\n",
       "    .dataframe thead th {\n",
       "        text-align: right;\n",
       "    }\n",
       "</style>\n",
       "<table border=\"1\" class=\"dataframe\">\n",
       "  <thead>\n",
       "    <tr style=\"text-align: right;\">\n",
       "      <th></th>\n",
       "      <th>CRIM</th>\n",
       "      <th>ZN</th>\n",
       "      <th>INDUS</th>\n",
       "      <th>CHAS</th>\n",
       "      <th>NOX</th>\n",
       "      <th>RM</th>\n",
       "      <th>AGE</th>\n",
       "      <th>DIS</th>\n",
       "      <th>RAD</th>\n",
       "      <th>TAX</th>\n",
       "      <th>PTRATIO</th>\n",
       "      <th>B</th>\n",
       "      <th>LSTAT</th>\n",
       "      <th>MEDV</th>\n",
       "    </tr>\n",
       "  </thead>\n",
       "  <tbody>\n",
       "    <tr>\n",
       "      <th>351</th>\n",
       "      <td>0.07950</td>\n",
       "      <td>NaN</td>\n",
       "      <td>1.69</td>\n",
       "      <td>0.0</td>\n",
       "      <td>0.411</td>\n",
       "      <td>6.579</td>\n",
       "      <td>35.9</td>\n",
       "      <td>10.7103</td>\n",
       "      <td>4</td>\n",
       "      <td>411</td>\n",
       "      <td>18.3</td>\n",
       "      <td>370.78</td>\n",
       "      <td>5.49</td>\n",
       "      <td>24.1</td>\n",
       "    </tr>\n",
       "    <tr>\n",
       "      <th>352</th>\n",
       "      <td>0.07244</td>\n",
       "      <td>NaN</td>\n",
       "      <td>1.69</td>\n",
       "      <td>0.0</td>\n",
       "      <td>0.411</td>\n",
       "      <td>5.884</td>\n",
       "      <td>18.5</td>\n",
       "      <td>10.7103</td>\n",
       "      <td>4</td>\n",
       "      <td>411</td>\n",
       "      <td>18.3</td>\n",
       "      <td>392.33</td>\n",
       "      <td>7.79</td>\n",
       "      <td>18.6</td>\n",
       "    </tr>\n",
       "    <tr>\n",
       "      <th>353</th>\n",
       "      <td>0.01709</td>\n",
       "      <td>NaN</td>\n",
       "      <td>2.02</td>\n",
       "      <td>0.0</td>\n",
       "      <td>0.410</td>\n",
       "      <td>6.728</td>\n",
       "      <td>36.1</td>\n",
       "      <td>12.1265</td>\n",
       "      <td>5</td>\n",
       "      <td>187</td>\n",
       "      <td>17.0</td>\n",
       "      <td>384.46</td>\n",
       "      <td>4.50</td>\n",
       "      <td>30.1</td>\n",
       "    </tr>\n",
       "    <tr>\n",
       "      <th>354</th>\n",
       "      <td>0.04301</td>\n",
       "      <td>NaN</td>\n",
       "      <td>1.91</td>\n",
       "      <td>0.0</td>\n",
       "      <td>0.413</td>\n",
       "      <td>5.663</td>\n",
       "      <td>21.9</td>\n",
       "      <td>10.5857</td>\n",
       "      <td>4</td>\n",
       "      <td>334</td>\n",
       "      <td>22.0</td>\n",
       "      <td>382.80</td>\n",
       "      <td>8.05</td>\n",
       "      <td>18.2</td>\n",
       "    </tr>\n",
       "    <tr>\n",
       "      <th>355</th>\n",
       "      <td>0.10659</td>\n",
       "      <td>NaN</td>\n",
       "      <td>1.91</td>\n",
       "      <td>0.0</td>\n",
       "      <td>0.413</td>\n",
       "      <td>5.936</td>\n",
       "      <td>NaN</td>\n",
       "      <td>10.5857</td>\n",
       "      <td>4</td>\n",
       "      <td>334</td>\n",
       "      <td>22.0</td>\n",
       "      <td>376.04</td>\n",
       "      <td>5.57</td>\n",
       "      <td>20.6</td>\n",
       "    </tr>\n",
       "  </tbody>\n",
       "</table>\n",
       "</div>"
      ],
      "text/plain": [
       "        CRIM  ZN  INDUS  CHAS    NOX     RM   AGE      DIS  RAD  TAX  PTRATIO  \\\n",
       "351  0.07950 NaN   1.69   0.0  0.411  6.579  35.9  10.7103    4  411     18.3   \n",
       "352  0.07244 NaN   1.69   0.0  0.411  5.884  18.5  10.7103    4  411     18.3   \n",
       "353  0.01709 NaN   2.02   0.0  0.410  6.728  36.1  12.1265    5  187     17.0   \n",
       "354  0.04301 NaN   1.91   0.0  0.413  5.663  21.9  10.5857    4  334     22.0   \n",
       "355  0.10659 NaN   1.91   0.0  0.413  5.936   NaN  10.5857    4  334     22.0   \n",
       "\n",
       "          B  LSTAT  MEDV  \n",
       "351  370.78   5.49  24.1  \n",
       "352  392.33   7.79  18.6  \n",
       "353  384.46   4.50  30.1  \n",
       "354  382.80   8.05  18.2  \n",
       "355  376.04   5.57  20.6  "
      ]
     },
     "execution_count": 490,
     "metadata": {},
     "output_type": "execute_result"
    }
   ],
   "source": [
    "df[(df['DIS'] < LB) | (df['DIS'] > UB)]"
   ]
  },
  {
   "cell_type": "code",
   "execution_count": 491,
   "id": "79b47de5",
   "metadata": {
    "scrolled": false
   },
   "outputs": [
    {
     "data": {
      "image/png": "[encoded data removed]",
      "text/plain": [
       "<Figure size 500x200 with 1 Axes>"
      ]
     },
     "metadata": {},
     "output_type": "display_data"
    }
   ],
   "source": [
    "df['DIS'][(df['DIS'] < LB) | (df['DIS'] > UB)] = np.median(df['DIS'])\n",
    "df.boxplot(column=['DIS'],fontsize=10,rot=0,grid=False,figsize=(5,2),vert=False)\n",
    "plt.show()"
   ]
  },
  {
   "cell_type": "markdown",
   "id": "0f83356c",
   "metadata": {},
   "source": [
    "### PTRATIO"
   ]
  },
  {
   "cell_type": "code",
   "execution_count": 492,
   "id": "533224c2",
   "metadata": {},
   "outputs": [
    {
     "data": {
      "image/png": "[encoded data removed]",
      "text/plain": [
       "<Figure size 500x200 with 1 Axes>"
      ]
     },
     "metadata": {},
     "output_type": "display_data"
    }
   ],
   "source": [
    "df.boxplot(column=['PTRATIO'],fontsize=10,rot=0,grid=False,figsize=(5,2),vert=False)\n",
    "plt.show()"
   ]
  },
  {
   "cell_type": "code",
   "execution_count": 493,
   "id": "a8000707",
   "metadata": {},
   "outputs": [
    {
     "name": "stdout",
     "output_type": "stream",
     "text": [
      "Q1 = 17.4\n",
      "Q3 = 20.2\n",
      "IQR = 2.8000000000000007\n",
      "Min = 13.199999999999998\n",
      "Max = 24.4\n"
     ]
    }
   ],
   "source": [
    "Q1 = df['PTRATIO'].quantile(0.25)\n",
    "Q3 = df['PTRATIO'].quantile(0.75)\n",
    "\n",
    "IQR = Q3 - Q1\n",
    "LB = Q1 - 1.5 * IQR\n",
    "UB = Q3 + 1.5 * IQR\n",
    "\n",
    "print('Q1 =',Q1)\n",
    "print('Q3 =',Q3)\n",
    "print('IQR =',IQR) \n",
    "print('Min =',LB)\n",
    "print('Max =',UB)"
   ]
  },
  {
   "cell_type": "code",
   "execution_count": 494,
   "id": "0df10aea",
   "metadata": {},
   "outputs": [
    {
     "data": {
      "text/plain": [
       "196    12.6\n",
       "197    12.6\n",
       "198    12.6\n",
       "257    13.0\n",
       "258    13.0\n",
       "259    13.0\n",
       "260    13.0\n",
       "261    13.0\n",
       "262    13.0\n",
       "263    13.0\n",
       "264    13.0\n",
       "265    13.0\n",
       "266    13.0\n",
       "267    13.0\n",
       "268    13.0\n",
       "Name: PTRATIO, dtype: float64"
      ]
     },
     "execution_count": 494,
     "metadata": {},
     "output_type": "execute_result"
    }
   ],
   "source": [
    "df['PTRATIO'][(df['PTRATIO'] < LB) | (df['PTRATIO'] > UB)]"
   ]
  },
  {
   "cell_type": "code",
   "execution_count": 495,
   "id": "191bb5ec",
   "metadata": {},
   "outputs": [],
   "source": [
    "df['PTRATIO'][(df['PTRATIO'] < LB) | (df['PTRATIO'] > UB)] = np.median(df['PTRATIO'])"
   ]
  },
  {
   "cell_type": "code",
   "execution_count": 496,
   "id": "07f5cca8",
   "metadata": {},
   "outputs": [
    {
     "data": {
      "image/png": "[encoded data removed]",
      "text/plain": [
       "<Figure size 500x200 with 1 Axes>"
      ]
     },
     "metadata": {},
     "output_type": "display_data"
    }
   ],
   "source": [
    "df.boxplot(column=['PTRATIO'],fontsize=10,rot=0,grid=False,figsize=(5,2),vert=False)\n",
    "plt.show()"
   ]
  },
  {
   "cell_type": "markdown",
   "id": "f75faa4e",
   "metadata": {},
   "source": [
    "### B"
   ]
  },
  {
   "cell_type": "code",
   "execution_count": 497,
   "id": "fcc2d12a",
   "metadata": {
    "scrolled": false
   },
   "outputs": [
    {
     "data": {
      "image/png": "[encoded data removed]",
      "text/plain": [
       "<Figure size 500x200 with 1 Axes>"
      ]
     },
     "metadata": {},
     "output_type": "display_data"
    }
   ],
   "source": [
    "df.boxplot(column=['B'],fontsize=10,rot=0,grid=False,figsize=(5,2), vert=False)\n",
    "plt.show()"
   ]
  },
  {
   "cell_type": "code",
   "execution_count": 498,
   "id": "48274ca1",
   "metadata": {},
   "outputs": [
    {
     "name": "stdout",
     "output_type": "stream",
     "text": [
      "Q1 = 375.3775\n",
      "Q3 = 396.225\n",
      "IQR = 20.847500000000025\n",
      "Min = 344.10624999999993\n",
      "Max = 427.49625000000003\n"
     ]
    }
   ],
   "source": [
    "Q1 = df['B'].quantile(0.25)\n",
    "Q3 = df['B'].quantile(0.75)\n",
    "\n",
    "IQR = Q3 - Q1\n",
    "LB = Q1 - 1.5 * IQR\n",
    "UB = Q3 + 1.5 * IQR\n",
    "\n",
    "print('Q1 =',Q1)\n",
    "print('Q3 =',Q3)\n",
    "print('IQR =',IQR) \n",
    "print('Min =',LB)\n",
    "print('Max =',UB)"
   ]
  },
  {
   "cell_type": "code",
   "execution_count": 499,
   "id": "51576803",
   "metadata": {},
   "outputs": [
    {
     "data": {
      "text/plain": [
       "18     288.99\n",
       "25     303.42\n",
       "27     306.38\n",
       "32     232.60\n",
       "34     248.31\n",
       "        ...  \n",
       "466     22.01\n",
       "467    331.29\n",
       "475    302.76\n",
       "489    344.05\n",
       "490    318.43\n",
       "Name: B, Length: 77, dtype: float64"
      ]
     },
     "execution_count": 499,
     "metadata": {},
     "output_type": "execute_result"
    }
   ],
   "source": [
    "df['B'][(df['B'] < LB) | (df['B'] > UB)]"
   ]
  },
  {
   "cell_type": "code",
   "execution_count": 500,
   "id": "87cfd21d",
   "metadata": {},
   "outputs": [],
   "source": [
    "df['B'][(df['B'] < LB) | (df['B'] > UB)] = np.median(df['B'])"
   ]
  },
  {
   "cell_type": "code",
   "execution_count": 501,
   "id": "0b4103c9",
   "metadata": {},
   "outputs": [
    {
     "data": {
      "image/png": "[encoded data removed]",
      "text/plain": [
       "<Figure size 500x200 with 1 Axes>"
      ]
     },
     "metadata": {},
     "output_type": "display_data"
    }
   ],
   "source": [
    "df.boxplot(column=['B'],fontsize=10,rot=0,grid=False,figsize=(5,2),vert=False)\n",
    "plt.show()"
   ]
  },
  {
   "cell_type": "markdown",
   "id": "790f74e6",
   "metadata": {},
   "source": [
    "### LSTAT"
   ]
  },
  {
   "cell_type": "code",
   "execution_count": 502,
   "id": "4a5a38c9",
   "metadata": {},
   "outputs": [
    {
     "data": {
      "image/png": "[encoded data removed]",
      "text/plain": [
       "<Figure size 500x200 with 1 Axes>"
      ]
     },
     "metadata": {},
     "output_type": "display_data"
    }
   ],
   "source": [
    "df.boxplot(column=['LSTAT'],fontsize=10,rot=0,grid=False,figsize=(5,2),vert=False)\n",
    "plt.show()"
   ]
  },
  {
   "cell_type": "code",
   "execution_count": 503,
   "id": "693e7c69",
   "metadata": {},
   "outputs": [
    {
     "name": "stdout",
     "output_type": "stream",
     "text": [
      "Q1 = 7.125\n",
      "Q3 = 16.955000000000002\n",
      "IQR = 9.830000000000002\n",
      "Min = -7.620000000000003\n",
      "Max = 31.700000000000003\n"
     ]
    }
   ],
   "source": [
    "Q1 = df['LSTAT'].quantile(0.25)\n",
    "Q3 = df['LSTAT'].quantile(0.75)\n",
    "\n",
    "IQR = Q3 - Q1\n",
    "LB = Q1 - 1.5 * IQR\n",
    "UB = Q3 + 1.5 * IQR\n",
    "\n",
    "print('Q1 =',Q1)\n",
    "print('Q3 =',Q3)\n",
    "print('IQR =',IQR) \n",
    "print('Min =',LB)\n",
    "print('Max =',UB)"
   ]
  },
  {
   "cell_type": "code",
   "execution_count": 504,
   "id": "9ac13b49",
   "metadata": {},
   "outputs": [
    {
     "data": {
      "text/plain": [
       "141    34.41\n",
       "373    34.77\n",
       "374    37.97\n",
       "387    31.99\n",
       "412    34.37\n",
       "414    36.98\n",
       "438    34.02\n",
       "Name: LSTAT, dtype: float64"
      ]
     },
     "execution_count": 504,
     "metadata": {},
     "output_type": "execute_result"
    }
   ],
   "source": [
    "df['LSTAT'][(df['LSTAT'] < LB) | (df['LSTAT'] > UB)]"
   ]
  },
  {
   "cell_type": "code",
   "execution_count": 505,
   "id": "40d9db7d",
   "metadata": {},
   "outputs": [],
   "source": [
    "df['B'][(df['B'] < LB) | (df['B'] > UB)] = np.median(df['B'])"
   ]
  },
  {
   "cell_type": "code",
   "execution_count": 506,
   "id": "2e22be0c",
   "metadata": {},
   "outputs": [
    {
     "data": {
      "image/png": "[encoded data removed]",
      "text/plain": [
       "<Figure size 500x200 with 1 Axes>"
      ]
     },
     "metadata": {},
     "output_type": "display_data"
    }
   ],
   "source": [
    "df.boxplot(column=['LSTAT'],fontsize=10,rot=0,grid=False,figsize=(5,2),vert=False)\n",
    "plt.show()"
   ]
  },
  {
   "cell_type": "markdown",
   "id": "00143c7c",
   "metadata": {},
   "source": [
    "### MEDV"
   ]
  },
  {
   "cell_type": "code",
   "execution_count": 507,
   "id": "43d059c0",
   "metadata": {},
   "outputs": [
    {
     "data": {
      "image/png": "[encoded data removed]",
      "text/plain": [
       "<Figure size 500x200 with 1 Axes>"
      ]
     },
     "metadata": {},
     "output_type": "display_data"
    }
   ],
   "source": [
    "df.boxplot(column=['MEDV'],fontsize=10,rot=0,grid=False,figsize=(5,2),vert=False)\n",
    "plt.show()"
   ]
  },
  {
   "cell_type": "code",
   "execution_count": 508,
   "id": "a5fe80f8",
   "metadata": {},
   "outputs": [
    {
     "name": "stdout",
     "output_type": "stream",
     "text": [
      "Q1 = 17.025\n",
      "Q3 = 25.0\n",
      "IQR = 7.975000000000001\n",
      "Min = 5.0624999999999964\n",
      "Max = 36.962500000000006\n"
     ]
    }
   ],
   "source": [
    "Q1 = df['MEDV'].quantile(0.25)\n",
    "Q3 = df['MEDV'].quantile(0.75)\n",
    "\n",
    "IQR = Q3 - Q1\n",
    "LB = Q1 - 1.5 * IQR\n",
    "UB = Q3 + 1.5 * IQR\n",
    "\n",
    "print('Q1 =',Q1)\n",
    "print('Q3 =',Q3)\n",
    "print('IQR =',IQR) \n",
    "print('Min =',LB)\n",
    "print('Max =',UB)"
   ]
  },
  {
   "cell_type": "code",
   "execution_count": 509,
   "id": "e0d5fbef",
   "metadata": {},
   "outputs": [
    {
     "data": {
      "text/plain": [
       "97     38.7\n",
       "98     43.8\n",
       "157    41.3\n",
       "161    50.0\n",
       "162    50.0\n",
       "163    50.0\n",
       "166    50.0\n",
       "179    37.2\n",
       "180    39.8\n",
       "182    37.9\n",
       "186    50.0\n",
       "190    37.0\n",
       "195    50.0\n",
       "202    42.3\n",
       "203    48.5\n",
       "204    50.0\n",
       "224    44.8\n",
       "225    50.0\n",
       "226    37.6\n",
       "228    46.7\n",
       "232    41.7\n",
       "233    48.3\n",
       "253    42.8\n",
       "256    44.0\n",
       "257    50.0\n",
       "261    43.1\n",
       "262    48.8\n",
       "267    50.0\n",
       "268    43.5\n",
       "280    45.4\n",
       "282    46.0\n",
       "283    50.0\n",
       "291    37.3\n",
       "368    50.0\n",
       "369    50.0\n",
       "370    50.0\n",
       "371    50.0\n",
       "372    50.0\n",
       "398     5.0\n",
       "405     5.0\n",
       "Name: MEDV, dtype: float64"
      ]
     },
     "execution_count": 509,
     "metadata": {},
     "output_type": "execute_result"
    }
   ],
   "source": [
    "df['MEDV'][(df['MEDV'] < LB) | (df['MEDV'] > UB)]"
   ]
  },
  {
   "cell_type": "code",
   "execution_count": 510,
   "id": "1796a78a",
   "metadata": {},
   "outputs": [
    {
     "data": {
      "image/png": "[encoded data removed]",
      "text/plain": [
       "<Figure size 500x200 with 1 Axes>"
      ]
     },
     "metadata": {},
     "output_type": "display_data"
    }
   ],
   "source": [
    "df['MEDV'][(df['MEDV'] < LB) | (df['MEDV'] > UB)] = np.median(df['MEDV'])\n",
    "df.boxplot(column=['MEDV'],fontsize=10,rot=0,grid=False,figsize=(5,2),vert=False)\n",
    "plt.show()"
   ]
  },
  {
   "cell_type": "code",
   "execution_count": 511,
   "id": "ccdadcd4",
   "metadata": {},
   "outputs": [
    {
     "data": {
      "text/html": [
       "<div>\n",
       "<style scoped>\n",
       "    .dataframe tbody tr th:only-of-type {\n",
       "        vertical-align: middle;\n",
       "    }\n",
       "\n",
       "    .dataframe tbody tr th {\n",
       "        vertical-align: top;\n",
       "    }\n",
       "\n",
       "    .dataframe thead th {\n",
       "        text-align: right;\n",
       "    }\n",
       "</style>\n",
       "<table border=\"1\" class=\"dataframe\">\n",
       "  <thead>\n",
       "    <tr style=\"text-align: right;\">\n",
       "      <th></th>\n",
       "      <th>CRIM</th>\n",
       "      <th>ZN</th>\n",
       "      <th>INDUS</th>\n",
       "      <th>CHAS</th>\n",
       "      <th>NOX</th>\n",
       "      <th>RM</th>\n",
       "      <th>AGE</th>\n",
       "      <th>DIS</th>\n",
       "      <th>RAD</th>\n",
       "      <th>TAX</th>\n",
       "      <th>PTRATIO</th>\n",
       "      <th>B</th>\n",
       "      <th>LSTAT</th>\n",
       "      <th>MEDV</th>\n",
       "    </tr>\n",
       "  </thead>\n",
       "  <tbody>\n",
       "    <tr>\n",
       "      <th>count</th>\n",
       "      <td>421.000000</td>\n",
       "      <td>423.000000</td>\n",
       "      <td>486.000000</td>\n",
       "      <td>486.000000</td>\n",
       "      <td>506.000000</td>\n",
       "      <td>506.000000</td>\n",
       "      <td>486.000000</td>\n",
       "      <td>506.000000</td>\n",
       "      <td>506.000000</td>\n",
       "      <td>506.000000</td>\n",
       "      <td>506.000000</td>\n",
       "      <td>5.060000e+02</td>\n",
       "      <td>486.000000</td>\n",
       "      <td>506.000000</td>\n",
       "    </tr>\n",
       "    <tr>\n",
       "      <th>mean</th>\n",
       "      <td>1.131753</td>\n",
       "      <td>3.121749</td>\n",
       "      <td>11.083992</td>\n",
       "      <td>0.069959</td>\n",
       "      <td>0.554695</td>\n",
       "      <td>6.231747</td>\n",
       "      <td>68.518519</td>\n",
       "      <td>3.718598</td>\n",
       "      <td>9.549407</td>\n",
       "      <td>408.237154</td>\n",
       "      <td>18.637253</td>\n",
       "      <td>3.914450e+02</td>\n",
       "      <td>12.715432</td>\n",
       "      <td>20.757115</td>\n",
       "    </tr>\n",
       "    <tr>\n",
       "      <th>std</th>\n",
       "      <td>2.017701</td>\n",
       "      <td>7.695706</td>\n",
       "      <td>6.835896</td>\n",
       "      <td>0.255340</td>\n",
       "      <td>0.115878</td>\n",
       "      <td>0.517519</td>\n",
       "      <td>27.999513</td>\n",
       "      <td>1.980432</td>\n",
       "      <td>8.707259</td>\n",
       "      <td>168.537116</td>\n",
       "      <td>1.937389</td>\n",
       "      <td>4.608873e-12</td>\n",
       "      <td>7.155871</td>\n",
       "      <td>6.192007</td>\n",
       "    </tr>\n",
       "    <tr>\n",
       "      <th>min</th>\n",
       "      <td>0.006320</td>\n",
       "      <td>0.000000</td>\n",
       "      <td>0.460000</td>\n",
       "      <td>0.000000</td>\n",
       "      <td>0.385000</td>\n",
       "      <td>4.880000</td>\n",
       "      <td>2.900000</td>\n",
       "      <td>1.129600</td>\n",
       "      <td>1.000000</td>\n",
       "      <td>187.000000</td>\n",
       "      <td>13.600000</td>\n",
       "      <td>3.914450e+02</td>\n",
       "      <td>1.730000</td>\n",
       "      <td>5.600000</td>\n",
       "    </tr>\n",
       "    <tr>\n",
       "      <th>25%</th>\n",
       "      <td>0.068600</td>\n",
       "      <td>0.000000</td>\n",
       "      <td>5.190000</td>\n",
       "      <td>0.000000</td>\n",
       "      <td>0.449000</td>\n",
       "      <td>5.899750</td>\n",
       "      <td>45.175000</td>\n",
       "      <td>2.100175</td>\n",
       "      <td>4.000000</td>\n",
       "      <td>279.000000</td>\n",
       "      <td>17.400000</td>\n",
       "      <td>3.914450e+02</td>\n",
       "      <td>7.125000</td>\n",
       "      <td>17.100000</td>\n",
       "    </tr>\n",
       "    <tr>\n",
       "      <th>50%</th>\n",
       "      <td>0.175050</td>\n",
       "      <td>0.000000</td>\n",
       "      <td>9.690000</td>\n",
       "      <td>0.000000</td>\n",
       "      <td>0.538000</td>\n",
       "      <td>6.208500</td>\n",
       "      <td>76.800000</td>\n",
       "      <td>3.203325</td>\n",
       "      <td>5.000000</td>\n",
       "      <td>330.000000</td>\n",
       "      <td>19.075000</td>\n",
       "      <td>3.914450e+02</td>\n",
       "      <td>11.430000</td>\n",
       "      <td>21.200000</td>\n",
       "    </tr>\n",
       "    <tr>\n",
       "      <th>75%</th>\n",
       "      <td>0.852040</td>\n",
       "      <td>0.000000</td>\n",
       "      <td>18.100000</td>\n",
       "      <td>0.000000</td>\n",
       "      <td>0.624000</td>\n",
       "      <td>6.515250</td>\n",
       "      <td>93.975000</td>\n",
       "      <td>5.112625</td>\n",
       "      <td>24.000000</td>\n",
       "      <td>666.000000</td>\n",
       "      <td>20.200000</td>\n",
       "      <td>3.914450e+02</td>\n",
       "      <td>16.955000</td>\n",
       "      <td>23.800000</td>\n",
       "    </tr>\n",
       "    <tr>\n",
       "      <th>max</th>\n",
       "      <td>8.716750</td>\n",
       "      <td>30.000000</td>\n",
       "      <td>27.740000</td>\n",
       "      <td>1.000000</td>\n",
       "      <td>0.871000</td>\n",
       "      <td>7.691000</td>\n",
       "      <td>100.000000</td>\n",
       "      <td>9.222900</td>\n",
       "      <td>24.000000</td>\n",
       "      <td>711.000000</td>\n",
       "      <td>22.000000</td>\n",
       "      <td>3.914450e+02</td>\n",
       "      <td>37.970000</td>\n",
       "      <td>36.500000</td>\n",
       "    </tr>\n",
       "  </tbody>\n",
       "</table>\n",
       "</div>"
      ],
      "text/plain": [
       "             CRIM          ZN       INDUS        CHAS         NOX          RM  \\\n",
       "count  421.000000  423.000000  486.000000  486.000000  506.000000  506.000000   \n",
       "mean     1.131753    3.121749   11.083992    0.069959    0.554695    6.231747   \n",
       "std      2.017701    7.695706    6.835896    0.255340    0.115878    0.517519   \n",
       "min      0.006320    0.000000    0.460000    0.000000    0.385000    4.880000   \n",
       "25%      0.068600    0.000000    5.190000    0.000000    0.449000    5.899750   \n",
       "50%      0.175050    0.000000    9.690000    0.000000    0.538000    6.208500   \n",
       "75%      0.852040    0.000000   18.100000    0.000000    0.624000    6.515250   \n",
       "max      8.716750   30.000000   27.740000    1.000000    0.871000    7.691000   \n",
       "\n",
       "              AGE         DIS         RAD         TAX     PTRATIO  \\\n",
       "count  486.000000  506.000000  506.000000  506.000000  506.000000   \n",
       "mean    68.518519    3.718598    9.549407  408.237154   18.637253   \n",
       "std     27.999513    1.980432    8.707259  168.537116    1.937389   \n",
       "min      2.900000    1.129600    1.000000  187.000000   13.600000   \n",
       "25%     45.175000    2.100175    4.000000  279.000000   17.400000   \n",
       "50%     76.800000    3.203325    5.000000  330.000000   19.075000   \n",
       "75%     93.975000    5.112625   24.000000  666.000000   20.200000   \n",
       "max    100.000000    9.222900   24.000000  711.000000   22.000000   \n",
       "\n",
       "                  B       LSTAT        MEDV  \n",
       "count  5.060000e+02  486.000000  506.000000  \n",
       "mean   3.914450e+02   12.715432   20.757115  \n",
       "std    4.608873e-12    7.155871    6.192007  \n",
       "min    3.914450e+02    1.730000    5.600000  \n",
       "25%    3.914450e+02    7.125000   17.100000  \n",
       "50%    3.914450e+02   11.430000   21.200000  \n",
       "75%    3.914450e+02   16.955000   23.800000  \n",
       "max    3.914450e+02   37.970000   36.500000  "
      ]
     },
     "execution_count": 511,
     "metadata": {},
     "output_type": "execute_result"
    }
   ],
   "source": [
    "df.describe()"
   ]
  },
  {
   "cell_type": "code",
   "execution_count": 512,
   "id": "a26c6bf5",
   "metadata": {},
   "outputs": [
    {
     "name": "stdout",
     "output_type": "stream",
     "text": [
      "<class 'pandas.core.frame.DataFrame'>\n",
      "RangeIndex: 506 entries, 0 to 505\n",
      "Data columns (total 14 columns):\n",
      " #   Column   Non-Null Count  Dtype  \n",
      "---  ------   --------------  -----  \n",
      " 0   CRIM     421 non-null    float64\n",
      " 1   ZN       423 non-null    float64\n",
      " 2   INDUS    486 non-null    float64\n",
      " 3   CHAS     486 non-null    object \n",
      " 4   NOX      506 non-null    float64\n",
      " 5   RM       506 non-null    float64\n",
      " 6   AGE      486 non-null    float64\n",
      " 7   DIS      506 non-null    float64\n",
      " 8   RAD      506 non-null    int64  \n",
      " 9   TAX      506 non-null    int64  \n",
      " 10  PTRATIO  506 non-null    float64\n",
      " 11  B        506 non-null    float64\n",
      " 12  LSTAT    486 non-null    float64\n",
      " 13  MEDV     506 non-null    float64\n",
      "dtypes: float64(11), int64(2), object(1)\n",
      "memory usage: 55.5+ KB\n"
     ]
    }
   ],
   "source": [
    "df.CHAS = df.CHAS.astype(str)\n",
    "df.CHAS = df.CHAS.replace('0.0', '0')\n",
    "df.CHAS = df.CHAS.replace('1.0', '1')\n",
    "\n",
    "df.CHAS = df.CHAS.replace('nan', np.NaN)\n",
    "df.info()"
   ]
  },
  {
   "cell_type": "code",
   "execution_count": 514,
   "id": "80f763ff",
   "metadata": {},
   "outputs": [],
   "source": [
    "df.to_csv('hd1_outlier_iqr.csv', index=False)"
   ]
  },
  {
   "cell_type": "code",
   "execution_count": null,
   "id": "afce1510",
   "metadata": {},
   "outputs": [],
   "source": []
  }
 ],
 "metadata": {
  "kernelspec": {
   "display_name": "Python 3 (ipykernel)",
   "language": "python",
   "name": "python3"
  },
  "language_info": {
   "codemirror_mode": {
    "name": "ipython",
    "version": 3
   },
   "file_extension": ".py",
   "mimetype": "text/x-python",
   "name": "python",
   "nbconvert_exporter": "python",
   "pygments_lexer": "ipython3",
   "version": "3.8.13"
  }
 },
 "nbformat": 4,
 "nbformat_minor": 5
}
