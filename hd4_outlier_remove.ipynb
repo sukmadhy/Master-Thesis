{
 "cells": [
  {
   "cell_type": "markdown",
   "id": "ccf60641",
   "metadata": {},
   "source": [
    "## Removing the outliers"
   ]
  },
  {
   "cell_type": "markdown",
   "id": "6ac55863",
   "metadata": {},
   "source": [
    "## Import libraries"
   ]
  },
  {
   "cell_type": "code",
   "execution_count": 191,
   "id": "afaff21b",
   "metadata": {},
   "outputs": [],
   "source": [
    "import pandas as pd\n",
    "import numpy as np\n",
    "import seaborn as sns\n",
    "import matplotlib.pyplot as plt\n",
    "import warnings\n",
    "warnings.filterwarnings('ignore')"
   ]
  },
  {
   "cell_type": "markdown",
   "id": "2fe5d925",
   "metadata": {},
   "source": [
    "## import dataset"
   ]
  },
  {
   "cell_type": "code",
   "execution_count": 192,
   "id": "6f13eb70",
   "metadata": {},
   "outputs": [
    {
     "name": "stdout",
     "output_type": "stream",
     "text": [
      "<class 'pandas.core.frame.DataFrame'>\n",
      "RangeIndex: 506 entries, 0 to 505\n",
      "Data columns (total 14 columns):\n",
      " #   Column   Non-Null Count  Dtype  \n",
      "---  ------   --------------  -----  \n",
      " 0   CRIM     486 non-null    float64\n",
      " 1   ZN       486 non-null    float64\n",
      " 2   INDUS    486 non-null    float64\n",
      " 3   CHAS     486 non-null    float64\n",
      " 4   NOX      506 non-null    float64\n",
      " 5   RM       506 non-null    float64\n",
      " 6   AGE      486 non-null    float64\n",
      " 7   DIS      506 non-null    float64\n",
      " 8   RAD      506 non-null    int64  \n",
      " 9   TAX      506 non-null    int64  \n",
      " 10  PTRATIO  506 non-null    float64\n",
      " 11  B        506 non-null    float64\n",
      " 12  LSTAT    486 non-null    float64\n",
      " 13  MEDV     506 non-null    float64\n",
      "dtypes: float64(12), int64(2)\n",
      "memory usage: 55.5 KB\n"
     ]
    }
   ],
   "source": [
    "df = pd.read_csv('HousingData.csv')\n",
    "df.info()"
   ]
  },
  {
   "cell_type": "code",
   "execution_count": 193,
   "id": "ae7f3770",
   "metadata": {},
   "outputs": [
    {
     "data": {
      "text/html": [
       "<div>\n",
       "<style scoped>\n",
       "    .dataframe tbody tr th:only-of-type {\n",
       "        vertical-align: middle;\n",
       "    }\n",
       "\n",
       "    .dataframe tbody tr th {\n",
       "        vertical-align: top;\n",
       "    }\n",
       "\n",
       "    .dataframe thead th {\n",
       "        text-align: right;\n",
       "    }\n",
       "</style>\n",
       "<table border=\"1\" class=\"dataframe\">\n",
       "  <thead>\n",
       "    <tr style=\"text-align: right;\">\n",
       "      <th></th>\n",
       "      <th>CRIM</th>\n",
       "      <th>ZN</th>\n",
       "      <th>INDUS</th>\n",
       "      <th>CHAS</th>\n",
       "      <th>NOX</th>\n",
       "      <th>RM</th>\n",
       "      <th>AGE</th>\n",
       "      <th>DIS</th>\n",
       "      <th>RAD</th>\n",
       "      <th>TAX</th>\n",
       "      <th>PTRATIO</th>\n",
       "      <th>B</th>\n",
       "      <th>LSTAT</th>\n",
       "      <th>MEDV</th>\n",
       "    </tr>\n",
       "  </thead>\n",
       "  <tbody>\n",
       "    <tr>\n",
       "      <th>501</th>\n",
       "      <td>0.06263</td>\n",
       "      <td>0.0</td>\n",
       "      <td>11.93</td>\n",
       "      <td>0.0</td>\n",
       "      <td>0.573</td>\n",
       "      <td>6.593</td>\n",
       "      <td>69.1</td>\n",
       "      <td>2.4786</td>\n",
       "      <td>1</td>\n",
       "      <td>273</td>\n",
       "      <td>21.0</td>\n",
       "      <td>391.99</td>\n",
       "      <td>NaN</td>\n",
       "      <td>22.4</td>\n",
       "    </tr>\n",
       "    <tr>\n",
       "      <th>502</th>\n",
       "      <td>0.04527</td>\n",
       "      <td>0.0</td>\n",
       "      <td>11.93</td>\n",
       "      <td>0.0</td>\n",
       "      <td>0.573</td>\n",
       "      <td>6.120</td>\n",
       "      <td>76.7</td>\n",
       "      <td>2.2875</td>\n",
       "      <td>1</td>\n",
       "      <td>273</td>\n",
       "      <td>21.0</td>\n",
       "      <td>396.90</td>\n",
       "      <td>9.08</td>\n",
       "      <td>20.6</td>\n",
       "    </tr>\n",
       "    <tr>\n",
       "      <th>503</th>\n",
       "      <td>0.06076</td>\n",
       "      <td>0.0</td>\n",
       "      <td>11.93</td>\n",
       "      <td>0.0</td>\n",
       "      <td>0.573</td>\n",
       "      <td>6.976</td>\n",
       "      <td>91.0</td>\n",
       "      <td>2.1675</td>\n",
       "      <td>1</td>\n",
       "      <td>273</td>\n",
       "      <td>21.0</td>\n",
       "      <td>396.90</td>\n",
       "      <td>5.64</td>\n",
       "      <td>23.9</td>\n",
       "    </tr>\n",
       "    <tr>\n",
       "      <th>504</th>\n",
       "      <td>0.10959</td>\n",
       "      <td>0.0</td>\n",
       "      <td>11.93</td>\n",
       "      <td>0.0</td>\n",
       "      <td>0.573</td>\n",
       "      <td>6.794</td>\n",
       "      <td>89.3</td>\n",
       "      <td>2.3889</td>\n",
       "      <td>1</td>\n",
       "      <td>273</td>\n",
       "      <td>21.0</td>\n",
       "      <td>393.45</td>\n",
       "      <td>6.48</td>\n",
       "      <td>22.0</td>\n",
       "    </tr>\n",
       "    <tr>\n",
       "      <th>505</th>\n",
       "      <td>0.04741</td>\n",
       "      <td>0.0</td>\n",
       "      <td>11.93</td>\n",
       "      <td>0.0</td>\n",
       "      <td>0.573</td>\n",
       "      <td>6.030</td>\n",
       "      <td>NaN</td>\n",
       "      <td>2.5050</td>\n",
       "      <td>1</td>\n",
       "      <td>273</td>\n",
       "      <td>21.0</td>\n",
       "      <td>396.90</td>\n",
       "      <td>7.88</td>\n",
       "      <td>11.9</td>\n",
       "    </tr>\n",
       "  </tbody>\n",
       "</table>\n",
       "</div>"
      ],
      "text/plain": [
       "        CRIM   ZN  INDUS  CHAS    NOX     RM   AGE     DIS  RAD  TAX  PTRATIO  \\\n",
       "501  0.06263  0.0  11.93   0.0  0.573  6.593  69.1  2.4786    1  273     21.0   \n",
       "502  0.04527  0.0  11.93   0.0  0.573  6.120  76.7  2.2875    1  273     21.0   \n",
       "503  0.06076  0.0  11.93   0.0  0.573  6.976  91.0  2.1675    1  273     21.0   \n",
       "504  0.10959  0.0  11.93   0.0  0.573  6.794  89.3  2.3889    1  273     21.0   \n",
       "505  0.04741  0.0  11.93   0.0  0.573  6.030   NaN  2.5050    1  273     21.0   \n",
       "\n",
       "          B  LSTAT  MEDV  \n",
       "501  391.99    NaN  22.4  \n",
       "502  396.90   9.08  20.6  \n",
       "503  396.90   5.64  23.9  \n",
       "504  393.45   6.48  22.0  \n",
       "505  396.90   7.88  11.9  "
      ]
     },
     "execution_count": 193,
     "metadata": {},
     "output_type": "execute_result"
    }
   ],
   "source": [
    "df.tail()"
   ]
  },
  {
   "cell_type": "markdown",
   "id": "92a557a1",
   "metadata": {},
   "source": [
    "#### Since the classification depends on CHAS column, therefore it cannot have missing data."
   ]
  },
  {
   "cell_type": "code",
   "execution_count": 194,
   "id": "982c92fc",
   "metadata": {},
   "outputs": [
    {
     "data": {
      "text/plain": [
       "0"
      ]
     },
     "execution_count": 194,
     "metadata": {},
     "output_type": "execute_result"
    }
   ],
   "source": [
    "df.CHAS.fillna(df.CHAS.mode()[0], inplace=True)\n",
    "df.CHAS.isna().sum()"
   ]
  },
  {
   "cell_type": "markdown",
   "id": "b271e7fb",
   "metadata": {},
   "source": [
    "# Outliers"
   ]
  },
  {
   "cell_type": "code",
   "execution_count": 195,
   "id": "c169c5d6",
   "metadata": {
    "scrolled": false
   },
   "outputs": [
    {
     "name": "stdout",
     "output_type": "stream",
     "text": [
      "Outliers based on 99th percentile method\n",
      "\n",
      "CRIM has 1.98% of outliers\n",
      "ZN has 0.99% of outliers\n",
      "INDUS has 1.78% of outliers\n",
      "CHAS has 0.00% of outliers\n",
      "NOX has 0.99% of outliers\n",
      "RM has 2.37% of outliers\n",
      "AGE has 0.99% of outliers\n",
      "DIS has 2.37% of outliers\n",
      "RAD has 0.00% of outliers\n",
      "TAX has 1.19% of outliers\n",
      "PTRATIO has 0.99% of outliers\n",
      "B has 1.19% of outliers\n",
      "LSTAT has 1.98% of outliers\n",
      "MEDV has 1.19% of outliers\n"
     ]
    }
   ],
   "source": [
    "print(\"Outliers based on 99th percentile method\\n\")\n",
    "\n",
    "for k, v in df.items():\n",
    "    LB = v.quantile(0.01)\n",
    "    UB = v.quantile(0.99)\n",
    "    \n",
    "    v_col = v[(v < LB) | (v > UB)]\n",
    "    perc = np.shape(v_col)[0] * 100.0 / np.shape(df)[0]\n",
    "    \n",
    "    print(f\"{k} has {perc:.2f}% of outliers\")"
   ]
  },
  {
   "cell_type": "code",
   "execution_count": 196,
   "id": "24bfbf93",
   "metadata": {},
   "outputs": [
    {
     "data": {
      "text/html": [
       "<div>\n",
       "<style scoped>\n",
       "    .dataframe tbody tr th:only-of-type {\n",
       "        vertical-align: middle;\n",
       "    }\n",
       "\n",
       "    .dataframe tbody tr th {\n",
       "        vertical-align: top;\n",
       "    }\n",
       "\n",
       "    .dataframe thead th {\n",
       "        text-align: right;\n",
       "    }\n",
       "</style>\n",
       "<table border=\"1\" class=\"dataframe\">\n",
       "  <thead>\n",
       "    <tr style=\"text-align: right;\">\n",
       "      <th></th>\n",
       "      <th>CRIM</th>\n",
       "      <th>ZN</th>\n",
       "      <th>INDUS</th>\n",
       "      <th>CHAS</th>\n",
       "      <th>NOX</th>\n",
       "      <th>RM</th>\n",
       "      <th>AGE</th>\n",
       "      <th>DIS</th>\n",
       "      <th>RAD</th>\n",
       "      <th>TAX</th>\n",
       "      <th>PTRATIO</th>\n",
       "      <th>B</th>\n",
       "      <th>LSTAT</th>\n",
       "      <th>MEDV</th>\n",
       "    </tr>\n",
       "  </thead>\n",
       "  <tbody>\n",
       "    <tr>\n",
       "      <th>count</th>\n",
       "      <td>486.000000</td>\n",
       "      <td>486.000000</td>\n",
       "      <td>486.000000</td>\n",
       "      <td>506.000000</td>\n",
       "      <td>506.000000</td>\n",
       "      <td>506.000000</td>\n",
       "      <td>486.000000</td>\n",
       "      <td>506.000000</td>\n",
       "      <td>506.000000</td>\n",
       "      <td>506.000000</td>\n",
       "      <td>506.000000</td>\n",
       "      <td>506.000000</td>\n",
       "      <td>486.000000</td>\n",
       "      <td>506.000000</td>\n",
       "    </tr>\n",
       "    <tr>\n",
       "      <th>mean</th>\n",
       "      <td>3.611874</td>\n",
       "      <td>11.211934</td>\n",
       "      <td>11.083992</td>\n",
       "      <td>0.067194</td>\n",
       "      <td>0.554695</td>\n",
       "      <td>6.284634</td>\n",
       "      <td>68.518519</td>\n",
       "      <td>3.795043</td>\n",
       "      <td>9.549407</td>\n",
       "      <td>408.237154</td>\n",
       "      <td>18.455534</td>\n",
       "      <td>356.674032</td>\n",
       "      <td>12.715432</td>\n",
       "      <td>22.532806</td>\n",
       "    </tr>\n",
       "    <tr>\n",
       "      <th>std</th>\n",
       "      <td>8.720192</td>\n",
       "      <td>23.388876</td>\n",
       "      <td>6.835896</td>\n",
       "      <td>0.250605</td>\n",
       "      <td>0.115878</td>\n",
       "      <td>0.702617</td>\n",
       "      <td>27.999513</td>\n",
       "      <td>2.105710</td>\n",
       "      <td>8.707259</td>\n",
       "      <td>168.537116</td>\n",
       "      <td>2.164946</td>\n",
       "      <td>91.294864</td>\n",
       "      <td>7.155871</td>\n",
       "      <td>9.197104</td>\n",
       "    </tr>\n",
       "    <tr>\n",
       "      <th>min</th>\n",
       "      <td>0.006320</td>\n",
       "      <td>0.000000</td>\n",
       "      <td>0.460000</td>\n",
       "      <td>0.000000</td>\n",
       "      <td>0.385000</td>\n",
       "      <td>3.561000</td>\n",
       "      <td>2.900000</td>\n",
       "      <td>1.129600</td>\n",
       "      <td>1.000000</td>\n",
       "      <td>187.000000</td>\n",
       "      <td>12.600000</td>\n",
       "      <td>0.320000</td>\n",
       "      <td>1.730000</td>\n",
       "      <td>5.000000</td>\n",
       "    </tr>\n",
       "    <tr>\n",
       "      <th>25%</th>\n",
       "      <td>0.081900</td>\n",
       "      <td>0.000000</td>\n",
       "      <td>5.190000</td>\n",
       "      <td>0.000000</td>\n",
       "      <td>0.449000</td>\n",
       "      <td>5.885500</td>\n",
       "      <td>45.175000</td>\n",
       "      <td>2.100175</td>\n",
       "      <td>4.000000</td>\n",
       "      <td>279.000000</td>\n",
       "      <td>17.400000</td>\n",
       "      <td>375.377500</td>\n",
       "      <td>7.125000</td>\n",
       "      <td>17.025000</td>\n",
       "    </tr>\n",
       "    <tr>\n",
       "      <th>50%</th>\n",
       "      <td>0.253715</td>\n",
       "      <td>0.000000</td>\n",
       "      <td>9.690000</td>\n",
       "      <td>0.000000</td>\n",
       "      <td>0.538000</td>\n",
       "      <td>6.208500</td>\n",
       "      <td>76.800000</td>\n",
       "      <td>3.207450</td>\n",
       "      <td>5.000000</td>\n",
       "      <td>330.000000</td>\n",
       "      <td>19.050000</td>\n",
       "      <td>391.440000</td>\n",
       "      <td>11.430000</td>\n",
       "      <td>21.200000</td>\n",
       "    </tr>\n",
       "    <tr>\n",
       "      <th>75%</th>\n",
       "      <td>3.560263</td>\n",
       "      <td>12.500000</td>\n",
       "      <td>18.100000</td>\n",
       "      <td>0.000000</td>\n",
       "      <td>0.624000</td>\n",
       "      <td>6.623500</td>\n",
       "      <td>93.975000</td>\n",
       "      <td>5.188425</td>\n",
       "      <td>24.000000</td>\n",
       "      <td>666.000000</td>\n",
       "      <td>20.200000</td>\n",
       "      <td>396.225000</td>\n",
       "      <td>16.955000</td>\n",
       "      <td>25.000000</td>\n",
       "    </tr>\n",
       "    <tr>\n",
       "      <th>max</th>\n",
       "      <td>88.976200</td>\n",
       "      <td>100.000000</td>\n",
       "      <td>27.740000</td>\n",
       "      <td>1.000000</td>\n",
       "      <td>0.871000</td>\n",
       "      <td>8.780000</td>\n",
       "      <td>100.000000</td>\n",
       "      <td>12.126500</td>\n",
       "      <td>24.000000</td>\n",
       "      <td>711.000000</td>\n",
       "      <td>22.000000</td>\n",
       "      <td>396.900000</td>\n",
       "      <td>37.970000</td>\n",
       "      <td>50.000000</td>\n",
       "    </tr>\n",
       "  </tbody>\n",
       "</table>\n",
       "</div>"
      ],
      "text/plain": [
       "             CRIM          ZN       INDUS        CHAS         NOX          RM  \\\n",
       "count  486.000000  486.000000  486.000000  506.000000  506.000000  506.000000   \n",
       "mean     3.611874   11.211934   11.083992    0.067194    0.554695    6.284634   \n",
       "std      8.720192   23.388876    6.835896    0.250605    0.115878    0.702617   \n",
       "min      0.006320    0.000000    0.460000    0.000000    0.385000    3.561000   \n",
       "25%      0.081900    0.000000    5.190000    0.000000    0.449000    5.885500   \n",
       "50%      0.253715    0.000000    9.690000    0.000000    0.538000    6.208500   \n",
       "75%      3.560263   12.500000   18.100000    0.000000    0.624000    6.623500   \n",
       "max     88.976200  100.000000   27.740000    1.000000    0.871000    8.780000   \n",
       "\n",
       "              AGE         DIS         RAD         TAX     PTRATIO           B  \\\n",
       "count  486.000000  506.000000  506.000000  506.000000  506.000000  506.000000   \n",
       "mean    68.518519    3.795043    9.549407  408.237154   18.455534  356.674032   \n",
       "std     27.999513    2.105710    8.707259  168.537116    2.164946   91.294864   \n",
       "min      2.900000    1.129600    1.000000  187.000000   12.600000    0.320000   \n",
       "25%     45.175000    2.100175    4.000000  279.000000   17.400000  375.377500   \n",
       "50%     76.800000    3.207450    5.000000  330.000000   19.050000  391.440000   \n",
       "75%     93.975000    5.188425   24.000000  666.000000   20.200000  396.225000   \n",
       "max    100.000000   12.126500   24.000000  711.000000   22.000000  396.900000   \n",
       "\n",
       "            LSTAT        MEDV  \n",
       "count  486.000000  506.000000  \n",
       "mean    12.715432   22.532806  \n",
       "std      7.155871    9.197104  \n",
       "min      1.730000    5.000000  \n",
       "25%      7.125000   17.025000  \n",
       "50%     11.430000   21.200000  \n",
       "75%     16.955000   25.000000  \n",
       "max     37.970000   50.000000  "
      ]
     },
     "execution_count": 196,
     "metadata": {},
     "output_type": "execute_result"
    }
   ],
   "source": [
    "df.describe()"
   ]
  },
  {
   "cell_type": "markdown",
   "id": "d6fabcfa",
   "metadata": {},
   "source": [
    "### CRIM"
   ]
  },
  {
   "cell_type": "code",
   "execution_count": 197,
   "id": "80353451",
   "metadata": {},
   "outputs": [
    {
     "data": {
      "image/png": "[encoded data removed]",
      "text/plain": [
       "<Figure size 640x480 with 1 Axes>"
      ]
     },
     "metadata": {},
     "output_type": "display_data"
    }
   ],
   "source": [
    "sns.scatterplot(data=df['CRIM'])\n",
    "plt.show()"
   ]
  },
  {
   "cell_type": "code",
   "execution_count": 198,
   "id": "b9189021",
   "metadata": {
    "scrolled": true
   },
   "outputs": [
    {
     "name": "stdout",
     "output_type": "stream",
     "text": [
      "upper bound: 42.16173499999991\n",
      "lower bound: 0.0135265\n"
     ]
    }
   ],
   "source": [
    "LB = df['CRIM'].quantile(0.01)\n",
    "UB = df['CRIM'].quantile(0.99)\n",
    "print(\"upper bound:\", UB)\n",
    "print(\"lower bound:\", LB)"
   ]
  },
  {
   "cell_type": "code",
   "execution_count": 199,
   "id": "adb83409",
   "metadata": {},
   "outputs": [
    {
     "data": {
      "text/plain": [
       "0       0.00632\n",
       "55      0.01311\n",
       "284     0.00906\n",
       "285     0.01096\n",
       "341     0.01301\n",
       "380    88.97620\n",
       "405    67.92080\n",
       "410    51.13580\n",
       "414    45.74610\n",
       "418    73.53410\n",
       "Name: CRIM, dtype: float64"
      ]
     },
     "execution_count": 199,
     "metadata": {},
     "output_type": "execute_result"
    }
   ],
   "source": [
    "df['CRIM'][(df['CRIM'] < LB) | (df['CRIM'] > UB)]"
   ]
  },
  {
   "cell_type": "markdown",
   "id": "e05a67ee",
   "metadata": {},
   "source": [
    "### start to remove:"
   ]
  },
  {
   "cell_type": "code",
   "execution_count": 200,
   "id": "d23e1489",
   "metadata": {},
   "outputs": [],
   "source": [
    "new = df[~((df['CRIM'] < LB) | (df['CRIM'] > UB))]"
   ]
  },
  {
   "cell_type": "code",
   "execution_count": 201,
   "id": "ea65fb68",
   "metadata": {},
   "outputs": [],
   "source": [
    "new['CRIM'][(new['CRIM'] < LB) | (new['CRIM'] > UB)] = np.median(new['CRIM'])"
   ]
  },
  {
   "cell_type": "markdown",
   "id": "b9da1309",
   "metadata": {},
   "source": [
    "### ZN"
   ]
  },
  {
   "cell_type": "code",
   "execution_count": 202,
   "id": "e9d9d7a7",
   "metadata": {},
   "outputs": [
    {
     "data": {
      "image/png": "[encoded data removed]",
      "text/plain": [
       "<Figure size 640x480 with 1 Axes>"
      ]
     },
     "metadata": {},
     "output_type": "display_data"
    }
   ],
   "source": [
    "sns.scatterplot(data=new['ZN'])\n",
    "plt.show()"
   ]
  },
  {
   "cell_type": "code",
   "execution_count": 203,
   "id": "5e29a0fc",
   "metadata": {},
   "outputs": [
    {
     "name": "stdout",
     "output_type": "stream",
     "text": [
      "upper bound: 91.25\n",
      "lower bound: 0.0\n"
     ]
    }
   ],
   "source": [
    "LB = new['ZN'].quantile(0.01)\n",
    "UB = new['ZN'].quantile(0.99)\n",
    "print(\"upper bound:\", UB)\n",
    "print(\"lower bound:\", LB)"
   ]
  },
  {
   "cell_type": "code",
   "execution_count": 204,
   "id": "c6155bd6",
   "metadata": {},
   "outputs": [
    {
     "data": {
      "text/plain": [
       "57     100.0\n",
       "199     95.0\n",
       "200     95.0\n",
       "203     95.0\n",
       "204     95.0\n",
       "Name: ZN, dtype: float64"
      ]
     },
     "execution_count": 204,
     "metadata": {},
     "output_type": "execute_result"
    }
   ],
   "source": [
    "new['ZN'][(new['ZN'] < LB) | (new['ZN'] > UB)]"
   ]
  },
  {
   "cell_type": "code",
   "execution_count": 205,
   "id": "ca888f3b",
   "metadata": {
    "scrolled": true
   },
   "outputs": [],
   "source": [
    "new['ZN'][(new['ZN'] < LB) | (new['ZN'] > UB)] = np.median(new['ZN'])"
   ]
  },
  {
   "cell_type": "markdown",
   "id": "1e1866cb",
   "metadata": {},
   "source": [
    "### RM"
   ]
  },
  {
   "cell_type": "code",
   "execution_count": 206,
   "id": "d901dbd3",
   "metadata": {},
   "outputs": [
    {
     "data": {
      "image/png": "[encoded data removed]",
      "text/plain": [
       "<Figure size 640x480 with 1 Axes>"
      ]
     },
     "metadata": {},
     "output_type": "display_data"
    }
   ],
   "source": [
    "sns.scatterplot(data=new['RM'])\n",
    "plt.show()"
   ]
  },
  {
   "cell_type": "code",
   "execution_count": 207,
   "id": "355bb82d",
   "metadata": {},
   "outputs": [
    {
     "name": "stdout",
     "output_type": "stream",
     "text": [
      "upper bound: 8.3389\n",
      "lower bound: 4.615\n"
     ]
    }
   ],
   "source": [
    "LB = new['RM'].quantile(0.01)\n",
    "UB = new['RM'].quantile(0.99)\n",
    "print(\"upper bound:\", UB)\n",
    "print(\"lower bound:\", LB)"
   ]
  },
  {
   "cell_type": "code",
   "execution_count": 208,
   "id": "1dd751d7",
   "metadata": {},
   "outputs": [
    {
     "data": {
      "text/plain": [
       "163    8.375\n",
       "225    8.725\n",
       "257    8.704\n",
       "262    8.398\n",
       "364    8.780\n",
       "365    3.561\n",
       "367    3.863\n",
       "374    4.138\n",
       "384    4.368\n",
       "406    4.138\n",
       "Name: RM, dtype: float64"
      ]
     },
     "execution_count": 208,
     "metadata": {},
     "output_type": "execute_result"
    }
   ],
   "source": [
    "new['RM'][(new['RM'] < LB) | (new['RM'] > UB)] "
   ]
  },
  {
   "cell_type": "code",
   "execution_count": 209,
   "id": "6fea57f0",
   "metadata": {},
   "outputs": [],
   "source": [
    "new['RM'][(new['RM'] < LB) | (new['RM'] > UB)] = np.median(new['RM'])"
   ]
  },
  {
   "cell_type": "markdown",
   "id": "1236b7a5",
   "metadata": {},
   "source": [
    "### DIS"
   ]
  },
  {
   "cell_type": "code",
   "execution_count": 210,
   "id": "99e5a891",
   "metadata": {},
   "outputs": [
    {
     "data": {
      "image/png": "[encoded data removed]",
      "text/plain": [
       "<Figure size 640x480 with 1 Axes>"
      ]
     },
     "metadata": {},
     "output_type": "display_data"
    }
   ],
   "source": [
    "sns.scatterplot(data=new['DIS'])\n",
    "plt.show()"
   ]
  },
  {
   "cell_type": "code",
   "execution_count": 211,
   "id": "b169a97d",
   "metadata": {},
   "outputs": [
    {
     "name": "stdout",
     "output_type": "stream",
     "text": [
      "upper bound: 9.291040000000015\n",
      "lower bound: 1.201185\n"
     ]
    }
   ],
   "source": [
    "LB = new['DIS'].quantile(0.01)\n",
    "UB = new['DIS'].quantile(0.99)\n",
    "print(\"upper bound:\", UB)\n",
    "print(\"lower bound:\", LB)"
   ]
  },
  {
   "cell_type": "code",
   "execution_count": 212,
   "id": "99fa8dcc",
   "metadata": {},
   "outputs": [
    {
     "data": {
      "text/html": [
       "<div>\n",
       "<style scoped>\n",
       "    .dataframe tbody tr th:only-of-type {\n",
       "        vertical-align: middle;\n",
       "    }\n",
       "\n",
       "    .dataframe tbody tr th {\n",
       "        vertical-align: top;\n",
       "    }\n",
       "\n",
       "    .dataframe thead th {\n",
       "        text-align: right;\n",
       "    }\n",
       "</style>\n",
       "<table border=\"1\" class=\"dataframe\">\n",
       "  <thead>\n",
       "    <tr style=\"text-align: right;\">\n",
       "      <th></th>\n",
       "      <th>CRIM</th>\n",
       "      <th>ZN</th>\n",
       "      <th>INDUS</th>\n",
       "      <th>CHAS</th>\n",
       "      <th>NOX</th>\n",
       "      <th>RM</th>\n",
       "      <th>AGE</th>\n",
       "      <th>DIS</th>\n",
       "      <th>RAD</th>\n",
       "      <th>TAX</th>\n",
       "      <th>PTRATIO</th>\n",
       "      <th>B</th>\n",
       "      <th>LSTAT</th>\n",
       "      <th>MEDV</th>\n",
       "    </tr>\n",
       "  </thead>\n",
       "  <tbody>\n",
       "    <tr>\n",
       "      <th>351</th>\n",
       "      <td>0.07950</td>\n",
       "      <td>60.0</td>\n",
       "      <td>1.69</td>\n",
       "      <td>0.0</td>\n",
       "      <td>0.411</td>\n",
       "      <td>6.579</td>\n",
       "      <td>35.9</td>\n",
       "      <td>10.7103</td>\n",
       "      <td>4</td>\n",
       "      <td>411</td>\n",
       "      <td>18.3</td>\n",
       "      <td>370.78</td>\n",
       "      <td>5.49</td>\n",
       "      <td>24.1</td>\n",
       "    </tr>\n",
       "    <tr>\n",
       "      <th>352</th>\n",
       "      <td>0.07244</td>\n",
       "      <td>60.0</td>\n",
       "      <td>1.69</td>\n",
       "      <td>0.0</td>\n",
       "      <td>0.411</td>\n",
       "      <td>5.884</td>\n",
       "      <td>18.5</td>\n",
       "      <td>10.7103</td>\n",
       "      <td>4</td>\n",
       "      <td>411</td>\n",
       "      <td>18.3</td>\n",
       "      <td>392.33</td>\n",
       "      <td>7.79</td>\n",
       "      <td>18.6</td>\n",
       "    </tr>\n",
       "    <tr>\n",
       "      <th>353</th>\n",
       "      <td>0.01709</td>\n",
       "      <td>90.0</td>\n",
       "      <td>2.02</td>\n",
       "      <td>0.0</td>\n",
       "      <td>0.410</td>\n",
       "      <td>6.728</td>\n",
       "      <td>36.1</td>\n",
       "      <td>12.1265</td>\n",
       "      <td>5</td>\n",
       "      <td>187</td>\n",
       "      <td>17.0</td>\n",
       "      <td>384.46</td>\n",
       "      <td>4.50</td>\n",
       "      <td>30.1</td>\n",
       "    </tr>\n",
       "    <tr>\n",
       "      <th>354</th>\n",
       "      <td>0.04301</td>\n",
       "      <td>80.0</td>\n",
       "      <td>1.91</td>\n",
       "      <td>0.0</td>\n",
       "      <td>0.413</td>\n",
       "      <td>5.663</td>\n",
       "      <td>21.9</td>\n",
       "      <td>10.5857</td>\n",
       "      <td>4</td>\n",
       "      <td>334</td>\n",
       "      <td>22.0</td>\n",
       "      <td>382.80</td>\n",
       "      <td>8.05</td>\n",
       "      <td>18.2</td>\n",
       "    </tr>\n",
       "    <tr>\n",
       "      <th>355</th>\n",
       "      <td>0.10659</td>\n",
       "      <td>NaN</td>\n",
       "      <td>1.91</td>\n",
       "      <td>0.0</td>\n",
       "      <td>0.413</td>\n",
       "      <td>5.936</td>\n",
       "      <td>NaN</td>\n",
       "      <td>10.5857</td>\n",
       "      <td>4</td>\n",
       "      <td>334</td>\n",
       "      <td>22.0</td>\n",
       "      <td>376.04</td>\n",
       "      <td>5.57</td>\n",
       "      <td>20.6</td>\n",
       "    </tr>\n",
       "    <tr>\n",
       "      <th>371</th>\n",
       "      <td>9.23230</td>\n",
       "      <td>0.0</td>\n",
       "      <td>18.10</td>\n",
       "      <td>0.0</td>\n",
       "      <td>0.631</td>\n",
       "      <td>6.216</td>\n",
       "      <td>100.0</td>\n",
       "      <td>1.1691</td>\n",
       "      <td>24</td>\n",
       "      <td>666</td>\n",
       "      <td>20.2</td>\n",
       "      <td>366.15</td>\n",
       "      <td>9.53</td>\n",
       "      <td>50.0</td>\n",
       "    </tr>\n",
       "    <tr>\n",
       "      <th>372</th>\n",
       "      <td>8.26725</td>\n",
       "      <td>0.0</td>\n",
       "      <td>18.10</td>\n",
       "      <td>1.0</td>\n",
       "      <td>0.668</td>\n",
       "      <td>5.875</td>\n",
       "      <td>89.6</td>\n",
       "      <td>1.1296</td>\n",
       "      <td>24</td>\n",
       "      <td>666</td>\n",
       "      <td>20.2</td>\n",
       "      <td>347.88</td>\n",
       "      <td>8.88</td>\n",
       "      <td>50.0</td>\n",
       "    </tr>\n",
       "    <tr>\n",
       "      <th>373</th>\n",
       "      <td>11.10810</td>\n",
       "      <td>0.0</td>\n",
       "      <td>18.10</td>\n",
       "      <td>0.0</td>\n",
       "      <td>0.668</td>\n",
       "      <td>4.906</td>\n",
       "      <td>100.0</td>\n",
       "      <td>1.1742</td>\n",
       "      <td>24</td>\n",
       "      <td>666</td>\n",
       "      <td>20.2</td>\n",
       "      <td>396.90</td>\n",
       "      <td>34.77</td>\n",
       "      <td>13.8</td>\n",
       "    </tr>\n",
       "    <tr>\n",
       "      <th>374</th>\n",
       "      <td>18.49820</td>\n",
       "      <td>0.0</td>\n",
       "      <td>18.10</td>\n",
       "      <td>0.0</td>\n",
       "      <td>0.668</td>\n",
       "      <td>6.205</td>\n",
       "      <td>100.0</td>\n",
       "      <td>1.1370</td>\n",
       "      <td>24</td>\n",
       "      <td>666</td>\n",
       "      <td>20.2</td>\n",
       "      <td>396.90</td>\n",
       "      <td>37.97</td>\n",
       "      <td>13.8</td>\n",
       "    </tr>\n",
       "    <tr>\n",
       "      <th>406</th>\n",
       "      <td>20.71620</td>\n",
       "      <td>0.0</td>\n",
       "      <td>NaN</td>\n",
       "      <td>0.0</td>\n",
       "      <td>0.659</td>\n",
       "      <td>6.205</td>\n",
       "      <td>100.0</td>\n",
       "      <td>1.1781</td>\n",
       "      <td>24</td>\n",
       "      <td>666</td>\n",
       "      <td>20.2</td>\n",
       "      <td>370.22</td>\n",
       "      <td>23.34</td>\n",
       "      <td>11.9</td>\n",
       "    </tr>\n",
       "  </tbody>\n",
       "</table>\n",
       "</div>"
      ],
      "text/plain": [
       "         CRIM    ZN  INDUS  CHAS    NOX     RM    AGE      DIS  RAD  TAX  \\\n",
       "351   0.07950  60.0   1.69   0.0  0.411  6.579   35.9  10.7103    4  411   \n",
       "352   0.07244  60.0   1.69   0.0  0.411  5.884   18.5  10.7103    4  411   \n",
       "353   0.01709  90.0   2.02   0.0  0.410  6.728   36.1  12.1265    5  187   \n",
       "354   0.04301  80.0   1.91   0.0  0.413  5.663   21.9  10.5857    4  334   \n",
       "355   0.10659   NaN   1.91   0.0  0.413  5.936    NaN  10.5857    4  334   \n",
       "371   9.23230   0.0  18.10   0.0  0.631  6.216  100.0   1.1691   24  666   \n",
       "372   8.26725   0.0  18.10   1.0  0.668  5.875   89.6   1.1296   24  666   \n",
       "373  11.10810   0.0  18.10   0.0  0.668  4.906  100.0   1.1742   24  666   \n",
       "374  18.49820   0.0  18.10   0.0  0.668  6.205  100.0   1.1370   24  666   \n",
       "406  20.71620   0.0    NaN   0.0  0.659  6.205  100.0   1.1781   24  666   \n",
       "\n",
       "     PTRATIO       B  LSTAT  MEDV  \n",
       "351     18.3  370.78   5.49  24.1  \n",
       "352     18.3  392.33   7.79  18.6  \n",
       "353     17.0  384.46   4.50  30.1  \n",
       "354     22.0  382.80   8.05  18.2  \n",
       "355     22.0  376.04   5.57  20.6  \n",
       "371     20.2  366.15   9.53  50.0  \n",
       "372     20.2  347.88   8.88  50.0  \n",
       "373     20.2  396.90  34.77  13.8  \n",
       "374     20.2  396.90  37.97  13.8  \n",
       "406     20.2  370.22  23.34  11.9  "
      ]
     },
     "execution_count": 212,
     "metadata": {},
     "output_type": "execute_result"
    }
   ],
   "source": [
    "new[(new['DIS'] < LB) | (new['DIS'] > UB)]"
   ]
  },
  {
   "cell_type": "code",
   "execution_count": 213,
   "id": "79b47de5",
   "metadata": {
    "scrolled": false
   },
   "outputs": [],
   "source": [
    "new['DIS'][(new['DIS'] < LB) | (new['DIS'] > UB)] = np.median(new['DIS'])"
   ]
  },
  {
   "cell_type": "markdown",
   "id": "0f83356c",
   "metadata": {},
   "source": [
    "### PTRATIO"
   ]
  },
  {
   "cell_type": "code",
   "execution_count": 214,
   "id": "533224c2",
   "metadata": {},
   "outputs": [
    {
     "data": {
      "image/png": "[encoded data removed]",
      "text/plain": [
       "<Figure size 640x480 with 1 Axes>"
      ]
     },
     "metadata": {},
     "output_type": "display_data"
    }
   ],
   "source": [
    "sns.scatterplot(data=new['PTRATIO'])\n",
    "plt.show()"
   ]
  },
  {
   "cell_type": "code",
   "execution_count": 215,
   "id": "a8000707",
   "metadata": {},
   "outputs": [
    {
     "name": "stdout",
     "output_type": "stream",
     "text": [
      "upper bound: 21.2\n",
      "lower bound: 13.0\n"
     ]
    }
   ],
   "source": [
    "LB = new['PTRATIO'].quantile(0.01)\n",
    "UB = new['PTRATIO'].quantile(0.99)\n",
    "print(\"upper bound:\", UB)\n",
    "print(\"lower bound:\", LB)"
   ]
  },
  {
   "cell_type": "code",
   "execution_count": 216,
   "id": "6f9feaf0",
   "metadata": {},
   "outputs": [
    {
     "data": {
      "text/plain": [
       "196    12.6\n",
       "197    12.6\n",
       "198    12.6\n",
       "354    22.0\n",
       "355    22.0\n",
       "Name: PTRATIO, dtype: float64"
      ]
     },
     "execution_count": 216,
     "metadata": {},
     "output_type": "execute_result"
    }
   ],
   "source": [
    "new['PTRATIO'][(new['PTRATIO'] < LB) | (new['PTRATIO'] > UB)]"
   ]
  },
  {
   "cell_type": "code",
   "execution_count": 217,
   "id": "8abe1bde",
   "metadata": {},
   "outputs": [],
   "source": [
    "new['PTRATIO'][(new['PTRATIO'] < LB) | (new['PTRATIO'] > UB)] = np.median(new['PTRATIO'])"
   ]
  },
  {
   "cell_type": "markdown",
   "id": "f75faa4e",
   "metadata": {},
   "source": [
    "### B"
   ]
  },
  {
   "cell_type": "code",
   "execution_count": 218,
   "id": "6f9d5869",
   "metadata": {},
   "outputs": [
    {
     "data": {
      "image/png": "[encoded data removed]",
      "text/plain": [
       "<Figure size 640x480 with 1 Axes>"
      ]
     },
     "metadata": {},
     "output_type": "display_data"
    }
   ],
   "source": [
    "sns.scatterplot(data=new['B'])\n",
    "plt.show()"
   ]
  },
  {
   "cell_type": "code",
   "execution_count": 219,
   "id": "48274ca1",
   "metadata": {},
   "outputs": [
    {
     "name": "stdout",
     "output_type": "stream",
     "text": [
      "upper bound: 396.9\n",
      "lower bound: 7.63\n"
     ]
    }
   ],
   "source": [
    "LB = new['B'].quantile(0.01)\n",
    "UB = new['B'].quantile(0.99)\n",
    "print(\"upper bound:\", UB)\n",
    "print(\"lower bound:\", LB)"
   ]
  },
  {
   "cell_type": "code",
   "execution_count": 220,
   "id": "34253b67",
   "metadata": {},
   "outputs": [
    {
     "data": {
      "text/plain": [
       "423    2.52\n",
       "424    3.65\n",
       "450    0.32\n",
       "454    6.68\n",
       "457    3.50\n",
       "Name: B, dtype: float64"
      ]
     },
     "execution_count": 220,
     "metadata": {},
     "output_type": "execute_result"
    }
   ],
   "source": [
    "new['B'][(new['B'] < LB) | (new['B'] > UB)]"
   ]
  },
  {
   "cell_type": "code",
   "execution_count": 221,
   "id": "87cfd21d",
   "metadata": {},
   "outputs": [],
   "source": [
    "new['B'][(new['B'] < LB) | (new['B'] > UB)] = np.median(new['B'])"
   ]
  },
  {
   "cell_type": "markdown",
   "id": "69101e48",
   "metadata": {},
   "source": [
    "### LSTAT"
   ]
  },
  {
   "cell_type": "code",
   "execution_count": 222,
   "id": "b0a95105",
   "metadata": {},
   "outputs": [
    {
     "data": {
      "image/png": "[encoded data removed]",
      "text/plain": [
       "<Figure size 640x480 with 1 Axes>"
      ]
     },
     "metadata": {},
     "output_type": "display_data"
    }
   ],
   "source": [
    "sns.scatterplot(data=new['LSTAT'])\n",
    "plt.show()"
   ]
  },
  {
   "cell_type": "code",
   "execution_count": 223,
   "id": "8dda9fd6",
   "metadata": {},
   "outputs": [
    {
     "name": "stdout",
     "output_type": "stream",
     "text": [
      "upper bound: 32.4975\n",
      "lower bound: 2.8775\n"
     ]
    }
   ],
   "source": [
    "LB = new['LSTAT'].quantile(0.01)\n",
    "UB = new['LSTAT'].quantile(0.99)\n",
    "print(\"upper bound:\", UB)\n",
    "print(\"lower bound:\", LB)"
   ]
  },
  {
   "cell_type": "code",
   "execution_count": 224,
   "id": "c4b64e2c",
   "metadata": {},
   "outputs": [
    {
     "data": {
      "text/plain": [
       "40      1.98\n",
       "141    34.41\n",
       "161     1.73\n",
       "162     1.92\n",
       "192     2.87\n",
       "232     2.47\n",
       "373    34.77\n",
       "374    37.97\n",
       "412    34.37\n",
       "438    34.02\n",
       "Name: LSTAT, dtype: float64"
      ]
     },
     "execution_count": 224,
     "metadata": {},
     "output_type": "execute_result"
    }
   ],
   "source": [
    "new['LSTAT'][(new['LSTAT'] < LB) | (new['LSTAT'] > UB)]"
   ]
  },
  {
   "cell_type": "code",
   "execution_count": 225,
   "id": "b64f2cbe",
   "metadata": {},
   "outputs": [],
   "source": [
    "new['LSTAT'][(new['LSTAT'] < LB) | (new['LSTAT'] > UB)] = np.median(new['LSTAT'])"
   ]
  },
  {
   "cell_type": "markdown",
   "id": "5e452553",
   "metadata": {},
   "source": [
    "### MEDV"
   ]
  },
  {
   "cell_type": "code",
   "execution_count": 226,
   "id": "c5c2de4d",
   "metadata": {},
   "outputs": [
    {
     "data": {
      "image/png": "[encoded data removed]",
      "text/plain": [
       "<Figure size 640x480 with 1 Axes>"
      ]
     },
     "metadata": {},
     "output_type": "display_data"
    }
   ],
   "source": [
    "sns.scatterplot(data=new['MEDV'])\n",
    "plt.show()"
   ]
  },
  {
   "cell_type": "code",
   "execution_count": 227,
   "id": "edb25531",
   "metadata": {},
   "outputs": [
    {
     "name": "stdout",
     "output_type": "stream",
     "text": [
      "upper bound: 50.0\n",
      "lower bound: 7.2\n"
     ]
    }
   ],
   "source": [
    "LB = new['MEDV'].quantile(0.01)\n",
    "UB = new['MEDV'].quantile(0.99)\n",
    "print(\"upper bound:\", UB)\n",
    "print(\"lower bound:\", LB)"
   ]
  },
  {
   "cell_type": "code",
   "execution_count": 228,
   "id": "6ae254d8",
   "metadata": {},
   "outputs": [
    {
     "data": {
      "text/plain": [
       "398    5.0\n",
       "399    6.3\n",
       "400    5.6\n",
       "489    7.0\n",
       "Name: MEDV, dtype: float64"
      ]
     },
     "execution_count": 228,
     "metadata": {},
     "output_type": "execute_result"
    }
   ],
   "source": [
    "new['MEDV'][(new['MEDV'] < LB) | (new['MEDV'] > UB)]"
   ]
  },
  {
   "cell_type": "code",
   "execution_count": 229,
   "id": "99573d20",
   "metadata": {},
   "outputs": [],
   "source": [
    "new['MEDV'][(new['MEDV'] < LB) | (new['MEDV'] > UB)] = np.median(new['MEDV'])"
   ]
  },
  {
   "cell_type": "markdown",
   "id": "d1439f30",
   "metadata": {},
   "source": [
    "### INDUS"
   ]
  },
  {
   "cell_type": "code",
   "execution_count": 230,
   "id": "8a3a638b",
   "metadata": {},
   "outputs": [
    {
     "data": {
      "image/png": "[encoded data removed]",
      "text/plain": [
       "<Figure size 640x480 with 1 Axes>"
      ]
     },
     "metadata": {},
     "output_type": "display_data"
    }
   ],
   "source": [
    "sns.scatterplot(data=new['INDUS'])\n",
    "plt.show()"
   ]
  },
  {
   "cell_type": "code",
   "execution_count": 231,
   "id": "c89e30df",
   "metadata": {},
   "outputs": [
    {
     "name": "stdout",
     "output_type": "stream",
     "text": [
      "upper bound: 26.1725\n",
      "lower bound: 1.3025\n"
     ]
    }
   ],
   "source": [
    "LB = new['INDUS'].quantile(0.01)\n",
    "UB = new['INDUS'].quantile(0.99)\n",
    "print(\"upper bound:\", UB)\n",
    "print(\"lower bound:\", LB)"
   ]
  },
  {
   "cell_type": "code",
   "execution_count": 232,
   "id": "fab127d2",
   "metadata": {},
   "outputs": [
    {
     "data": {
      "text/plain": [
       "56      0.74\n",
       "195     0.46\n",
       "283     1.21\n",
       "349     1.25\n",
       "350     1.25\n",
       "488    27.74\n",
       "489    27.74\n",
       "490    27.74\n",
       "491    27.74\n",
       "492    27.74\n",
       "Name: INDUS, dtype: float64"
      ]
     },
     "execution_count": 232,
     "metadata": {},
     "output_type": "execute_result"
    }
   ],
   "source": [
    "new['INDUS'][(new['INDUS'] < LB) | (new['INDUS'] > UB)]"
   ]
  },
  {
   "cell_type": "code",
   "execution_count": 233,
   "id": "37c33c0b",
   "metadata": {},
   "outputs": [],
   "source": [
    "new['INDUS'][(new['INDUS'] < LB) | (new['INDUS'] > UB)] = np.median(new['INDUS'])"
   ]
  },
  {
   "cell_type": "markdown",
   "id": "fbbd9e06",
   "metadata": {},
   "source": [
    "### NOX"
   ]
  },
  {
   "cell_type": "code",
   "execution_count": 234,
   "id": "6dd95db6",
   "metadata": {},
   "outputs": [
    {
     "data": {
      "image/png": "[encoded data removed]",
      "text/plain": [
       "<Figure size 640x480 with 1 Axes>"
      ]
     },
     "metadata": {},
     "output_type": "display_data"
    }
   ],
   "source": [
    "sns.scatterplot(data=new['NOX'])\n",
    "plt.show()"
   ]
  },
  {
   "cell_type": "code",
   "execution_count": 235,
   "id": "13035bbb",
   "metadata": {},
   "outputs": [
    {
     "name": "stdout",
     "output_type": "stream",
     "text": [
      "upper bound: 0.871\n",
      "lower bound: 0.398\n"
     ]
    }
   ],
   "source": [
    "LB = new['NOX'].quantile(0.01)\n",
    "UB = new['NOX'].quantile(0.99)\n",
    "print(\"upper bound:\", UB)\n",
    "print(\"lower bound:\", LB)"
   ]
  },
  {
   "cell_type": "code",
   "execution_count": 236,
   "id": "b337b6cf",
   "metadata": {},
   "outputs": [
    {
     "data": {
      "text/plain": [
       "254    0.392\n",
       "255    0.392\n",
       "256    0.394\n",
       "286    0.385\n",
       "Name: NOX, dtype: float64"
      ]
     },
     "execution_count": 236,
     "metadata": {},
     "output_type": "execute_result"
    }
   ],
   "source": [
    "new['NOX'][(new['NOX'] < LB) | (new['NOX'] > UB)]"
   ]
  },
  {
   "cell_type": "code",
   "execution_count": 237,
   "id": "3858ed33",
   "metadata": {},
   "outputs": [],
   "source": [
    "new['NOX'][(new['NOX'] < LB) | (new['NOX'] > UB)] = np.median(new['NOX'])"
   ]
  },
  {
   "cell_type": "markdown",
   "id": "8a34f1cb",
   "metadata": {},
   "source": [
    "### AGE"
   ]
  },
  {
   "cell_type": "code",
   "execution_count": 238,
   "id": "bb56298e",
   "metadata": {},
   "outputs": [
    {
     "data": {
      "image/png": "[encoded data removed]",
      "text/plain": [
       "<Figure size 640x480 with 1 Axes>"
      ]
     },
     "metadata": {},
     "output_type": "display_data"
    }
   ],
   "source": [
    "sns.scatterplot(data=new['AGE'])\n",
    "plt.show()"
   ]
  },
  {
   "cell_type": "code",
   "execution_count": 239,
   "id": "f79b1748",
   "metadata": {},
   "outputs": [
    {
     "name": "stdout",
     "output_type": "stream",
     "text": [
      "upper bound: 100.0\n",
      "lower bound: 6.75\n"
     ]
    }
   ],
   "source": [
    "LB = new['AGE'].quantile(0.01)\n",
    "UB = new['AGE'].quantile(0.99)\n",
    "print(\"upper bound:\", UB)\n",
    "print(\"lower bound:\", LB)"
   ]
  },
  {
   "cell_type": "code",
   "execution_count": 240,
   "id": "c1ee667d",
   "metadata": {},
   "outputs": [
    {
     "data": {
      "text/plain": [
       "41    2.9\n",
       "42    6.6\n",
       "43    6.5\n",
       "70    6.6\n",
       "73    6.2\n",
       "Name: AGE, dtype: float64"
      ]
     },
     "execution_count": 240,
     "metadata": {},
     "output_type": "execute_result"
    }
   ],
   "source": [
    "new['AGE'][(new['AGE'] < LB) | (new['AGE'] > UB)]"
   ]
  },
  {
   "cell_type": "code",
   "execution_count": 241,
   "id": "dc6d4349",
   "metadata": {},
   "outputs": [],
   "source": [
    "new['AGE'][(new['AGE'] < LB) | (new['AGE'] > UB)] = np.median(new['AGE'])"
   ]
  },
  {
   "cell_type": "markdown",
   "id": "85986029",
   "metadata": {},
   "source": [
    "### RAD"
   ]
  },
  {
   "cell_type": "code",
   "execution_count": 242,
   "id": "a782dc1d",
   "metadata": {},
   "outputs": [
    {
     "data": {
      "image/png": "[encoded data removed]",
      "text/plain": [
       "<Figure size 640x480 with 1 Axes>"
      ]
     },
     "metadata": {},
     "output_type": "display_data"
    }
   ],
   "source": [
    "sns.scatterplot(data=new['RAD'])\n",
    "plt.show()"
   ]
  },
  {
   "cell_type": "code",
   "execution_count": 243,
   "id": "b43c525c",
   "metadata": {},
   "outputs": [
    {
     "name": "stdout",
     "output_type": "stream",
     "text": [
      "upper bound: 24.0\n",
      "lower bound: 1.0\n"
     ]
    }
   ],
   "source": [
    "LB = new['RAD'].quantile(0.01)\n",
    "UB = new['RAD'].quantile(0.99)\n",
    "print(\"upper bound:\", UB)\n",
    "print(\"lower bound:\", LB)"
   ]
  },
  {
   "cell_type": "code",
   "execution_count": 244,
   "id": "9af93b75",
   "metadata": {},
   "outputs": [
    {
     "data": {
      "text/plain": [
       "Series([], Name: RAD, dtype: int64)"
      ]
     },
     "execution_count": 244,
     "metadata": {},
     "output_type": "execute_result"
    }
   ],
   "source": [
    "new['RAD'][(new['RAD'] < LB) | (new['RAD'] > UB)]"
   ]
  },
  {
   "cell_type": "markdown",
   "id": "0699e936",
   "metadata": {},
   "source": [
    "#### There is no outliers detected in RAD column based on 99th percentile technique."
   ]
  },
  {
   "cell_type": "markdown",
   "id": "682bb0cf",
   "metadata": {},
   "source": [
    "### TAX"
   ]
  },
  {
   "cell_type": "code",
   "execution_count": 245,
   "id": "dadc2e17",
   "metadata": {},
   "outputs": [
    {
     "data": {
      "image/png": "[encoded data removed]",
      "text/plain": [
       "<Figure size 640x480 with 1 Axes>"
      ]
     },
     "metadata": {},
     "output_type": "display_data"
    }
   ],
   "source": [
    "sns.scatterplot(data=new['TAX'])\n",
    "plt.show()"
   ]
  },
  {
   "cell_type": "code",
   "execution_count": 246,
   "id": "fd532d36",
   "metadata": {},
   "outputs": [
    {
     "name": "stdout",
     "output_type": "stream",
     "text": [
      "upper bound: 668.2500000000005\n",
      "lower bound: 188.0\n"
     ]
    }
   ],
   "source": [
    "LB = new['TAX'].quantile(0.01)\n",
    "UB = new['TAX'].quantile(0.99)\n",
    "print(\"upper bound:\", UB)\n",
    "print(\"lower bound:\", LB)"
   ]
  },
  {
   "cell_type": "code",
   "execution_count": 247,
   "id": "d0a592ae",
   "metadata": {},
   "outputs": [
    {
     "data": {
      "text/plain": [
       "353    187\n",
       "488    711\n",
       "489    711\n",
       "490    711\n",
       "491    711\n",
       "492    711\n",
       "Name: TAX, dtype: int64"
      ]
     },
     "execution_count": 247,
     "metadata": {},
     "output_type": "execute_result"
    }
   ],
   "source": [
    "new['TAX'][(new['TAX'] < LB) | (new['TAX'] > UB)]"
   ]
  },
  {
   "cell_type": "code",
   "execution_count": 248,
   "id": "0a5a6093",
   "metadata": {},
   "outputs": [],
   "source": [
    "new['TAX'][(new['TAX'] < LB) | (new['TAX'] > UB)] = np.median(new['TAX'])"
   ]
  },
  {
   "cell_type": "code",
   "execution_count": 249,
   "id": "d787bb58",
   "metadata": {},
   "outputs": [
    {
     "data": {
      "text/plain": [
       "(496, 14)"
      ]
     },
     "execution_count": 249,
     "metadata": {},
     "output_type": "execute_result"
    }
   ],
   "source": [
    "new.shape"
   ]
  },
  {
   "cell_type": "code",
   "execution_count": 250,
   "id": "5702c376",
   "metadata": {},
   "outputs": [
    {
     "data": {
      "text/plain": [
       "98.02371541501977"
      ]
     },
     "execution_count": 250,
     "metadata": {},
     "output_type": "execute_result"
    }
   ],
   "source": [
    "(len(new)/len(df))*100"
   ]
  },
  {
   "cell_type": "code",
   "execution_count": 251,
   "id": "8f44b083",
   "metadata": {},
   "outputs": [
    {
     "data": {
      "text/plain": [
       "1.9762845849802373"
      ]
     },
     "execution_count": 251,
     "metadata": {},
     "output_type": "execute_result"
    }
   ],
   "source": [
    "(len(df)-len(new))/len(df)*100"
   ]
  },
  {
   "cell_type": "markdown",
   "id": "5fbbf372",
   "metadata": {},
   "source": [
    "#### After eliminating the outliers, there are 98.02% data remaining in dataframe. It can be said there are 1.97% outliers have been identified using percentile (99th)."
   ]
  },
  {
   "cell_type": "code",
   "execution_count": 252,
   "id": "ccdadcd4",
   "metadata": {},
   "outputs": [
    {
     "data": {
      "text/html": [
       "<div>\n",
       "<style scoped>\n",
       "    .dataframe tbody tr th:only-of-type {\n",
       "        vertical-align: middle;\n",
       "    }\n",
       "\n",
       "    .dataframe tbody tr th {\n",
       "        vertical-align: top;\n",
       "    }\n",
       "\n",
       "    .dataframe thead th {\n",
       "        text-align: right;\n",
       "    }\n",
       "</style>\n",
       "<table border=\"1\" class=\"dataframe\">\n",
       "  <thead>\n",
       "    <tr style=\"text-align: right;\">\n",
       "      <th></th>\n",
       "      <th>CRIM</th>\n",
       "      <th>ZN</th>\n",
       "      <th>INDUS</th>\n",
       "      <th>CHAS</th>\n",
       "      <th>NOX</th>\n",
       "      <th>RM</th>\n",
       "      <th>AGE</th>\n",
       "      <th>DIS</th>\n",
       "      <th>RAD</th>\n",
       "      <th>TAX</th>\n",
       "      <th>PTRATIO</th>\n",
       "      <th>B</th>\n",
       "      <th>LSTAT</th>\n",
       "      <th>MEDV</th>\n",
       "    </tr>\n",
       "  </thead>\n",
       "  <tbody>\n",
       "    <tr>\n",
       "      <th>count</th>\n",
       "      <td>476.000000</td>\n",
       "      <td>471.000000</td>\n",
       "      <td>466.000000</td>\n",
       "      <td>496.000000</td>\n",
       "      <td>496.000000</td>\n",
       "      <td>496.000000</td>\n",
       "      <td>471.000000</td>\n",
       "      <td>496.000000</td>\n",
       "      <td>496.000000</td>\n",
       "      <td>496.000000</td>\n",
       "      <td>496.00000</td>\n",
       "      <td>496.000000</td>\n",
       "      <td>466.000000</td>\n",
       "      <td>496.000000</td>\n",
       "    </tr>\n",
       "    <tr>\n",
       "      <th>mean</th>\n",
       "      <td>3.000011</td>\n",
       "      <td>9.938429</td>\n",
       "      <td>11.035279</td>\n",
       "      <td>0.068548</td>\n",
       "      <td>0.555967</td>\n",
       "      <td>6.281321</td>\n",
       "      <td>69.193631</td>\n",
       "      <td>3.729244</td>\n",
       "      <td>9.481855</td>\n",
       "      <td>403.397177</td>\n",
       "      <td>18.49123</td>\n",
       "      <td>361.998216</td>\n",
       "      <td>12.562082</td>\n",
       "      <td>22.721774</td>\n",
       "    </tr>\n",
       "    <tr>\n",
       "      <th>std</th>\n",
       "      <td>5.856450</td>\n",
       "      <td>21.288905</td>\n",
       "      <td>6.576114</td>\n",
       "      <td>0.252940</td>\n",
       "      <td>0.114744</td>\n",
       "      <td>0.618541</td>\n",
       "      <td>27.274256</td>\n",
       "      <td>1.940341</td>\n",
       "      <td>8.637227</td>\n",
       "      <td>164.788722</td>\n",
       "      <td>2.10144</td>\n",
       "      <td>81.074397</td>\n",
       "      <td>6.680130</td>\n",
       "      <td>9.023064</td>\n",
       "    </tr>\n",
       "    <tr>\n",
       "      <th>min</th>\n",
       "      <td>0.013600</td>\n",
       "      <td>0.000000</td>\n",
       "      <td>1.320000</td>\n",
       "      <td>0.000000</td>\n",
       "      <td>0.398000</td>\n",
       "      <td>4.628000</td>\n",
       "      <td>6.800000</td>\n",
       "      <td>1.202400</td>\n",
       "      <td>1.000000</td>\n",
       "      <td>188.000000</td>\n",
       "      <td>13.00000</td>\n",
       "      <td>7.680000</td>\n",
       "      <td>2.880000</td>\n",
       "      <td>7.200000</td>\n",
       "    </tr>\n",
       "    <tr>\n",
       "      <th>25%</th>\n",
       "      <td>0.082382</td>\n",
       "      <td>0.000000</td>\n",
       "      <td>5.190000</td>\n",
       "      <td>0.000000</td>\n",
       "      <td>0.453000</td>\n",
       "      <td>5.894000</td>\n",
       "      <td>45.800000</td>\n",
       "      <td>2.121275</td>\n",
       "      <td>4.000000</td>\n",
       "      <td>279.000000</td>\n",
       "      <td>17.40000</td>\n",
       "      <td>376.140000</td>\n",
       "      <td>7.192500</td>\n",
       "      <td>17.275000</td>\n",
       "    </tr>\n",
       "    <tr>\n",
       "      <th>50%</th>\n",
       "      <td>0.253715</td>\n",
       "      <td>0.000000</td>\n",
       "      <td>9.690000</td>\n",
       "      <td>0.000000</td>\n",
       "      <td>0.538000</td>\n",
       "      <td>6.205000</td>\n",
       "      <td>77.300000</td>\n",
       "      <td>3.207450</td>\n",
       "      <td>5.000000</td>\n",
       "      <td>330.000000</td>\n",
       "      <td>19.05000</td>\n",
       "      <td>391.407500</td>\n",
       "      <td>11.465000</td>\n",
       "      <td>21.200000</td>\n",
       "    </tr>\n",
       "    <tr>\n",
       "      <th>75%</th>\n",
       "      <td>3.359357</td>\n",
       "      <td>0.000000</td>\n",
       "      <td>18.100000</td>\n",
       "      <td>0.000000</td>\n",
       "      <td>0.624000</td>\n",
       "      <td>6.593500</td>\n",
       "      <td>93.950000</td>\n",
       "      <td>5.100400</td>\n",
       "      <td>24.000000</td>\n",
       "      <td>666.000000</td>\n",
       "      <td>20.20000</td>\n",
       "      <td>396.232500</td>\n",
       "      <td>16.635000</td>\n",
       "      <td>25.000000</td>\n",
       "    </tr>\n",
       "    <tr>\n",
       "      <th>max</th>\n",
       "      <td>41.529200</td>\n",
       "      <td>90.000000</td>\n",
       "      <td>25.650000</td>\n",
       "      <td>1.000000</td>\n",
       "      <td>0.871000</td>\n",
       "      <td>8.337000</td>\n",
       "      <td>100.000000</td>\n",
       "      <td>9.222900</td>\n",
       "      <td>24.000000</td>\n",
       "      <td>666.000000</td>\n",
       "      <td>21.20000</td>\n",
       "      <td>396.900000</td>\n",
       "      <td>31.990000</td>\n",
       "      <td>50.000000</td>\n",
       "    </tr>\n",
       "  </tbody>\n",
       "</table>\n",
       "</div>"
      ],
      "text/plain": [
       "             CRIM          ZN       INDUS        CHAS         NOX          RM  \\\n",
       "count  476.000000  471.000000  466.000000  496.000000  496.000000  496.000000   \n",
       "mean     3.000011    9.938429   11.035279    0.068548    0.555967    6.281321   \n",
       "std      5.856450   21.288905    6.576114    0.252940    0.114744    0.618541   \n",
       "min      0.013600    0.000000    1.320000    0.000000    0.398000    4.628000   \n",
       "25%      0.082382    0.000000    5.190000    0.000000    0.453000    5.894000   \n",
       "50%      0.253715    0.000000    9.690000    0.000000    0.538000    6.205000   \n",
       "75%      3.359357    0.000000   18.100000    0.000000    0.624000    6.593500   \n",
       "max     41.529200   90.000000   25.650000    1.000000    0.871000    8.337000   \n",
       "\n",
       "              AGE         DIS         RAD         TAX    PTRATIO           B  \\\n",
       "count  471.000000  496.000000  496.000000  496.000000  496.00000  496.000000   \n",
       "mean    69.193631    3.729244    9.481855  403.397177   18.49123  361.998216   \n",
       "std     27.274256    1.940341    8.637227  164.788722    2.10144   81.074397   \n",
       "min      6.800000    1.202400    1.000000  188.000000   13.00000    7.680000   \n",
       "25%     45.800000    2.121275    4.000000  279.000000   17.40000  376.140000   \n",
       "50%     77.300000    3.207450    5.000000  330.000000   19.05000  391.407500   \n",
       "75%     93.950000    5.100400   24.000000  666.000000   20.20000  396.232500   \n",
       "max    100.000000    9.222900   24.000000  666.000000   21.20000  396.900000   \n",
       "\n",
       "            LSTAT        MEDV  \n",
       "count  466.000000  496.000000  \n",
       "mean    12.562082   22.721774  \n",
       "std      6.680130    9.023064  \n",
       "min      2.880000    7.200000  \n",
       "25%      7.192500   17.275000  \n",
       "50%     11.465000   21.200000  \n",
       "75%     16.635000   25.000000  \n",
       "max     31.990000   50.000000  "
      ]
     },
     "execution_count": 252,
     "metadata": {},
     "output_type": "execute_result"
    }
   ],
   "source": [
    "new.describe()"
   ]
  },
  {
   "cell_type": "code",
   "execution_count": 253,
   "id": "b46dd14d",
   "metadata": {},
   "outputs": [
    {
     "name": "stdout",
     "output_type": "stream",
     "text": [
      "<class 'pandas.core.frame.DataFrame'>\n",
      "Int64Index: 496 entries, 1 to 505\n",
      "Data columns (total 14 columns):\n",
      " #   Column   Non-Null Count  Dtype  \n",
      "---  ------   --------------  -----  \n",
      " 0   CRIM     476 non-null    float64\n",
      " 1   ZN       471 non-null    float64\n",
      " 2   INDUS    466 non-null    float64\n",
      " 3   CHAS     496 non-null    object \n",
      " 4   NOX      496 non-null    float64\n",
      " 5   RM       496 non-null    float64\n",
      " 6   AGE      471 non-null    float64\n",
      " 7   DIS      496 non-null    float64\n",
      " 8   RAD      496 non-null    int64  \n",
      " 9   TAX      496 non-null    int64  \n",
      " 10  PTRATIO  496 non-null    float64\n",
      " 11  B        496 non-null    float64\n",
      " 12  LSTAT    466 non-null    float64\n",
      " 13  MEDV     496 non-null    float64\n",
      "dtypes: float64(11), int64(2), object(1)\n",
      "memory usage: 58.1+ KB\n"
     ]
    }
   ],
   "source": [
    "new.CHAS = new.CHAS.astype(str)\n",
    "new.CHAS = new.CHAS.replace('0.0', '0')\n",
    "new.CHAS = new.CHAS.replace('1.0', '1')\n",
    "\n",
    "new.CHAS = new.CHAS.replace('nan', np.NaN)\n",
    "new.info()"
   ]
  },
  {
   "cell_type": "code",
   "execution_count": 254,
   "id": "80f763ff",
   "metadata": {},
   "outputs": [],
   "source": [
    "new.to_csv('hd4_outlier_remove.csv', index=False)"
   ]
  },
  {
   "cell_type": "code",
   "execution_count": null,
   "id": "afce1510",
   "metadata": {},
   "outputs": [],
   "source": []
  }
 ],
 "metadata": {
  "kernelspec": {
   "display_name": "Python 3 (ipykernel)",
   "language": "python",
   "name": "python3"
  },
  "language_info": {
   "codemirror_mode": {
    "name": "ipython",
    "version": 3
   },
   "file_extension": ".py",
   "mimetype": "text/x-python",
   "name": "python",
   "nbconvert_exporter": "python",
   "pygments_lexer": "ipython3",
   "version": "3.8.13"
  }
 },
 "nbformat": 4,
 "nbformat_minor": 5
}
