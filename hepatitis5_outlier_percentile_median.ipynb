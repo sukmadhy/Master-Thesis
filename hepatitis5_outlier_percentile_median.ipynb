{
 "cells": [
  {
   "cell_type": "markdown",
   "id": "0051a76e",
   "metadata": {},
   "source": [
    "## Handling outliers using percentile and median"
   ]
  },
  {
   "cell_type": "code",
   "execution_count": 51,
   "id": "c5d5ceea",
   "metadata": {},
   "outputs": [],
   "source": [
    "import pandas as pd\n",
    "import numpy as np\n",
    "import seaborn as sns\n",
    "\n",
    "import matplotlib.pyplot as plt\n",
    "import warnings\n",
    "warnings.filterwarnings(\"ignore\")"
   ]
  },
  {
   "cell_type": "code",
   "execution_count": 52,
   "id": "3698bce2",
   "metadata": {},
   "outputs": [
    {
     "data": {
      "text/html": [
       "<div>\n",
       "<style scoped>\n",
       "    .dataframe tbody tr th:only-of-type {\n",
       "        vertical-align: middle;\n",
       "    }\n",
       "\n",
       "    .dataframe tbody tr th {\n",
       "        vertical-align: top;\n",
       "    }\n",
       "\n",
       "    .dataframe thead th {\n",
       "        text-align: right;\n",
       "    }\n",
       "</style>\n",
       "<table border=\"1\" class=\"dataframe\">\n",
       "  <thead>\n",
       "    <tr style=\"text-align: right;\">\n",
       "      <th></th>\n",
       "      <th>0</th>\n",
       "      <th>1</th>\n",
       "      <th>2</th>\n",
       "      <th>3</th>\n",
       "      <th>4</th>\n",
       "      <th>5</th>\n",
       "      <th>6</th>\n",
       "      <th>7</th>\n",
       "      <th>8</th>\n",
       "      <th>9</th>\n",
       "      <th>10</th>\n",
       "      <th>11</th>\n",
       "      <th>12</th>\n",
       "      <th>13</th>\n",
       "      <th>14</th>\n",
       "      <th>15</th>\n",
       "      <th>16</th>\n",
       "      <th>17</th>\n",
       "      <th>18</th>\n",
       "      <th>19</th>\n",
       "    </tr>\n",
       "  </thead>\n",
       "  <tbody>\n",
       "    <tr>\n",
       "      <th>150</th>\n",
       "      <td>1</td>\n",
       "      <td>46</td>\n",
       "      <td>1</td>\n",
       "      <td>2</td>\n",
       "      <td>2</td>\n",
       "      <td>1</td>\n",
       "      <td>1</td>\n",
       "      <td>1</td>\n",
       "      <td>2</td>\n",
       "      <td>2</td>\n",
       "      <td>2</td>\n",
       "      <td>1</td>\n",
       "      <td>1</td>\n",
       "      <td>1</td>\n",
       "      <td>7.60</td>\n",
       "      <td>?</td>\n",
       "      <td>242</td>\n",
       "      <td>3.3</td>\n",
       "      <td>50</td>\n",
       "      <td>2</td>\n",
       "    </tr>\n",
       "    <tr>\n",
       "      <th>151</th>\n",
       "      <td>2</td>\n",
       "      <td>44</td>\n",
       "      <td>1</td>\n",
       "      <td>2</td>\n",
       "      <td>2</td>\n",
       "      <td>1</td>\n",
       "      <td>2</td>\n",
       "      <td>2</td>\n",
       "      <td>2</td>\n",
       "      <td>1</td>\n",
       "      <td>2</td>\n",
       "      <td>2</td>\n",
       "      <td>2</td>\n",
       "      <td>2</td>\n",
       "      <td>0.90</td>\n",
       "      <td>126</td>\n",
       "      <td>142</td>\n",
       "      <td>4.3</td>\n",
       "      <td>?</td>\n",
       "      <td>2</td>\n",
       "    </tr>\n",
       "    <tr>\n",
       "      <th>152</th>\n",
       "      <td>2</td>\n",
       "      <td>61</td>\n",
       "      <td>1</td>\n",
       "      <td>1</td>\n",
       "      <td>2</td>\n",
       "      <td>1</td>\n",
       "      <td>1</td>\n",
       "      <td>2</td>\n",
       "      <td>1</td>\n",
       "      <td>1</td>\n",
       "      <td>2</td>\n",
       "      <td>1</td>\n",
       "      <td>2</td>\n",
       "      <td>2</td>\n",
       "      <td>0.80</td>\n",
       "      <td>75</td>\n",
       "      <td>20</td>\n",
       "      <td>4.1</td>\n",
       "      <td>?</td>\n",
       "      <td>2</td>\n",
       "    </tr>\n",
       "    <tr>\n",
       "      <th>153</th>\n",
       "      <td>2</td>\n",
       "      <td>53</td>\n",
       "      <td>2</td>\n",
       "      <td>1</td>\n",
       "      <td>2</td>\n",
       "      <td>1</td>\n",
       "      <td>2</td>\n",
       "      <td>2</td>\n",
       "      <td>2</td>\n",
       "      <td>2</td>\n",
       "      <td>1</td>\n",
       "      <td>1</td>\n",
       "      <td>2</td>\n",
       "      <td>1</td>\n",
       "      <td>1.50</td>\n",
       "      <td>81</td>\n",
       "      <td>19</td>\n",
       "      <td>4.1</td>\n",
       "      <td>48</td>\n",
       "      <td>2</td>\n",
       "    </tr>\n",
       "    <tr>\n",
       "      <th>154</th>\n",
       "      <td>1</td>\n",
       "      <td>43</td>\n",
       "      <td>1</td>\n",
       "      <td>2</td>\n",
       "      <td>2</td>\n",
       "      <td>1</td>\n",
       "      <td>2</td>\n",
       "      <td>2</td>\n",
       "      <td>2</td>\n",
       "      <td>2</td>\n",
       "      <td>1</td>\n",
       "      <td>1</td>\n",
       "      <td>1</td>\n",
       "      <td>2</td>\n",
       "      <td>1.20</td>\n",
       "      <td>100</td>\n",
       "      <td>19</td>\n",
       "      <td>3.1</td>\n",
       "      <td>42</td>\n",
       "      <td>2</td>\n",
       "    </tr>\n",
       "  </tbody>\n",
       "</table>\n",
       "</div>"
      ],
      "text/plain": [
       "     0   1   2  3   4  5  6  7  8  9  10 11 12 13    14   15   16   17  18  19\n",
       "150   1  46   1  2   2  1  1  1  2  2  2  1  1  1  7.60    ?  242  3.3  50   2\n",
       "151   2  44   1  2   2  1  2  2  2  1  2  2  2  2  0.90  126  142  4.3   ?   2\n",
       "152   2  61   1  1   2  1  1  2  1  1  2  1  2  2  0.80   75   20  4.1   ?   2\n",
       "153   2  53   2  1   2  1  2  2  2  2  1  1  2  1  1.50   81   19  4.1  48   2\n",
       "154   1  43   1  2   2  1  2  2  2  2  1  1  1  2  1.20  100   19  3.1  42   2"
      ]
     },
     "execution_count": 52,
     "metadata": {},
     "output_type": "execute_result"
    }
   ],
   "source": [
    "df = pd.read_csv('hepatitis.data', header=None)\n",
    "df.tail(5)"
   ]
  },
  {
   "cell_type": "code",
   "execution_count": 53,
   "id": "b17a3f6a",
   "metadata": {},
   "outputs": [
    {
     "data": {
      "text/html": [
       "<div>\n",
       "<style scoped>\n",
       "    .dataframe tbody tr th:only-of-type {\n",
       "        vertical-align: middle;\n",
       "    }\n",
       "\n",
       "    .dataframe tbody tr th {\n",
       "        vertical-align: top;\n",
       "    }\n",
       "\n",
       "    .dataframe thead th {\n",
       "        text-align: right;\n",
       "    }\n",
       "</style>\n",
       "<table border=\"1\" class=\"dataframe\">\n",
       "  <thead>\n",
       "    <tr style=\"text-align: right;\">\n",
       "      <th></th>\n",
       "      <th>class</th>\n",
       "      <th>age</th>\n",
       "      <th>sex</th>\n",
       "      <th>steroid</th>\n",
       "      <th>antivirals</th>\n",
       "      <th>fatigue</th>\n",
       "      <th>malaise</th>\n",
       "      <th>anorexia</th>\n",
       "      <th>liver_big</th>\n",
       "      <th>liver_firm</th>\n",
       "      <th>spleen_palpable</th>\n",
       "      <th>spiders</th>\n",
       "      <th>ascites</th>\n",
       "      <th>varices</th>\n",
       "      <th>bilirubin</th>\n",
       "      <th>alk_phosphate</th>\n",
       "      <th>sgot</th>\n",
       "      <th>albumin</th>\n",
       "      <th>protime</th>\n",
       "      <th>histology</th>\n",
       "    </tr>\n",
       "  </thead>\n",
       "  <tbody>\n",
       "    <tr>\n",
       "      <th>150</th>\n",
       "      <td>1</td>\n",
       "      <td>46</td>\n",
       "      <td>1</td>\n",
       "      <td>2</td>\n",
       "      <td>2</td>\n",
       "      <td>1</td>\n",
       "      <td>1</td>\n",
       "      <td>1</td>\n",
       "      <td>2</td>\n",
       "      <td>2</td>\n",
       "      <td>2</td>\n",
       "      <td>1</td>\n",
       "      <td>1</td>\n",
       "      <td>1</td>\n",
       "      <td>7.60</td>\n",
       "      <td>?</td>\n",
       "      <td>242</td>\n",
       "      <td>3.3</td>\n",
       "      <td>50</td>\n",
       "      <td>2</td>\n",
       "    </tr>\n",
       "    <tr>\n",
       "      <th>151</th>\n",
       "      <td>2</td>\n",
       "      <td>44</td>\n",
       "      <td>1</td>\n",
       "      <td>2</td>\n",
       "      <td>2</td>\n",
       "      <td>1</td>\n",
       "      <td>2</td>\n",
       "      <td>2</td>\n",
       "      <td>2</td>\n",
       "      <td>1</td>\n",
       "      <td>2</td>\n",
       "      <td>2</td>\n",
       "      <td>2</td>\n",
       "      <td>2</td>\n",
       "      <td>0.90</td>\n",
       "      <td>126</td>\n",
       "      <td>142</td>\n",
       "      <td>4.3</td>\n",
       "      <td>?</td>\n",
       "      <td>2</td>\n",
       "    </tr>\n",
       "    <tr>\n",
       "      <th>152</th>\n",
       "      <td>2</td>\n",
       "      <td>61</td>\n",
       "      <td>1</td>\n",
       "      <td>1</td>\n",
       "      <td>2</td>\n",
       "      <td>1</td>\n",
       "      <td>1</td>\n",
       "      <td>2</td>\n",
       "      <td>1</td>\n",
       "      <td>1</td>\n",
       "      <td>2</td>\n",
       "      <td>1</td>\n",
       "      <td>2</td>\n",
       "      <td>2</td>\n",
       "      <td>0.80</td>\n",
       "      <td>75</td>\n",
       "      <td>20</td>\n",
       "      <td>4.1</td>\n",
       "      <td>?</td>\n",
       "      <td>2</td>\n",
       "    </tr>\n",
       "    <tr>\n",
       "      <th>153</th>\n",
       "      <td>2</td>\n",
       "      <td>53</td>\n",
       "      <td>2</td>\n",
       "      <td>1</td>\n",
       "      <td>2</td>\n",
       "      <td>1</td>\n",
       "      <td>2</td>\n",
       "      <td>2</td>\n",
       "      <td>2</td>\n",
       "      <td>2</td>\n",
       "      <td>1</td>\n",
       "      <td>1</td>\n",
       "      <td>2</td>\n",
       "      <td>1</td>\n",
       "      <td>1.50</td>\n",
       "      <td>81</td>\n",
       "      <td>19</td>\n",
       "      <td>4.1</td>\n",
       "      <td>48</td>\n",
       "      <td>2</td>\n",
       "    </tr>\n",
       "    <tr>\n",
       "      <th>154</th>\n",
       "      <td>1</td>\n",
       "      <td>43</td>\n",
       "      <td>1</td>\n",
       "      <td>2</td>\n",
       "      <td>2</td>\n",
       "      <td>1</td>\n",
       "      <td>2</td>\n",
       "      <td>2</td>\n",
       "      <td>2</td>\n",
       "      <td>2</td>\n",
       "      <td>1</td>\n",
       "      <td>1</td>\n",
       "      <td>1</td>\n",
       "      <td>2</td>\n",
       "      <td>1.20</td>\n",
       "      <td>100</td>\n",
       "      <td>19</td>\n",
       "      <td>3.1</td>\n",
       "      <td>42</td>\n",
       "      <td>2</td>\n",
       "    </tr>\n",
       "  </tbody>\n",
       "</table>\n",
       "</div>"
      ],
      "text/plain": [
       "     class  age  sex steroid  antivirals fatigue malaise anorexia liver_big  \\\n",
       "150      1   46    1       2           2       1       1        1         2   \n",
       "151      2   44    1       2           2       1       2        2         2   \n",
       "152      2   61    1       1           2       1       1        2         1   \n",
       "153      2   53    2       1           2       1       2        2         2   \n",
       "154      1   43    1       2           2       1       2        2         2   \n",
       "\n",
       "    liver_firm spleen_palpable spiders ascites varices bilirubin  \\\n",
       "150          2               2       1       1       1      7.60   \n",
       "151          1               2       2       2       2      0.90   \n",
       "152          1               2       1       2       2      0.80   \n",
       "153          2               1       1       2       1      1.50   \n",
       "154          2               1       1       1       2      1.20   \n",
       "\n",
       "    alk_phosphate sgot albumin protime  histology  \n",
       "150             ?  242     3.3      50          2  \n",
       "151           126  142     4.3       ?          2  \n",
       "152            75   20     4.1       ?          2  \n",
       "153            81   19     4.1      48          2  \n",
       "154           100   19     3.1      42          2  "
      ]
     },
     "execution_count": 53,
     "metadata": {},
     "output_type": "execute_result"
    }
   ],
   "source": [
    "df.columns = [\"class\", \"age\", \"sex\", \"steroid\", \"antivirals\",\"fatigue\", \"malaise\", \n",
    "                 \"anorexia\", \"liver_big\",\"liver_firm\", \"spleen_palpable\", \"spiders\", \"ascites\", \n",
    "                \"varices\", \"bilirubin\", \"alk_phosphate\", \"sgot\", \n",
    "               \"albumin\",\"protime\", \"histology\"]\n",
    "df.tail()"
   ]
  },
  {
   "cell_type": "code",
   "execution_count": 54,
   "id": "3f54900c",
   "metadata": {},
   "outputs": [
    {
     "name": "stdout",
     "output_type": "stream",
     "text": [
      "<class 'pandas.core.frame.DataFrame'>\n",
      "RangeIndex: 155 entries, 0 to 154\n",
      "Data columns (total 20 columns):\n",
      " #   Column           Non-Null Count  Dtype \n",
      "---  ------           --------------  ----- \n",
      " 0   class            155 non-null    int64 \n",
      " 1   age              155 non-null    int64 \n",
      " 2   sex              155 non-null    int64 \n",
      " 3   steroid          155 non-null    object\n",
      " 4   antivirals       155 non-null    int64 \n",
      " 5   fatigue          155 non-null    object\n",
      " 6   malaise          155 non-null    object\n",
      " 7   anorexia         155 non-null    object\n",
      " 8   liver_big        155 non-null    object\n",
      " 9   liver_firm       155 non-null    object\n",
      " 10  spleen_palpable  155 non-null    object\n",
      " 11  spiders          155 non-null    object\n",
      " 12  ascites          155 non-null    object\n",
      " 13  varices          155 non-null    object\n",
      " 14  bilirubin        155 non-null    object\n",
      " 15  alk_phosphate    155 non-null    object\n",
      " 16  sgot             155 non-null    object\n",
      " 17  albumin          155 non-null    object\n",
      " 18  protime          155 non-null    object\n",
      " 19  histology        155 non-null    int64 \n",
      "dtypes: int64(5), object(15)\n",
      "memory usage: 24.3+ KB\n"
     ]
    }
   ],
   "source": [
    "df.info()"
   ]
  },
  {
   "cell_type": "markdown",
   "id": "10a2745b",
   "metadata": {},
   "source": [
    "## Find Duplicates"
   ]
  },
  {
   "cell_type": "code",
   "execution_count": 55,
   "id": "00037397",
   "metadata": {},
   "outputs": [
    {
     "data": {
      "text/plain": [
       "0"
      ]
     },
     "execution_count": 55,
     "metadata": {},
     "output_type": "execute_result"
    }
   ],
   "source": [
    "df.duplicated().sum()"
   ]
  },
  {
   "cell_type": "code",
   "execution_count": 56,
   "id": "cc2ef62b",
   "metadata": {},
   "outputs": [
    {
     "data": {
      "text/plain": [
       "(155, 20)"
      ]
     },
     "execution_count": 56,
     "metadata": {},
     "output_type": "execute_result"
    }
   ],
   "source": [
    "df.shape"
   ]
  },
  {
   "cell_type": "markdown",
   "id": "6a423d70",
   "metadata": {},
   "source": [
    "## Data Validation and Data Type Conversion"
   ]
  },
  {
   "cell_type": "code",
   "execution_count": 57,
   "id": "b1b694b4",
   "metadata": {},
   "outputs": [],
   "source": [
    "df= df.replace('?', np.NaN)"
   ]
  },
  {
   "cell_type": "code",
   "execution_count": 58,
   "id": "7725c080",
   "metadata": {},
   "outputs": [
    {
     "name": "stdout",
     "output_type": "stream",
     "text": [
      "<class 'pandas.core.frame.DataFrame'>\n",
      "RangeIndex: 155 entries, 0 to 154\n",
      "Data columns (total 20 columns):\n",
      " #   Column           Non-Null Count  Dtype \n",
      "---  ------           --------------  ----- \n",
      " 0   class            155 non-null    int64 \n",
      " 1   age              155 non-null    int64 \n",
      " 2   sex              155 non-null    int64 \n",
      " 3   steroid          154 non-null    object\n",
      " 4   antivirals       155 non-null    int64 \n",
      " 5   fatigue          154 non-null    object\n",
      " 6   malaise          154 non-null    object\n",
      " 7   anorexia         154 non-null    object\n",
      " 8   liver_big        145 non-null    object\n",
      " 9   liver_firm       144 non-null    object\n",
      " 10  spleen_palpable  150 non-null    object\n",
      " 11  spiders          150 non-null    object\n",
      " 12  ascites          150 non-null    object\n",
      " 13  varices          150 non-null    object\n",
      " 14  bilirubin        149 non-null    object\n",
      " 15  alk_phosphate    126 non-null    object\n",
      " 16  sgot             151 non-null    object\n",
      " 17  albumin          139 non-null    object\n",
      " 18  protime          88 non-null     object\n",
      " 19  histology        155 non-null    int64 \n",
      "dtypes: int64(5), object(15)\n",
      "memory usage: 24.3+ KB\n"
     ]
    }
   ],
   "source": [
    "df.info()"
   ]
  },
  {
   "cell_type": "code",
   "execution_count": 59,
   "id": "ebae7160",
   "metadata": {},
   "outputs": [],
   "source": [
    "df['class'] = df['class'].astype('str')\n",
    "df.sex = df.sex.astype('str')\n",
    "df.antivirals = df.antivirals.astype('str')\n",
    "df.bilirubin = df.bilirubin.astype('float')\n",
    "df.albumin = df.albumin.astype('float')\n",
    "df.protime = df.protime.astype('float')\n",
    "df.alk_phosphate = df.alk_phosphate.astype('float')\n",
    "df.sgot = df.sgot.astype('float')\n",
    "df.histology = df.histology.astype('str')"
   ]
  },
  {
   "cell_type": "code",
   "execution_count": 60,
   "id": "8a4d686b",
   "metadata": {},
   "outputs": [
    {
     "data": {
      "text/plain": [
       "(155, 20)"
      ]
     },
     "execution_count": 60,
     "metadata": {},
     "output_type": "execute_result"
    }
   ],
   "source": [
    "df.shape"
   ]
  },
  {
   "cell_type": "markdown",
   "id": "8d00004c",
   "metadata": {},
   "source": [
    "## Outliers"
   ]
  },
  {
   "cell_type": "code",
   "execution_count": 61,
   "id": "3164faab",
   "metadata": {},
   "outputs": [
    {
     "data": {
      "text/html": [
       "<div>\n",
       "<style scoped>\n",
       "    .dataframe tbody tr th:only-of-type {\n",
       "        vertical-align: middle;\n",
       "    }\n",
       "\n",
       "    .dataframe tbody tr th {\n",
       "        vertical-align: top;\n",
       "    }\n",
       "\n",
       "    .dataframe thead th {\n",
       "        text-align: right;\n",
       "    }\n",
       "</style>\n",
       "<table border=\"1\" class=\"dataframe\">\n",
       "  <thead>\n",
       "    <tr style=\"text-align: right;\">\n",
       "      <th></th>\n",
       "      <th>age</th>\n",
       "      <th>bilirubin</th>\n",
       "      <th>alk_phosphate</th>\n",
       "      <th>sgot</th>\n",
       "      <th>albumin</th>\n",
       "      <th>protime</th>\n",
       "    </tr>\n",
       "  </thead>\n",
       "  <tbody>\n",
       "    <tr>\n",
       "      <th>count</th>\n",
       "      <td>155.000000</td>\n",
       "      <td>149.000000</td>\n",
       "      <td>126.000000</td>\n",
       "      <td>151.00000</td>\n",
       "      <td>139.000000</td>\n",
       "      <td>88.000000</td>\n",
       "    </tr>\n",
       "    <tr>\n",
       "      <th>mean</th>\n",
       "      <td>41.200000</td>\n",
       "      <td>1.427517</td>\n",
       "      <td>105.325397</td>\n",
       "      <td>85.89404</td>\n",
       "      <td>3.817266</td>\n",
       "      <td>61.852273</td>\n",
       "    </tr>\n",
       "    <tr>\n",
       "      <th>std</th>\n",
       "      <td>12.565878</td>\n",
       "      <td>1.212149</td>\n",
       "      <td>51.508109</td>\n",
       "      <td>89.65089</td>\n",
       "      <td>0.651523</td>\n",
       "      <td>22.875244</td>\n",
       "    </tr>\n",
       "    <tr>\n",
       "      <th>min</th>\n",
       "      <td>7.000000</td>\n",
       "      <td>0.300000</td>\n",
       "      <td>26.000000</td>\n",
       "      <td>14.00000</td>\n",
       "      <td>2.100000</td>\n",
       "      <td>0.000000</td>\n",
       "    </tr>\n",
       "    <tr>\n",
       "      <th>25%</th>\n",
       "      <td>32.000000</td>\n",
       "      <td>0.700000</td>\n",
       "      <td>74.250000</td>\n",
       "      <td>31.50000</td>\n",
       "      <td>3.400000</td>\n",
       "      <td>46.000000</td>\n",
       "    </tr>\n",
       "    <tr>\n",
       "      <th>50%</th>\n",
       "      <td>39.000000</td>\n",
       "      <td>1.000000</td>\n",
       "      <td>85.000000</td>\n",
       "      <td>58.00000</td>\n",
       "      <td>4.000000</td>\n",
       "      <td>61.000000</td>\n",
       "    </tr>\n",
       "    <tr>\n",
       "      <th>75%</th>\n",
       "      <td>50.000000</td>\n",
       "      <td>1.500000</td>\n",
       "      <td>132.250000</td>\n",
       "      <td>100.50000</td>\n",
       "      <td>4.200000</td>\n",
       "      <td>76.250000</td>\n",
       "    </tr>\n",
       "    <tr>\n",
       "      <th>max</th>\n",
       "      <td>78.000000</td>\n",
       "      <td>8.000000</td>\n",
       "      <td>295.000000</td>\n",
       "      <td>648.00000</td>\n",
       "      <td>6.400000</td>\n",
       "      <td>100.000000</td>\n",
       "    </tr>\n",
       "  </tbody>\n",
       "</table>\n",
       "</div>"
      ],
      "text/plain": [
       "              age   bilirubin  alk_phosphate       sgot     albumin  \\\n",
       "count  155.000000  149.000000     126.000000  151.00000  139.000000   \n",
       "mean    41.200000    1.427517     105.325397   85.89404    3.817266   \n",
       "std     12.565878    1.212149      51.508109   89.65089    0.651523   \n",
       "min      7.000000    0.300000      26.000000   14.00000    2.100000   \n",
       "25%     32.000000    0.700000      74.250000   31.50000    3.400000   \n",
       "50%     39.000000    1.000000      85.000000   58.00000    4.000000   \n",
       "75%     50.000000    1.500000     132.250000  100.50000    4.200000   \n",
       "max     78.000000    8.000000     295.000000  648.00000    6.400000   \n",
       "\n",
       "          protime  \n",
       "count   88.000000  \n",
       "mean    61.852273  \n",
       "std     22.875244  \n",
       "min      0.000000  \n",
       "25%     46.000000  \n",
       "50%     61.000000  \n",
       "75%     76.250000  \n",
       "max    100.000000  "
      ]
     },
     "execution_count": 61,
     "metadata": {},
     "output_type": "execute_result"
    }
   ],
   "source": [
    "df.describe()"
   ]
  },
  {
   "cell_type": "markdown",
   "id": "4538ea86",
   "metadata": {},
   "source": [
    "### Age"
   ]
  },
  {
   "cell_type": "code",
   "execution_count": 62,
   "id": "bc018369",
   "metadata": {},
   "outputs": [
    {
     "data": {
      "image/png": "[encoded data removed]",
      "text/plain": [
       "<Figure size 500x200 with 1 Axes>"
      ]
     },
     "metadata": {},
     "output_type": "display_data"
    }
   ],
   "source": [
    "df.boxplot(column='age', fontsize=10,rot=0,grid=False,figsize=(5,2),vert=False)\n",
    "plt.show()"
   ]
  },
  {
   "cell_type": "code",
   "execution_count": 63,
   "id": "4975a9d4",
   "metadata": {},
   "outputs": [
    {
     "name": "stdout",
     "output_type": "stream",
     "text": [
      "Lower Bound: 20.0\n",
      "Upper Bound: 70.92000000000002\n"
     ]
    }
   ],
   "source": [
    "LB = df['age'].quantile(0.01)\n",
    "UB = df['age'].quantile(0.99)\n",
    "\n",
    "print('Lower Bound:',LB)\n",
    "print('Upper Bound:',UB)"
   ]
  },
  {
   "cell_type": "code",
   "execution_count": 64,
   "id": "8f9d7102",
   "metadata": {},
   "outputs": [
    {
     "data": {
      "text/html": [
       "<div>\n",
       "<style scoped>\n",
       "    .dataframe tbody tr th:only-of-type {\n",
       "        vertical-align: middle;\n",
       "    }\n",
       "\n",
       "    .dataframe tbody tr th {\n",
       "        vertical-align: top;\n",
       "    }\n",
       "\n",
       "    .dataframe thead th {\n",
       "        text-align: right;\n",
       "    }\n",
       "</style>\n",
       "<table border=\"1\" class=\"dataframe\">\n",
       "  <thead>\n",
       "    <tr style=\"text-align: right;\">\n",
       "      <th></th>\n",
       "      <th>class</th>\n",
       "      <th>age</th>\n",
       "      <th>sex</th>\n",
       "      <th>steroid</th>\n",
       "      <th>antivirals</th>\n",
       "      <th>fatigue</th>\n",
       "      <th>malaise</th>\n",
       "      <th>anorexia</th>\n",
       "      <th>liver_big</th>\n",
       "      <th>liver_firm</th>\n",
       "      <th>spleen_palpable</th>\n",
       "      <th>spiders</th>\n",
       "      <th>ascites</th>\n",
       "      <th>varices</th>\n",
       "      <th>bilirubin</th>\n",
       "      <th>alk_phosphate</th>\n",
       "      <th>sgot</th>\n",
       "      <th>albumin</th>\n",
       "      <th>protime</th>\n",
       "      <th>histology</th>\n",
       "    </tr>\n",
       "  </thead>\n",
       "  <tbody>\n",
       "    <tr>\n",
       "      <th>2</th>\n",
       "      <td>2</td>\n",
       "      <td>78</td>\n",
       "      <td>1</td>\n",
       "      <td>2</td>\n",
       "      <td>2</td>\n",
       "      <td>1</td>\n",
       "      <td>2</td>\n",
       "      <td>2</td>\n",
       "      <td>2</td>\n",
       "      <td>2</td>\n",
       "      <td>2</td>\n",
       "      <td>2</td>\n",
       "      <td>2</td>\n",
       "      <td>2</td>\n",
       "      <td>0.7</td>\n",
       "      <td>96.0</td>\n",
       "      <td>32.0</td>\n",
       "      <td>4.0</td>\n",
       "      <td>NaN</td>\n",
       "      <td>1</td>\n",
       "    </tr>\n",
       "    <tr>\n",
       "      <th>110</th>\n",
       "      <td>2</td>\n",
       "      <td>7</td>\n",
       "      <td>1</td>\n",
       "      <td>2</td>\n",
       "      <td>2</td>\n",
       "      <td>2</td>\n",
       "      <td>2</td>\n",
       "      <td>2</td>\n",
       "      <td>2</td>\n",
       "      <td>1</td>\n",
       "      <td>1</td>\n",
       "      <td>2</td>\n",
       "      <td>2</td>\n",
       "      <td>2</td>\n",
       "      <td>0.7</td>\n",
       "      <td>256.0</td>\n",
       "      <td>25.0</td>\n",
       "      <td>4.2</td>\n",
       "      <td>NaN</td>\n",
       "      <td>2</td>\n",
       "    </tr>\n",
       "    <tr>\n",
       "      <th>133</th>\n",
       "      <td>2</td>\n",
       "      <td>72</td>\n",
       "      <td>1</td>\n",
       "      <td>2</td>\n",
       "      <td>1</td>\n",
       "      <td>1</td>\n",
       "      <td>2</td>\n",
       "      <td>2</td>\n",
       "      <td>2</td>\n",
       "      <td>1</td>\n",
       "      <td>2</td>\n",
       "      <td>2</td>\n",
       "      <td>2</td>\n",
       "      <td>2</td>\n",
       "      <td>1.0</td>\n",
       "      <td>115.0</td>\n",
       "      <td>52.0</td>\n",
       "      <td>3.4</td>\n",
       "      <td>50.0</td>\n",
       "      <td>2</td>\n",
       "    </tr>\n",
       "  </tbody>\n",
       "</table>\n",
       "</div>"
      ],
      "text/plain": [
       "    class  age sex steroid antivirals fatigue malaise anorexia liver_big  \\\n",
       "2       2   78   1       2          2       1       2        2         2   \n",
       "110     2    7   1       2          2       2       2        2         2   \n",
       "133     2   72   1       2          1       1       2        2         2   \n",
       "\n",
       "    liver_firm spleen_palpable spiders ascites varices  bilirubin  \\\n",
       "2            2               2       2       2       2        0.7   \n",
       "110          1               1       2       2       2        0.7   \n",
       "133          1               2       2       2       2        1.0   \n",
       "\n",
       "     alk_phosphate  sgot  albumin  protime histology  \n",
       "2             96.0  32.0      4.0      NaN         1  \n",
       "110          256.0  25.0      4.2      NaN         2  \n",
       "133          115.0  52.0      3.4     50.0         2  "
      ]
     },
     "execution_count": 64,
     "metadata": {},
     "output_type": "execute_result"
    }
   ],
   "source": [
    "df[(df['age'] < LB) | (df['age'] > UB)]"
   ]
  },
  {
   "cell_type": "code",
   "execution_count": 65,
   "id": "92da2a19",
   "metadata": {},
   "outputs": [
    {
     "data": {
      "text/plain": [
       "1.935483870967742"
      ]
     },
     "execution_count": 65,
     "metadata": {},
     "output_type": "execute_result"
    }
   ],
   "source": [
    "3/len(df)*100"
   ]
  },
  {
   "cell_type": "code",
   "execution_count": 66,
   "id": "056fa5e4",
   "metadata": {},
   "outputs": [
    {
     "data": {
      "image/png": "[encoded data removed]",
      "text/plain": [
       "<Figure size 500x200 with 1 Axes>"
      ]
     },
     "metadata": {},
     "output_type": "display_data"
    }
   ],
   "source": [
    "df.age[(df.age < LB) | (df.age > UB)] = np.median(df.age)\n",
    "df.boxplot(column='age',fontsize=10,rot=0,grid=False,figsize=(5,2),vert=False)\n",
    "plt.show()"
   ]
  },
  {
   "cell_type": "markdown",
   "id": "c9a69870",
   "metadata": {},
   "source": [
    "### bilirubin"
   ]
  },
  {
   "cell_type": "code",
   "execution_count": 67,
   "id": "db9b3952",
   "metadata": {},
   "outputs": [
    {
     "data": {
      "image/png": "[encoded data removed]",
      "text/plain": [
       "<Figure size 500x200 with 1 Axes>"
      ]
     },
     "metadata": {},
     "output_type": "display_data"
    }
   ],
   "source": [
    "df.boxplot(column='bilirubin', fontsize=10,rot=0,grid=False,figsize=(5,2),vert=False)\n",
    "plt.show()"
   ]
  },
  {
   "cell_type": "code",
   "execution_count": 68,
   "id": "a885aea7",
   "metadata": {},
   "outputs": [
    {
     "name": "stdout",
     "output_type": "stream",
     "text": [
      "Lower Bound: 0.4\n",
      "Upper Bound: 6.256000000000029\n"
     ]
    }
   ],
   "source": [
    "LB = df['bilirubin'].quantile(0.01)\n",
    "UB = df['bilirubin'].quantile(0.99)\n",
    "\n",
    "print('Lower Bound:',LB)\n",
    "print('Upper Bound:',UB)"
   ]
  },
  {
   "cell_type": "code",
   "execution_count": 69,
   "id": "34d59a91",
   "metadata": {
    "scrolled": false
   },
   "outputs": [
    {
     "data": {
      "text/html": [
       "<div>\n",
       "<style scoped>\n",
       "    .dataframe tbody tr th:only-of-type {\n",
       "        vertical-align: middle;\n",
       "    }\n",
       "\n",
       "    .dataframe tbody tr th {\n",
       "        vertical-align: top;\n",
       "    }\n",
       "\n",
       "    .dataframe thead th {\n",
       "        text-align: right;\n",
       "    }\n",
       "</style>\n",
       "<table border=\"1\" class=\"dataframe\">\n",
       "  <thead>\n",
       "    <tr style=\"text-align: right;\">\n",
       "      <th></th>\n",
       "      <th>class</th>\n",
       "      <th>age</th>\n",
       "      <th>sex</th>\n",
       "      <th>steroid</th>\n",
       "      <th>antivirals</th>\n",
       "      <th>fatigue</th>\n",
       "      <th>malaise</th>\n",
       "      <th>anorexia</th>\n",
       "      <th>liver_big</th>\n",
       "      <th>liver_firm</th>\n",
       "      <th>spleen_palpable</th>\n",
       "      <th>spiders</th>\n",
       "      <th>ascites</th>\n",
       "      <th>varices</th>\n",
       "      <th>bilirubin</th>\n",
       "      <th>alk_phosphate</th>\n",
       "      <th>sgot</th>\n",
       "      <th>albumin</th>\n",
       "      <th>protime</th>\n",
       "      <th>histology</th>\n",
       "    </tr>\n",
       "  </thead>\n",
       "  <tbody>\n",
       "    <tr>\n",
       "      <th>39</th>\n",
       "      <td>2</td>\n",
       "      <td>65</td>\n",
       "      <td>1</td>\n",
       "      <td>2</td>\n",
       "      <td>2</td>\n",
       "      <td>1</td>\n",
       "      <td>1</td>\n",
       "      <td>2</td>\n",
       "      <td>2</td>\n",
       "      <td>1</td>\n",
       "      <td>1</td>\n",
       "      <td>1</td>\n",
       "      <td>1</td>\n",
       "      <td>2</td>\n",
       "      <td>0.3</td>\n",
       "      <td>180.0</td>\n",
       "      <td>53.0</td>\n",
       "      <td>2.9</td>\n",
       "      <td>74.0</td>\n",
       "      <td>2</td>\n",
       "    </tr>\n",
       "    <tr>\n",
       "      <th>131</th>\n",
       "      <td>1</td>\n",
       "      <td>31</td>\n",
       "      <td>1</td>\n",
       "      <td>1</td>\n",
       "      <td>2</td>\n",
       "      <td>1</td>\n",
       "      <td>1</td>\n",
       "      <td>1</td>\n",
       "      <td>2</td>\n",
       "      <td>2</td>\n",
       "      <td>1</td>\n",
       "      <td>2</td>\n",
       "      <td>2</td>\n",
       "      <td>2</td>\n",
       "      <td>8.0</td>\n",
       "      <td>NaN</td>\n",
       "      <td>101.0</td>\n",
       "      <td>2.2</td>\n",
       "      <td>NaN</td>\n",
       "      <td>2</td>\n",
       "    </tr>\n",
       "    <tr>\n",
       "      <th>150</th>\n",
       "      <td>1</td>\n",
       "      <td>46</td>\n",
       "      <td>1</td>\n",
       "      <td>2</td>\n",
       "      <td>2</td>\n",
       "      <td>1</td>\n",
       "      <td>1</td>\n",
       "      <td>1</td>\n",
       "      <td>2</td>\n",
       "      <td>2</td>\n",
       "      <td>2</td>\n",
       "      <td>1</td>\n",
       "      <td>1</td>\n",
       "      <td>1</td>\n",
       "      <td>7.6</td>\n",
       "      <td>NaN</td>\n",
       "      <td>242.0</td>\n",
       "      <td>3.3</td>\n",
       "      <td>50.0</td>\n",
       "      <td>2</td>\n",
       "    </tr>\n",
       "  </tbody>\n",
       "</table>\n",
       "</div>"
      ],
      "text/plain": [
       "    class  age sex steroid antivirals fatigue malaise anorexia liver_big  \\\n",
       "39      2   65   1       2          2       1       1        2         2   \n",
       "131     1   31   1       1          2       1       1        1         2   \n",
       "150     1   46   1       2          2       1       1        1         2   \n",
       "\n",
       "    liver_firm spleen_palpable spiders ascites varices  bilirubin  \\\n",
       "39           1               1       1       1       2        0.3   \n",
       "131          2               1       2       2       2        8.0   \n",
       "150          2               2       1       1       1        7.6   \n",
       "\n",
       "     alk_phosphate   sgot  albumin  protime histology  \n",
       "39           180.0   53.0      2.9     74.0         2  \n",
       "131            NaN  101.0      2.2      NaN         2  \n",
       "150            NaN  242.0      3.3     50.0         2  "
      ]
     },
     "execution_count": 69,
     "metadata": {},
     "output_type": "execute_result"
    }
   ],
   "source": [
    "df[(df['bilirubin'] < LB) | (df['bilirubin'] > UB)]"
   ]
  },
  {
   "cell_type": "code",
   "execution_count": 70,
   "id": "4fd243bf",
   "metadata": {},
   "outputs": [
    {
     "data": {
      "text/plain": [
       "1.935483870967742"
      ]
     },
     "execution_count": 70,
     "metadata": {},
     "output_type": "execute_result"
    }
   ],
   "source": [
    "3/len(df)*100"
   ]
  },
  {
   "cell_type": "code",
   "execution_count": 71,
   "id": "f3e772ba",
   "metadata": {},
   "outputs": [
    {
     "data": {
      "image/png": "[encoded data removed]",
      "text/plain": [
       "<Figure size 500x200 with 1 Axes>"
      ]
     },
     "metadata": {},
     "output_type": "display_data"
    }
   ],
   "source": [
    "df.bilirubin[(df.bilirubin < LB) | (df.bilirubin > UB)] = np.median(df.bilirubin)\n",
    "df.boxplot(column='bilirubin',fontsize=10,rot=0,grid=False,figsize=(5,2),vert=False)\n",
    "plt.show()"
   ]
  },
  {
   "cell_type": "markdown",
   "id": "a9004a63",
   "metadata": {},
   "source": [
    "### alk_phosphate"
   ]
  },
  {
   "cell_type": "code",
   "execution_count": 72,
   "id": "17845c33",
   "metadata": {},
   "outputs": [
    {
     "data": {
      "image/png": "[encoded data removed]",
      "text/plain": [
       "<Figure size 500x200 with 1 Axes>"
      ]
     },
     "metadata": {},
     "output_type": "display_data"
    }
   ],
   "source": [
    "df.boxplot(column='alk_phosphate',fontsize=10,rot=0,grid=False,figsize=(5,2),vert=False)\n",
    "plt.show()"
   ]
  },
  {
   "cell_type": "code",
   "execution_count": 73,
   "id": "a4e1545c",
   "metadata": {},
   "outputs": [
    {
     "name": "stdout",
     "output_type": "stream",
     "text": [
      "Lower Bound: 31.0\n",
      "Upper Bound: 274.0\n"
     ]
    }
   ],
   "source": [
    "LB = df['alk_phosphate'].quantile(0.01)\n",
    "UB = df['alk_phosphate'].quantile(0.99)\n",
    "\n",
    "print('Lower Bound:',LB)\n",
    "print('Upper Bound:',UB)"
   ]
  },
  {
   "cell_type": "code",
   "execution_count": 74,
   "id": "ae37b140",
   "metadata": {},
   "outputs": [
    {
     "data": {
      "text/html": [
       "<div>\n",
       "<style scoped>\n",
       "    .dataframe tbody tr th:only-of-type {\n",
       "        vertical-align: middle;\n",
       "    }\n",
       "\n",
       "    .dataframe tbody tr th {\n",
       "        vertical-align: top;\n",
       "    }\n",
       "\n",
       "    .dataframe thead th {\n",
       "        text-align: right;\n",
       "    }\n",
       "</style>\n",
       "<table border=\"1\" class=\"dataframe\">\n",
       "  <thead>\n",
       "    <tr style=\"text-align: right;\">\n",
       "      <th></th>\n",
       "      <th>class</th>\n",
       "      <th>age</th>\n",
       "      <th>sex</th>\n",
       "      <th>steroid</th>\n",
       "      <th>antivirals</th>\n",
       "      <th>fatigue</th>\n",
       "      <th>malaise</th>\n",
       "      <th>anorexia</th>\n",
       "      <th>liver_big</th>\n",
       "      <th>liver_firm</th>\n",
       "      <th>spleen_palpable</th>\n",
       "      <th>spiders</th>\n",
       "      <th>ascites</th>\n",
       "      <th>varices</th>\n",
       "      <th>bilirubin</th>\n",
       "      <th>alk_phosphate</th>\n",
       "      <th>sgot</th>\n",
       "      <th>albumin</th>\n",
       "      <th>protime</th>\n",
       "      <th>histology</th>\n",
       "    </tr>\n",
       "  </thead>\n",
       "  <tbody>\n",
       "    <tr>\n",
       "      <th>30</th>\n",
       "      <td>1</td>\n",
       "      <td>39</td>\n",
       "      <td>1</td>\n",
       "      <td>1</td>\n",
       "      <td>1</td>\n",
       "      <td>1</td>\n",
       "      <td>1</td>\n",
       "      <td>2</td>\n",
       "      <td>2</td>\n",
       "      <td>1</td>\n",
       "      <td>2</td>\n",
       "      <td>2</td>\n",
       "      <td>2</td>\n",
       "      <td>2</td>\n",
       "      <td>2.3</td>\n",
       "      <td>280.0</td>\n",
       "      <td>98.0</td>\n",
       "      <td>3.8</td>\n",
       "      <td>40.0</td>\n",
       "      <td>1</td>\n",
       "    </tr>\n",
       "    <tr>\n",
       "      <th>60</th>\n",
       "      <td>2</td>\n",
       "      <td>37</td>\n",
       "      <td>1</td>\n",
       "      <td>2</td>\n",
       "      <td>2</td>\n",
       "      <td>2</td>\n",
       "      <td>2</td>\n",
       "      <td>2</td>\n",
       "      <td>2</td>\n",
       "      <td>2</td>\n",
       "      <td>2</td>\n",
       "      <td>2</td>\n",
       "      <td>2</td>\n",
       "      <td>2</td>\n",
       "      <td>0.7</td>\n",
       "      <td>26.0</td>\n",
       "      <td>58.0</td>\n",
       "      <td>4.5</td>\n",
       "      <td>100.0</td>\n",
       "      <td>1</td>\n",
       "    </tr>\n",
       "    <tr>\n",
       "      <th>77</th>\n",
       "      <td>2</td>\n",
       "      <td>34</td>\n",
       "      <td>2</td>\n",
       "      <td>1</td>\n",
       "      <td>1</td>\n",
       "      <td>2</td>\n",
       "      <td>2</td>\n",
       "      <td>2</td>\n",
       "      <td>2</td>\n",
       "      <td>1</td>\n",
       "      <td>2</td>\n",
       "      <td>2</td>\n",
       "      <td>2</td>\n",
       "      <td>2</td>\n",
       "      <td>0.6</td>\n",
       "      <td>30.0</td>\n",
       "      <td>24.0</td>\n",
       "      <td>4.0</td>\n",
       "      <td>76.0</td>\n",
       "      <td>1</td>\n",
       "    </tr>\n",
       "    <tr>\n",
       "      <th>140</th>\n",
       "      <td>2</td>\n",
       "      <td>36</td>\n",
       "      <td>1</td>\n",
       "      <td>1</td>\n",
       "      <td>2</td>\n",
       "      <td>1</td>\n",
       "      <td>1</td>\n",
       "      <td>1</td>\n",
       "      <td>1</td>\n",
       "      <td>1</td>\n",
       "      <td>2</td>\n",
       "      <td>1</td>\n",
       "      <td>2</td>\n",
       "      <td>1</td>\n",
       "      <td>1.7</td>\n",
       "      <td>295.0</td>\n",
       "      <td>60.0</td>\n",
       "      <td>2.7</td>\n",
       "      <td>NaN</td>\n",
       "      <td>2</td>\n",
       "    </tr>\n",
       "  </tbody>\n",
       "</table>\n",
       "</div>"
      ],
      "text/plain": [
       "    class  age sex steroid antivirals fatigue malaise anorexia liver_big  \\\n",
       "30      1   39   1       1          1       1       1        2         2   \n",
       "60      2   37   1       2          2       2       2        2         2   \n",
       "77      2   34   2       1          1       2       2        2         2   \n",
       "140     2   36   1       1          2       1       1        1         1   \n",
       "\n",
       "    liver_firm spleen_palpable spiders ascites varices  bilirubin  \\\n",
       "30           1               2       2       2       2        2.3   \n",
       "60           2               2       2       2       2        0.7   \n",
       "77           1               2       2       2       2        0.6   \n",
       "140          1               2       1       2       1        1.7   \n",
       "\n",
       "     alk_phosphate  sgot  albumin  protime histology  \n",
       "30           280.0  98.0      3.8     40.0         1  \n",
       "60            26.0  58.0      4.5    100.0         1  \n",
       "77            30.0  24.0      4.0     76.0         1  \n",
       "140          295.0  60.0      2.7      NaN         2  "
      ]
     },
     "execution_count": 74,
     "metadata": {},
     "output_type": "execute_result"
    }
   ],
   "source": [
    "df[(df.alk_phosphate < LB) | (df.alk_phosphate > UB)] "
   ]
  },
  {
   "cell_type": "code",
   "execution_count": 75,
   "id": "25554411",
   "metadata": {},
   "outputs": [
    {
     "data": {
      "text/plain": [
       "2.5806451612903225"
      ]
     },
     "execution_count": 75,
     "metadata": {},
     "output_type": "execute_result"
    }
   ],
   "source": [
    "4/len(df)*100"
   ]
  },
  {
   "cell_type": "code",
   "execution_count": 76,
   "id": "bb4dde42",
   "metadata": {},
   "outputs": [
    {
     "data": {
      "image/png": "[encoded data removed]",
      "text/plain": [
       "<Figure size 500x200 with 1 Axes>"
      ]
     },
     "metadata": {},
     "output_type": "display_data"
    }
   ],
   "source": [
    "df.alk_phosphate[(df.alk_phosphate < LB) | (df.alk_phosphate > UB)] = np.median(df.alk_phosphate)\n",
    "df.boxplot(column='alk_phosphate',fontsize=10,rot=0,grid=False,figsize=(5,2),vert=False)\n",
    "plt.show()"
   ]
  },
  {
   "cell_type": "markdown",
   "id": "72753121",
   "metadata": {},
   "source": [
    "### sgot"
   ]
  },
  {
   "cell_type": "code",
   "execution_count": 77,
   "id": "3a540b84",
   "metadata": {},
   "outputs": [
    {
     "data": {
      "image/png": "[encoded data removed]",
      "text/plain": [
       "<Figure size 500x200 with 1 Axes>"
      ]
     },
     "metadata": {},
     "output_type": "display_data"
    }
   ],
   "source": [
    "df.boxplot(column='sgot',fontsize=10,rot=0,grid=False,figsize=(5,2),vert=False)\n",
    "plt.show()"
   ]
  },
  {
   "cell_type": "code",
   "execution_count": 78,
   "id": "56601172",
   "metadata": {},
   "outputs": [
    {
     "name": "stdout",
     "output_type": "stream",
     "text": [
      "Lower Bound: 14.5\n",
      "Upper Bound: 474.0\n"
     ]
    }
   ],
   "source": [
    "LB = df['sgot'].quantile(0.01)\n",
    "UB = df['sgot'].quantile(0.99)\n",
    "\n",
    "print('Lower Bound:',LB)\n",
    "print('Upper Bound:',UB)"
   ]
  },
  {
   "cell_type": "code",
   "execution_count": 79,
   "id": "90320d31",
   "metadata": {},
   "outputs": [
    {
     "data": {
      "text/html": [
       "<div>\n",
       "<style scoped>\n",
       "    .dataframe tbody tr th:only-of-type {\n",
       "        vertical-align: middle;\n",
       "    }\n",
       "\n",
       "    .dataframe tbody tr th {\n",
       "        vertical-align: top;\n",
       "    }\n",
       "\n",
       "    .dataframe thead th {\n",
       "        text-align: right;\n",
       "    }\n",
       "</style>\n",
       "<table border=\"1\" class=\"dataframe\">\n",
       "  <thead>\n",
       "    <tr style=\"text-align: right;\">\n",
       "      <th></th>\n",
       "      <th>class</th>\n",
       "      <th>age</th>\n",
       "      <th>sex</th>\n",
       "      <th>steroid</th>\n",
       "      <th>antivirals</th>\n",
       "      <th>fatigue</th>\n",
       "      <th>malaise</th>\n",
       "      <th>anorexia</th>\n",
       "      <th>liver_big</th>\n",
       "      <th>liver_firm</th>\n",
       "      <th>spleen_palpable</th>\n",
       "      <th>spiders</th>\n",
       "      <th>ascites</th>\n",
       "      <th>varices</th>\n",
       "      <th>bilirubin</th>\n",
       "      <th>alk_phosphate</th>\n",
       "      <th>sgot</th>\n",
       "      <th>albumin</th>\n",
       "      <th>protime</th>\n",
       "      <th>histology</th>\n",
       "    </tr>\n",
       "  </thead>\n",
       "  <tbody>\n",
       "    <tr>\n",
       "      <th>38</th>\n",
       "      <td>2</td>\n",
       "      <td>42</td>\n",
       "      <td>1</td>\n",
       "      <td>1</td>\n",
       "      <td>2</td>\n",
       "      <td>2</td>\n",
       "      <td>2</td>\n",
       "      <td>2</td>\n",
       "      <td>2</td>\n",
       "      <td>2</td>\n",
       "      <td>2</td>\n",
       "      <td>2</td>\n",
       "      <td>2</td>\n",
       "      <td>2</td>\n",
       "      <td>1.0</td>\n",
       "      <td>85.0</td>\n",
       "      <td>14.0</td>\n",
       "      <td>4.0</td>\n",
       "      <td>100.0</td>\n",
       "      <td>1</td>\n",
       "    </tr>\n",
       "    <tr>\n",
       "      <th>80</th>\n",
       "      <td>2</td>\n",
       "      <td>23</td>\n",
       "      <td>1</td>\n",
       "      <td>2</td>\n",
       "      <td>2</td>\n",
       "      <td>1</td>\n",
       "      <td>1</td>\n",
       "      <td>1</td>\n",
       "      <td>2</td>\n",
       "      <td>2</td>\n",
       "      <td>2</td>\n",
       "      <td>2</td>\n",
       "      <td>2</td>\n",
       "      <td>2</td>\n",
       "      <td>0.8</td>\n",
       "      <td>NaN</td>\n",
       "      <td>14.0</td>\n",
       "      <td>4.8</td>\n",
       "      <td>NaN</td>\n",
       "      <td>1</td>\n",
       "    </tr>\n",
       "    <tr>\n",
       "      <th>107</th>\n",
       "      <td>2</td>\n",
       "      <td>45</td>\n",
       "      <td>1</td>\n",
       "      <td>1</td>\n",
       "      <td>2</td>\n",
       "      <td>1</td>\n",
       "      <td>1</td>\n",
       "      <td>1</td>\n",
       "      <td>2</td>\n",
       "      <td>2</td>\n",
       "      <td>2</td>\n",
       "      <td>2</td>\n",
       "      <td>2</td>\n",
       "      <td>2</td>\n",
       "      <td>2.3</td>\n",
       "      <td>NaN</td>\n",
       "      <td>648.0</td>\n",
       "      <td>NaN</td>\n",
       "      <td>NaN</td>\n",
       "      <td>2</td>\n",
       "    </tr>\n",
       "    <tr>\n",
       "      <th>147</th>\n",
       "      <td>1</td>\n",
       "      <td>70</td>\n",
       "      <td>1</td>\n",
       "      <td>1</td>\n",
       "      <td>2</td>\n",
       "      <td>1</td>\n",
       "      <td>1</td>\n",
       "      <td>1</td>\n",
       "      <td>NaN</td>\n",
       "      <td>NaN</td>\n",
       "      <td>NaN</td>\n",
       "      <td>NaN</td>\n",
       "      <td>NaN</td>\n",
       "      <td>NaN</td>\n",
       "      <td>1.7</td>\n",
       "      <td>109.0</td>\n",
       "      <td>528.0</td>\n",
       "      <td>2.8</td>\n",
       "      <td>35.0</td>\n",
       "      <td>2</td>\n",
       "    </tr>\n",
       "  </tbody>\n",
       "</table>\n",
       "</div>"
      ],
      "text/plain": [
       "    class  age sex steroid antivirals fatigue malaise anorexia liver_big  \\\n",
       "38      2   42   1       1          2       2       2        2         2   \n",
       "80      2   23   1       2          2       1       1        1         2   \n",
       "107     2   45   1       1          2       1       1        1         2   \n",
       "147     1   70   1       1          2       1       1        1       NaN   \n",
       "\n",
       "    liver_firm spleen_palpable spiders ascites varices  bilirubin  \\\n",
       "38           2               2       2       2       2        1.0   \n",
       "80           2               2       2       2       2        0.8   \n",
       "107          2               2       2       2       2        2.3   \n",
       "147        NaN             NaN     NaN     NaN     NaN        1.7   \n",
       "\n",
       "     alk_phosphate   sgot  albumin  protime histology  \n",
       "38            85.0   14.0      4.0    100.0         1  \n",
       "80             NaN   14.0      4.8      NaN         1  \n",
       "107            NaN  648.0      NaN      NaN         2  \n",
       "147          109.0  528.0      2.8     35.0         2  "
      ]
     },
     "execution_count": 79,
     "metadata": {},
     "output_type": "execute_result"
    }
   ],
   "source": [
    "df[(df.sgot < LB) | (df.sgot > UB)] "
   ]
  },
  {
   "cell_type": "code",
   "execution_count": 80,
   "id": "7f8e65b4",
   "metadata": {},
   "outputs": [
    {
     "data": {
      "text/plain": [
       "2.5806451612903225"
      ]
     },
     "execution_count": 80,
     "metadata": {},
     "output_type": "execute_result"
    }
   ],
   "source": [
    "4/len(df)*100"
   ]
  },
  {
   "cell_type": "code",
   "execution_count": 81,
   "id": "4175ee65",
   "metadata": {},
   "outputs": [
    {
     "data": {
      "image/png": "[encoded data removed]",
      "text/plain": [
       "<Figure size 500x200 with 1 Axes>"
      ]
     },
     "metadata": {},
     "output_type": "display_data"
    }
   ],
   "source": [
    "df.sgot[(df.sgot < LB) | (df.sgot > UB)] = np.median(df.sgot)\n",
    "df.boxplot(column='sgot',fontsize=10,rot=0,grid=False,figsize=(5,2),vert=False)\n",
    "plt.show()"
   ]
  },
  {
   "cell_type": "markdown",
   "id": "70867eea",
   "metadata": {},
   "source": [
    "### albumin"
   ]
  },
  {
   "cell_type": "code",
   "execution_count": 82,
   "id": "36f2142b",
   "metadata": {},
   "outputs": [
    {
     "data": {
      "image/png": "[encoded data removed]",
      "text/plain": [
       "<Figure size 500x200 with 1 Axes>"
      ]
     },
     "metadata": {},
     "output_type": "display_data"
    }
   ],
   "source": [
    "df.boxplot(column='albumin',fontsize=10,rot=0,grid=False,figsize=(5,2),vert=False)\n",
    "plt.show()"
   ]
  },
  {
   "cell_type": "code",
   "execution_count": 83,
   "id": "6c5f8760",
   "metadata": {},
   "outputs": [
    {
     "name": "stdout",
     "output_type": "stream",
     "text": [
      "Lower Bound: 2.2760000000000002\n",
      "Upper Bound: 5.186000000000001\n"
     ]
    }
   ],
   "source": [
    "LB = df['albumin'].quantile(0.01)\n",
    "UB = df['albumin'].quantile(0.99)\n",
    "\n",
    "print('Lower Bound:',LB)\n",
    "print('Upper Bound:',UB)"
   ]
  },
  {
   "cell_type": "code",
   "execution_count": 84,
   "id": "be75d274",
   "metadata": {
    "scrolled": false
   },
   "outputs": [
    {
     "data": {
      "text/html": [
       "<div>\n",
       "<style scoped>\n",
       "    .dataframe tbody tr th:only-of-type {\n",
       "        vertical-align: middle;\n",
       "    }\n",
       "\n",
       "    .dataframe tbody tr th {\n",
       "        vertical-align: top;\n",
       "    }\n",
       "\n",
       "    .dataframe thead th {\n",
       "        text-align: right;\n",
       "    }\n",
       "</style>\n",
       "<table border=\"1\" class=\"dataframe\">\n",
       "  <thead>\n",
       "    <tr style=\"text-align: right;\">\n",
       "      <th></th>\n",
       "      <th>class</th>\n",
       "      <th>age</th>\n",
       "      <th>sex</th>\n",
       "      <th>steroid</th>\n",
       "      <th>antivirals</th>\n",
       "      <th>fatigue</th>\n",
       "      <th>malaise</th>\n",
       "      <th>anorexia</th>\n",
       "      <th>liver_big</th>\n",
       "      <th>liver_firm</th>\n",
       "      <th>spleen_palpable</th>\n",
       "      <th>spiders</th>\n",
       "      <th>ascites</th>\n",
       "      <th>varices</th>\n",
       "      <th>bilirubin</th>\n",
       "      <th>alk_phosphate</th>\n",
       "      <th>sgot</th>\n",
       "      <th>albumin</th>\n",
       "      <th>protime</th>\n",
       "      <th>histology</th>\n",
       "    </tr>\n",
       "  </thead>\n",
       "  <tbody>\n",
       "    <tr>\n",
       "      <th>74</th>\n",
       "      <td>2</td>\n",
       "      <td>50</td>\n",
       "      <td>1</td>\n",
       "      <td>2</td>\n",
       "      <td>2</td>\n",
       "      <td>2</td>\n",
       "      <td>2</td>\n",
       "      <td>2</td>\n",
       "      <td>2</td>\n",
       "      <td>2</td>\n",
       "      <td>2</td>\n",
       "      <td>2</td>\n",
       "      <td>2</td>\n",
       "      <td>2</td>\n",
       "      <td>1.5</td>\n",
       "      <td>100.0</td>\n",
       "      <td>100.0</td>\n",
       "      <td>5.3</td>\n",
       "      <td>NaN</td>\n",
       "      <td>1</td>\n",
       "    </tr>\n",
       "    <tr>\n",
       "      <th>104</th>\n",
       "      <td>1</td>\n",
       "      <td>47</td>\n",
       "      <td>1</td>\n",
       "      <td>2</td>\n",
       "      <td>2</td>\n",
       "      <td>1</td>\n",
       "      <td>1</td>\n",
       "      <td>2</td>\n",
       "      <td>2</td>\n",
       "      <td>1</td>\n",
       "      <td>2</td>\n",
       "      <td>2</td>\n",
       "      <td>1</td>\n",
       "      <td>1</td>\n",
       "      <td>1.7</td>\n",
       "      <td>86.0</td>\n",
       "      <td>20.0</td>\n",
       "      <td>2.1</td>\n",
       "      <td>46.0</td>\n",
       "      <td>2</td>\n",
       "    </tr>\n",
       "    <tr>\n",
       "      <th>105</th>\n",
       "      <td>2</td>\n",
       "      <td>25</td>\n",
       "      <td>1</td>\n",
       "      <td>2</td>\n",
       "      <td>2</td>\n",
       "      <td>2</td>\n",
       "      <td>2</td>\n",
       "      <td>2</td>\n",
       "      <td>2</td>\n",
       "      <td>2</td>\n",
       "      <td>2</td>\n",
       "      <td>2</td>\n",
       "      <td>2</td>\n",
       "      <td>2</td>\n",
       "      <td>0.6</td>\n",
       "      <td>NaN</td>\n",
       "      <td>34.0</td>\n",
       "      <td>6.4</td>\n",
       "      <td>NaN</td>\n",
       "      <td>2</td>\n",
       "    </tr>\n",
       "    <tr>\n",
       "      <th>131</th>\n",
       "      <td>1</td>\n",
       "      <td>31</td>\n",
       "      <td>1</td>\n",
       "      <td>1</td>\n",
       "      <td>2</td>\n",
       "      <td>1</td>\n",
       "      <td>1</td>\n",
       "      <td>1</td>\n",
       "      <td>2</td>\n",
       "      <td>2</td>\n",
       "      <td>1</td>\n",
       "      <td>2</td>\n",
       "      <td>2</td>\n",
       "      <td>2</td>\n",
       "      <td>NaN</td>\n",
       "      <td>NaN</td>\n",
       "      <td>101.0</td>\n",
       "      <td>2.2</td>\n",
       "      <td>NaN</td>\n",
       "      <td>2</td>\n",
       "    </tr>\n",
       "  </tbody>\n",
       "</table>\n",
       "</div>"
      ],
      "text/plain": [
       "    class  age sex steroid antivirals fatigue malaise anorexia liver_big  \\\n",
       "74      2   50   1       2          2       2       2        2         2   \n",
       "104     1   47   1       2          2       1       1        2         2   \n",
       "105     2   25   1       2          2       2       2        2         2   \n",
       "131     1   31   1       1          2       1       1        1         2   \n",
       "\n",
       "    liver_firm spleen_palpable spiders ascites varices  bilirubin  \\\n",
       "74           2               2       2       2       2        1.5   \n",
       "104          1               2       2       1       1        1.7   \n",
       "105          2               2       2       2       2        0.6   \n",
       "131          2               1       2       2       2        NaN   \n",
       "\n",
       "     alk_phosphate   sgot  albumin  protime histology  \n",
       "74           100.0  100.0      5.3      NaN         1  \n",
       "104           86.0   20.0      2.1     46.0         2  \n",
       "105            NaN   34.0      6.4      NaN         2  \n",
       "131            NaN  101.0      2.2      NaN         2  "
      ]
     },
     "execution_count": 84,
     "metadata": {},
     "output_type": "execute_result"
    }
   ],
   "source": [
    "df[(df.albumin < LB) | (df.albumin > UB)]"
   ]
  },
  {
   "cell_type": "code",
   "execution_count": 85,
   "id": "02170364",
   "metadata": {},
   "outputs": [
    {
     "data": {
      "text/plain": [
       "2.5806451612903225"
      ]
     },
     "execution_count": 85,
     "metadata": {},
     "output_type": "execute_result"
    }
   ],
   "source": [
    "4/len(df)*100"
   ]
  },
  {
   "cell_type": "code",
   "execution_count": 86,
   "id": "0de61e47",
   "metadata": {},
   "outputs": [
    {
     "data": {
      "image/png": "[encoded data removed]",
      "text/plain": [
       "<Figure size 500x200 with 1 Axes>"
      ]
     },
     "metadata": {},
     "output_type": "display_data"
    }
   ],
   "source": [
    "df.albumin[(df.albumin < LB) | (df.albumin > UB)] = np.median(df.albumin)\n",
    "df.boxplot(column='albumin',fontsize=10,rot=0,grid=False,figsize=(5,2),vert=False)\n",
    "plt.show()"
   ]
  },
  {
   "cell_type": "markdown",
   "id": "2ab457e2",
   "metadata": {},
   "source": [
    "### protime"
   ]
  },
  {
   "cell_type": "code",
   "execution_count": 87,
   "id": "99da606a",
   "metadata": {},
   "outputs": [
    {
     "data": {
      "image/png": "[encoded data removed]",
      "text/plain": [
       "<Figure size 500x200 with 1 Axes>"
      ]
     },
     "metadata": {},
     "output_type": "display_data"
    }
   ],
   "source": [
    "df.boxplot(column='protime',fontsize=10,rot=0,grid=False,figsize=(5,2),vert=False)\n",
    "plt.show()"
   ]
  },
  {
   "cell_type": "code",
   "execution_count": 88,
   "id": "9f27e6ed",
   "metadata": {},
   "outputs": [
    {
     "name": "stdout",
     "output_type": "stream",
     "text": [
      "Lower Bound: 18.27\n",
      "Upper Bound: 100.0\n"
     ]
    }
   ],
   "source": [
    "LB = df['protime'].quantile(0.01)\n",
    "UB = df['protime'].quantile(0.99)\n",
    "\n",
    "print('Lower Bound:',LB)\n",
    "print('Upper Bound:',UB)"
   ]
  },
  {
   "cell_type": "code",
   "execution_count": 89,
   "id": "94ee39e8",
   "metadata": {},
   "outputs": [
    {
     "data": {
      "text/html": [
       "<div>\n",
       "<style scoped>\n",
       "    .dataframe tbody tr th:only-of-type {\n",
       "        vertical-align: middle;\n",
       "    }\n",
       "\n",
       "    .dataframe tbody tr th {\n",
       "        vertical-align: top;\n",
       "    }\n",
       "\n",
       "    .dataframe thead th {\n",
       "        text-align: right;\n",
       "    }\n",
       "</style>\n",
       "<table border=\"1\" class=\"dataframe\">\n",
       "  <thead>\n",
       "    <tr style=\"text-align: right;\">\n",
       "      <th></th>\n",
       "      <th>class</th>\n",
       "      <th>age</th>\n",
       "      <th>sex</th>\n",
       "      <th>steroid</th>\n",
       "      <th>antivirals</th>\n",
       "      <th>fatigue</th>\n",
       "      <th>malaise</th>\n",
       "      <th>anorexia</th>\n",
       "      <th>liver_big</th>\n",
       "      <th>liver_firm</th>\n",
       "      <th>spleen_palpable</th>\n",
       "      <th>spiders</th>\n",
       "      <th>ascites</th>\n",
       "      <th>varices</th>\n",
       "      <th>bilirubin</th>\n",
       "      <th>alk_phosphate</th>\n",
       "      <th>sgot</th>\n",
       "      <th>albumin</th>\n",
       "      <th>protime</th>\n",
       "      <th>histology</th>\n",
       "    </tr>\n",
       "  </thead>\n",
       "  <tbody>\n",
       "    <tr>\n",
       "      <th>130</th>\n",
       "      <td>2</td>\n",
       "      <td>54</td>\n",
       "      <td>1</td>\n",
       "      <td>2</td>\n",
       "      <td>2</td>\n",
       "      <td>2</td>\n",
       "      <td>2</td>\n",
       "      <td>2</td>\n",
       "      <td>2</td>\n",
       "      <td>2</td>\n",
       "      <td>2</td>\n",
       "      <td>2</td>\n",
       "      <td>2</td>\n",
       "      <td>2</td>\n",
       "      <td>1.0</td>\n",
       "      <td>85.0</td>\n",
       "      <td>30.0</td>\n",
       "      <td>4.5</td>\n",
       "      <td>0.0</td>\n",
       "      <td>2</td>\n",
       "    </tr>\n",
       "  </tbody>\n",
       "</table>\n",
       "</div>"
      ],
      "text/plain": [
       "    class  age sex steroid antivirals fatigue malaise anorexia liver_big  \\\n",
       "130     2   54   1       2          2       2       2        2         2   \n",
       "\n",
       "    liver_firm spleen_palpable spiders ascites varices  bilirubin  \\\n",
       "130          2               2       2       2       2        1.0   \n",
       "\n",
       "     alk_phosphate  sgot  albumin  protime histology  \n",
       "130           85.0  30.0      4.5      0.0         2  "
      ]
     },
     "execution_count": 89,
     "metadata": {},
     "output_type": "execute_result"
    }
   ],
   "source": [
    "df[(df.protime < LB) | (df.protime > UB)]"
   ]
  },
  {
   "cell_type": "code",
   "execution_count": 90,
   "id": "28cd1c2f",
   "metadata": {},
   "outputs": [
    {
     "data": {
      "text/plain": [
       "0.6451612903225806"
      ]
     },
     "execution_count": 90,
     "metadata": {},
     "output_type": "execute_result"
    }
   ],
   "source": [
    "1/len(df)*100"
   ]
  },
  {
   "cell_type": "code",
   "execution_count": 91,
   "id": "d91800cf",
   "metadata": {},
   "outputs": [
    {
     "data": {
      "image/png": "[encoded data removed]",
      "text/plain": [
       "<Figure size 500x200 with 1 Axes>"
      ]
     },
     "metadata": {},
     "output_type": "display_data"
    }
   ],
   "source": [
    "df.protime[(df.protime < LB) | (df.protime > UB)] = np.median(df.protime)\n",
    "df.boxplot(column='protime',fontsize=10,rot=0,grid=False,figsize=(5,2),vert=False)\n",
    "plt.show()"
   ]
  },
  {
   "cell_type": "code",
   "execution_count": 92,
   "id": "084881f8",
   "metadata": {},
   "outputs": [
    {
     "data": {
      "text/html": [
       "<div>\n",
       "<style scoped>\n",
       "    .dataframe tbody tr th:only-of-type {\n",
       "        vertical-align: middle;\n",
       "    }\n",
       "\n",
       "    .dataframe tbody tr th {\n",
       "        vertical-align: top;\n",
       "    }\n",
       "\n",
       "    .dataframe thead th {\n",
       "        text-align: right;\n",
       "    }\n",
       "</style>\n",
       "<table border=\"1\" class=\"dataframe\">\n",
       "  <thead>\n",
       "    <tr style=\"text-align: right;\">\n",
       "      <th></th>\n",
       "      <th>age</th>\n",
       "      <th>bilirubin</th>\n",
       "      <th>alk_phosphate</th>\n",
       "      <th>sgot</th>\n",
       "      <th>albumin</th>\n",
       "      <th>protime</th>\n",
       "    </tr>\n",
       "  </thead>\n",
       "  <tbody>\n",
       "    <tr>\n",
       "      <th>count</th>\n",
       "      <td>155.000000</td>\n",
       "      <td>146.000000</td>\n",
       "      <td>122.000000</td>\n",
       "      <td>147.000000</td>\n",
       "      <td>135.000000</td>\n",
       "      <td>87.000000</td>\n",
       "    </tr>\n",
       "    <tr>\n",
       "      <th>mean</th>\n",
       "      <td>40.941935</td>\n",
       "      <td>1.347945</td>\n",
       "      <td>103.606557</td>\n",
       "      <td>80.040816</td>\n",
       "      <td>3.811852</td>\n",
       "      <td>62.563218</td>\n",
       "    </tr>\n",
       "    <tr>\n",
       "      <th>std</th>\n",
       "      <td>11.635279</td>\n",
       "      <td>0.961193</td>\n",
       "      <td>45.710291</td>\n",
       "      <td>68.185773</td>\n",
       "      <td>0.573943</td>\n",
       "      <td>22.008297</td>\n",
       "    </tr>\n",
       "    <tr>\n",
       "      <th>min</th>\n",
       "      <td>20.000000</td>\n",
       "      <td>0.400000</td>\n",
       "      <td>34.000000</td>\n",
       "      <td>15.000000</td>\n",
       "      <td>2.400000</td>\n",
       "      <td>21.000000</td>\n",
       "    </tr>\n",
       "    <tr>\n",
       "      <th>25%</th>\n",
       "      <td>32.000000</td>\n",
       "      <td>0.725000</td>\n",
       "      <td>75.000000</td>\n",
       "      <td>32.500000</td>\n",
       "      <td>3.450000</td>\n",
       "      <td>46.000000</td>\n",
       "    </tr>\n",
       "    <tr>\n",
       "      <th>50%</th>\n",
       "      <td>39.000000</td>\n",
       "      <td>1.000000</td>\n",
       "      <td>85.000000</td>\n",
       "      <td>58.000000</td>\n",
       "      <td>4.000000</td>\n",
       "      <td>62.000000</td>\n",
       "    </tr>\n",
       "    <tr>\n",
       "      <th>75%</th>\n",
       "      <td>50.000000</td>\n",
       "      <td>1.500000</td>\n",
       "      <td>129.250000</td>\n",
       "      <td>99.000000</td>\n",
       "      <td>4.200000</td>\n",
       "      <td>76.500000</td>\n",
       "    </tr>\n",
       "    <tr>\n",
       "      <th>max</th>\n",
       "      <td>70.000000</td>\n",
       "      <td>4.800000</td>\n",
       "      <td>256.000000</td>\n",
       "      <td>420.000000</td>\n",
       "      <td>5.000000</td>\n",
       "      <td>100.000000</td>\n",
       "    </tr>\n",
       "  </tbody>\n",
       "</table>\n",
       "</div>"
      ],
      "text/plain": [
       "              age   bilirubin  alk_phosphate        sgot     albumin  \\\n",
       "count  155.000000  146.000000     122.000000  147.000000  135.000000   \n",
       "mean    40.941935    1.347945     103.606557   80.040816    3.811852   \n",
       "std     11.635279    0.961193      45.710291   68.185773    0.573943   \n",
       "min     20.000000    0.400000      34.000000   15.000000    2.400000   \n",
       "25%     32.000000    0.725000      75.000000   32.500000    3.450000   \n",
       "50%     39.000000    1.000000      85.000000   58.000000    4.000000   \n",
       "75%     50.000000    1.500000     129.250000   99.000000    4.200000   \n",
       "max     70.000000    4.800000     256.000000  420.000000    5.000000   \n",
       "\n",
       "          protime  \n",
       "count   87.000000  \n",
       "mean    62.563218  \n",
       "std     22.008297  \n",
       "min     21.000000  \n",
       "25%     46.000000  \n",
       "50%     62.000000  \n",
       "75%     76.500000  \n",
       "max    100.000000  "
      ]
     },
     "execution_count": 92,
     "metadata": {},
     "output_type": "execute_result"
    }
   ],
   "source": [
    "df.describe()"
   ]
  },
  {
   "cell_type": "code",
   "execution_count": 93,
   "id": "1a30b3e6",
   "metadata": {},
   "outputs": [
    {
     "data": {
      "text/html": [
       "<div>\n",
       "<style scoped>\n",
       "    .dataframe tbody tr th:only-of-type {\n",
       "        vertical-align: middle;\n",
       "    }\n",
       "\n",
       "    .dataframe tbody tr th {\n",
       "        vertical-align: top;\n",
       "    }\n",
       "\n",
       "    .dataframe thead th {\n",
       "        text-align: right;\n",
       "    }\n",
       "</style>\n",
       "<table border=\"1\" class=\"dataframe\">\n",
       "  <thead>\n",
       "    <tr style=\"text-align: right;\">\n",
       "      <th></th>\n",
       "      <th>class</th>\n",
       "      <th>age</th>\n",
       "      <th>sex</th>\n",
       "      <th>steroid</th>\n",
       "      <th>antivirals</th>\n",
       "      <th>fatigue</th>\n",
       "      <th>malaise</th>\n",
       "      <th>anorexia</th>\n",
       "      <th>liver_big</th>\n",
       "      <th>liver_firm</th>\n",
       "      <th>spleen_palpable</th>\n",
       "      <th>spiders</th>\n",
       "      <th>ascites</th>\n",
       "      <th>varices</th>\n",
       "      <th>bilirubin</th>\n",
       "      <th>alk_phosphate</th>\n",
       "      <th>sgot</th>\n",
       "      <th>albumin</th>\n",
       "      <th>protime</th>\n",
       "      <th>histology</th>\n",
       "    </tr>\n",
       "  </thead>\n",
       "  <tbody>\n",
       "    <tr>\n",
       "      <th>0</th>\n",
       "      <td>2</td>\n",
       "      <td>30</td>\n",
       "      <td>2</td>\n",
       "      <td>1</td>\n",
       "      <td>2</td>\n",
       "      <td>2</td>\n",
       "      <td>2</td>\n",
       "      <td>2</td>\n",
       "      <td>1</td>\n",
       "      <td>2</td>\n",
       "      <td>2</td>\n",
       "      <td>2</td>\n",
       "      <td>2</td>\n",
       "      <td>2</td>\n",
       "      <td>1.0</td>\n",
       "      <td>85.0</td>\n",
       "      <td>18.0</td>\n",
       "      <td>4.0</td>\n",
       "      <td>NaN</td>\n",
       "      <td>1</td>\n",
       "    </tr>\n",
       "    <tr>\n",
       "      <th>1</th>\n",
       "      <td>2</td>\n",
       "      <td>50</td>\n",
       "      <td>1</td>\n",
       "      <td>1</td>\n",
       "      <td>2</td>\n",
       "      <td>1</td>\n",
       "      <td>2</td>\n",
       "      <td>2</td>\n",
       "      <td>1</td>\n",
       "      <td>2</td>\n",
       "      <td>2</td>\n",
       "      <td>2</td>\n",
       "      <td>2</td>\n",
       "      <td>2</td>\n",
       "      <td>0.9</td>\n",
       "      <td>135.0</td>\n",
       "      <td>42.0</td>\n",
       "      <td>3.5</td>\n",
       "      <td>NaN</td>\n",
       "      <td>1</td>\n",
       "    </tr>\n",
       "    <tr>\n",
       "      <th>2</th>\n",
       "      <td>2</td>\n",
       "      <td>39</td>\n",
       "      <td>1</td>\n",
       "      <td>2</td>\n",
       "      <td>2</td>\n",
       "      <td>1</td>\n",
       "      <td>2</td>\n",
       "      <td>2</td>\n",
       "      <td>2</td>\n",
       "      <td>2</td>\n",
       "      <td>2</td>\n",
       "      <td>2</td>\n",
       "      <td>2</td>\n",
       "      <td>2</td>\n",
       "      <td>0.7</td>\n",
       "      <td>96.0</td>\n",
       "      <td>32.0</td>\n",
       "      <td>4.0</td>\n",
       "      <td>NaN</td>\n",
       "      <td>1</td>\n",
       "    </tr>\n",
       "    <tr>\n",
       "      <th>3</th>\n",
       "      <td>2</td>\n",
       "      <td>31</td>\n",
       "      <td>1</td>\n",
       "      <td>NaN</td>\n",
       "      <td>1</td>\n",
       "      <td>2</td>\n",
       "      <td>2</td>\n",
       "      <td>2</td>\n",
       "      <td>2</td>\n",
       "      <td>2</td>\n",
       "      <td>2</td>\n",
       "      <td>2</td>\n",
       "      <td>2</td>\n",
       "      <td>2</td>\n",
       "      <td>0.7</td>\n",
       "      <td>46.0</td>\n",
       "      <td>52.0</td>\n",
       "      <td>4.0</td>\n",
       "      <td>80.0</td>\n",
       "      <td>1</td>\n",
       "    </tr>\n",
       "    <tr>\n",
       "      <th>4</th>\n",
       "      <td>2</td>\n",
       "      <td>34</td>\n",
       "      <td>1</td>\n",
       "      <td>2</td>\n",
       "      <td>2</td>\n",
       "      <td>2</td>\n",
       "      <td>2</td>\n",
       "      <td>2</td>\n",
       "      <td>2</td>\n",
       "      <td>2</td>\n",
       "      <td>2</td>\n",
       "      <td>2</td>\n",
       "      <td>2</td>\n",
       "      <td>2</td>\n",
       "      <td>1.0</td>\n",
       "      <td>NaN</td>\n",
       "      <td>200.0</td>\n",
       "      <td>4.0</td>\n",
       "      <td>NaN</td>\n",
       "      <td>1</td>\n",
       "    </tr>\n",
       "  </tbody>\n",
       "</table>\n",
       "</div>"
      ],
      "text/plain": [
       "  class  age sex steroid antivirals fatigue malaise anorexia liver_big  \\\n",
       "0     2   30   2       1          2       2       2        2         1   \n",
       "1     2   50   1       1          2       1       2        2         1   \n",
       "2     2   39   1       2          2       1       2        2         2   \n",
       "3     2   31   1     NaN          1       2       2        2         2   \n",
       "4     2   34   1       2          2       2       2        2         2   \n",
       "\n",
       "  liver_firm spleen_palpable spiders ascites varices  bilirubin  \\\n",
       "0          2               2       2       2       2        1.0   \n",
       "1          2               2       2       2       2        0.9   \n",
       "2          2               2       2       2       2        0.7   \n",
       "3          2               2       2       2       2        0.7   \n",
       "4          2               2       2       2       2        1.0   \n",
       "\n",
       "   alk_phosphate   sgot  albumin  protime histology  \n",
       "0           85.0   18.0      4.0      NaN         1  \n",
       "1          135.0   42.0      3.5      NaN         1  \n",
       "2           96.0   32.0      4.0      NaN         1  \n",
       "3           46.0   52.0      4.0     80.0         1  \n",
       "4            NaN  200.0      4.0      NaN         1  "
      ]
     },
     "execution_count": 93,
     "metadata": {},
     "output_type": "execute_result"
    }
   ],
   "source": [
    "df.alk_phosphate = df.alk_phosphate.round().astype(float)\n",
    "df.sgot = df.sgot.round().astype(float)\n",
    "df.protime = np.round(df.protime)\n",
    "df.bilirubin = np.round(df.bilirubin,2)\n",
    "df.albumin = np.round(df.albumin,2)\n",
    "\n",
    "df.head(5)"
   ]
  },
  {
   "cell_type": "code",
   "execution_count": 94,
   "id": "15d6ed54",
   "metadata": {},
   "outputs": [],
   "source": [
    "# saving the dataframe\n",
    "df.to_csv('hepatitis5_outlier_percentile_median.csv', index=False)"
   ]
  },
  {
   "cell_type": "code",
   "execution_count": null,
   "id": "70db0c1c",
   "metadata": {},
   "outputs": [],
   "source": []
  }
 ],
 "metadata": {
  "kernelspec": {
   "display_name": "Python 3 (ipykernel)",
   "language": "python",
   "name": "python3"
  },
  "language_info": {
   "codemirror_mode": {
    "name": "ipython",
    "version": 3
   },
   "file_extension": ".py",
   "mimetype": "text/x-python",
   "name": "python",
   "nbconvert_exporter": "python",
   "pygments_lexer": "ipython3",
   "version": "3.8.13"
  }
 },
 "nbformat": 4,
 "nbformat_minor": 5
}
